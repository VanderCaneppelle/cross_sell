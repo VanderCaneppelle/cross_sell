{
 "cells": [
  {
   "cell_type": "code",
   "execution_count": 6,
   "id": "7b77477f",
   "metadata": {
    "ExecuteTime": {
     "end_time": "2022-07-28T23:04:06.978861Z",
     "start_time": "2022-07-28T23:04:06.973156Z"
    }
   },
   "outputs": [],
   "source": [
    "import psycopg2 as pg"
   ]
  },
  {
   "cell_type": "markdown",
   "id": "8f9d69c3",
   "metadata": {},
   "source": [
    "# Passo 0 - Set Credentials"
   ]
  },
  {
   "cell_type": "code",
   "execution_count": 29,
   "id": "03779d9f",
   "metadata": {
    "ExecuteTime": {
     "end_time": "2022-07-28T23:17:56.481621Z",
     "start_time": "2022-07-28T23:17:56.471221Z"
    }
   },
   "outputs": [],
   "source": [
    "# Credentials\n",
    "host = 'comunidade-ds-postgres.c50pcakiuwi3.us-east-1.rds.amazonaws.com'\n",
    "port = 5432\n",
    "database = 'comunidadedsdb'\n",
    "username = 'member'\n",
    "pwd = 'cdspa'"
   ]
  },
  {
   "cell_type": "markdown",
   "id": "44b15d39",
   "metadata": {},
   "source": [
    "# Passo 1 - Criar conexão - conn "
   ]
  },
  {
   "cell_type": "code",
   "execution_count": 49,
   "id": "5afee048",
   "metadata": {
    "ExecuteTime": {
     "end_time": "2022-07-28T23:54:26.293298Z",
     "start_time": "2022-07-28T23:54:25.324631Z"
    }
   },
   "outputs": [],
   "source": [
    "conn = pg.connect( user=username,\n",
    "                   password=pwd,\n",
    "                   host=host,\n",
    "                   port=port,\n",
    "                   database=database )"
   ]
  },
  {
   "cell_type": "markdown",
   "id": "1037ba6d",
   "metadata": {},
   "source": [
    "# Passo 2 - Criar cursor \n",
    "**Cursor é um ponteiro que vai apontar para onde estão meus dados, após isso podemos criar as queries**"
   ]
  },
  {
   "cell_type": "code",
   "execution_count": 41,
   "id": "274547f5",
   "metadata": {
    "ExecuteTime": {
     "end_time": "2022-07-28T23:51:14.729717Z",
     "start_time": "2022-07-28T23:51:14.724750Z"
    }
   },
   "outputs": [],
   "source": [
    "cursor = conn.cursor()"
   ]
  },
  {
   "cell_type": "markdown",
   "id": "533db926",
   "metadata": {},
   "source": [
    "# Passo 3 - Criação/execução das queries\n",
    "**SEMPRE FECHAR A CONEXÃO APÓS USO DO DATABASE**"
   ]
  },
  {
   "cell_type": "code",
   "execution_count": 42,
   "id": "05b7be87",
   "metadata": {
    "ExecuteTime": {
     "end_time": "2022-07-28T23:51:16.274814Z",
     "start_time": "2022-07-28T23:51:15.956290Z"
    }
   },
   "outputs": [
    {
     "name": "stdout",
     "output_type": "stream",
     "text": [
      "[('users',), ('vehicle',), ('insurance',)]\n"
     ]
    }
   ],
   "source": [
    "query_tables = \"\"\"\n",
    "    SELECT tablename\n",
    "    FROM pg_tables\n",
    "    WHERE schemaname = 'pa004'\n",
    "\"\"\"\n",
    "\n",
    "cursor.execute(query_tables)\n",
    "\n",
    "record = cursor.fetchall()\n",
    "print(record)\n",
    "\n",
    "cursor.close()\n",
    "conn.close()"
   ]
  },
  {
   "cell_type": "markdown",
   "id": "0946078a",
   "metadata": {
    "ExecuteTime": {
     "end_time": "2022-07-28T23:13:35.498107Z",
     "start_time": "2022-07-28T23:13:35.446023Z"
    }
   },
   "source": [
    "# Collect Data using Psycopg2 "
   ]
  },
  {
   "cell_type": "code",
   "execution_count": 45,
   "id": "ec251152",
   "metadata": {
    "ExecuteTime": {
     "end_time": "2022-07-28T23:51:33.593153Z",
     "start_time": "2022-07-28T23:51:33.255212Z"
    }
   },
   "outputs": [
    {
     "name": "stdout",
     "output_type": "stream",
     "text": [
      "[(2, 'Male', 76, 3.0, 26.0), (3, 'Male', 47, 28.0, 26.0), (8, 'Female', 56, 28.0, 26.0), (11, 'Female', 47, 35.0, 124.0), (14, 'Male', 76, 28.0, 13.0), (15, 'Male', 71, 28.0, 30.0), (20, 'Female', 60, 33.0, 124.0), (21, 'Male', 65, 28.0, 124.0), (22, 'Male', 49, 28.0, 124.0), (27, 'Female', 51, 28.0, 124.0)]\n"
     ]
    }
   ],
   "source": [
    "cursor = conn.cursor()\n",
    "\n",
    "query_table_users = \"\"\"\n",
    "    SELECT *\n",
    "    FROM pa004.users u\n",
    "    WHERE u.age > 44\n",
    "    LIMIT 10\n",
    "\"\"\"\n",
    "\n",
    "cursor.execute(query_table_users)\n",
    "\n",
    "record = cursor.fetchall()\n",
    "print(record)\n",
    "\n",
    "cursor.close()\n",
    "conn.close()"
   ]
  },
  {
   "cell_type": "code",
   "execution_count": 46,
   "id": "a994f691",
   "metadata": {
    "ExecuteTime": {
     "end_time": "2022-07-28T23:52:35.017859Z",
     "start_time": "2022-07-28T23:52:34.687579Z"
    }
   },
   "outputs": [],
   "source": [
    "import pandas as pd"
   ]
  },
  {
   "cell_type": "markdown",
   "id": "b79707b9",
   "metadata": {
    "ExecuteTime": {
     "end_time": "2022-07-28T23:13:35.498107Z",
     "start_time": "2022-07-28T23:13:35.446023Z"
    }
   },
   "source": [
    "# Collect Data using Pandas "
   ]
  },
  {
   "cell_type": "code",
   "execution_count": 53,
   "id": "7e0c3e31",
   "metadata": {
    "ExecuteTime": {
     "end_time": "2022-07-28T23:57:28.834982Z",
     "start_time": "2022-07-28T23:57:28.828967Z"
    }
   },
   "outputs": [],
   "source": [
    "query_table_users = \"\"\"\n",
    "    SELECT *\n",
    "    FROM pa004.users u LEFT JOIN pa004.vehicle v ON ( u.id = v.id)\n",
    "                       LEFT JOIN pa004.insurance i ON ( u.id = i.id)\n",
    "\"\"\""
   ]
  },
  {
   "cell_type": "code",
   "execution_count": 56,
   "id": "418bae2e",
   "metadata": {
    "ExecuteTime": {
     "end_time": "2022-07-28T23:58:56.109396Z",
     "start_time": "2022-07-28T23:58:51.058463Z"
    }
   },
   "outputs": [
    {
     "name": "stderr",
     "output_type": "stream",
     "text": [
      "/home/vander/.pyenv/versions/3.10.1/envs/cross-sell/lib/python3.10/site-packages/pandas/io/sql.py:761: UserWarning: pandas only support SQLAlchemy connectable(engine/connection) ordatabase string URI or sqlite3 DBAPI2 connectionother DBAPI2 objects are not tested, please consider using SQLAlchemy\n",
      "  warnings.warn(\n"
     ]
    },
    {
     "data": {
      "text/plain": [
       "(381109, 11)"
      ]
     },
     "execution_count": 56,
     "metadata": {},
     "output_type": "execute_result"
    }
   ],
   "source": [
    "df = pd.read_sql(query_table_users,conn)\n",
    "df = df.drop(df.columns[[5,9]],axis=1)\n",
    "\n",
    "df.shape"
   ]
  },
  {
   "cell_type": "code",
   "execution_count": 60,
   "id": "f5124d56",
   "metadata": {
    "ExecuteTime": {
     "end_time": "2022-07-29T00:05:50.207481Z",
     "start_time": "2022-07-29T00:05:50.127137Z"
    }
   },
   "outputs": [
    {
     "data": {
      "text/html": [
       "<div>\n",
       "<style scoped>\n",
       "    .dataframe tbody tr th:only-of-type {\n",
       "        vertical-align: middle;\n",
       "    }\n",
       "\n",
       "    .dataframe tbody tr th {\n",
       "        vertical-align: top;\n",
       "    }\n",
       "\n",
       "    .dataframe thead th {\n",
       "        text-align: right;\n",
       "    }\n",
       "</style>\n",
       "<table border=\"1\" class=\"dataframe\">\n",
       "  <thead>\n",
       "    <tr style=\"text-align: right;\">\n",
       "      <th></th>\n",
       "      <th>gender</th>\n",
       "      <th>age</th>\n",
       "      <th>region_code</th>\n",
       "      <th>policy_sales_channel</th>\n",
       "      <th>driving_license</th>\n",
       "      <th>vehicle_age</th>\n",
       "      <th>vehicle_damage</th>\n",
       "      <th>previously_insured</th>\n",
       "      <th>annual_premium</th>\n",
       "      <th>vintage</th>\n",
       "      <th>response</th>\n",
       "    </tr>\n",
       "  </thead>\n",
       "  <tbody>\n",
       "    <tr>\n",
       "      <th>326320</th>\n",
       "      <td>Male</td>\n",
       "      <td>52</td>\n",
       "      <td>41.0</td>\n",
       "      <td>26.0</td>\n",
       "      <td>1</td>\n",
       "      <td>1-2 Year</td>\n",
       "      <td>Yes</td>\n",
       "      <td>0</td>\n",
       "      <td>35772.0</td>\n",
       "      <td>240</td>\n",
       "      <td>1</td>\n",
       "    </tr>\n",
       "    <tr>\n",
       "      <th>134549</th>\n",
       "      <td>Male</td>\n",
       "      <td>54</td>\n",
       "      <td>11.0</td>\n",
       "      <td>26.0</td>\n",
       "      <td>1</td>\n",
       "      <td>1-2 Year</td>\n",
       "      <td>No</td>\n",
       "      <td>1</td>\n",
       "      <td>43641.0</td>\n",
       "      <td>164</td>\n",
       "      <td>0</td>\n",
       "    </tr>\n",
       "    <tr>\n",
       "      <th>186539</th>\n",
       "      <td>Male</td>\n",
       "      <td>29</td>\n",
       "      <td>45.0</td>\n",
       "      <td>157.0</td>\n",
       "      <td>1</td>\n",
       "      <td>1-2 Year</td>\n",
       "      <td>Yes</td>\n",
       "      <td>0</td>\n",
       "      <td>26082.0</td>\n",
       "      <td>24</td>\n",
       "      <td>0</td>\n",
       "    </tr>\n",
       "    <tr>\n",
       "      <th>268345</th>\n",
       "      <td>Male</td>\n",
       "      <td>76</td>\n",
       "      <td>28.0</td>\n",
       "      <td>26.0</td>\n",
       "      <td>1</td>\n",
       "      <td>1-2 Year</td>\n",
       "      <td>No</td>\n",
       "      <td>1</td>\n",
       "      <td>50472.0</td>\n",
       "      <td>89</td>\n",
       "      <td>0</td>\n",
       "    </tr>\n",
       "    <tr>\n",
       "      <th>100662</th>\n",
       "      <td>Female</td>\n",
       "      <td>44</td>\n",
       "      <td>28.0</td>\n",
       "      <td>26.0</td>\n",
       "      <td>1</td>\n",
       "      <td>&gt; 2 Years</td>\n",
       "      <td>Yes</td>\n",
       "      <td>0</td>\n",
       "      <td>2630.0</td>\n",
       "      <td>167</td>\n",
       "      <td>1</td>\n",
       "    </tr>\n",
       "    <tr>\n",
       "      <th>317251</th>\n",
       "      <td>Female</td>\n",
       "      <td>24</td>\n",
       "      <td>21.0</td>\n",
       "      <td>152.0</td>\n",
       "      <td>1</td>\n",
       "      <td>&lt; 1 Year</td>\n",
       "      <td>No</td>\n",
       "      <td>1</td>\n",
       "      <td>30818.0</td>\n",
       "      <td>244</td>\n",
       "      <td>0</td>\n",
       "    </tr>\n",
       "    <tr>\n",
       "      <th>7887</th>\n",
       "      <td>Male</td>\n",
       "      <td>51</td>\n",
       "      <td>28.0</td>\n",
       "      <td>122.0</td>\n",
       "      <td>1</td>\n",
       "      <td>1-2 Year</td>\n",
       "      <td>Yes</td>\n",
       "      <td>0</td>\n",
       "      <td>50179.0</td>\n",
       "      <td>119</td>\n",
       "      <td>0</td>\n",
       "    </tr>\n",
       "    <tr>\n",
       "      <th>62757</th>\n",
       "      <td>Female</td>\n",
       "      <td>46</td>\n",
       "      <td>28.0</td>\n",
       "      <td>124.0</td>\n",
       "      <td>1</td>\n",
       "      <td>1-2 Year</td>\n",
       "      <td>Yes</td>\n",
       "      <td>0</td>\n",
       "      <td>30449.0</td>\n",
       "      <td>36</td>\n",
       "      <td>0</td>\n",
       "    </tr>\n",
       "    <tr>\n",
       "      <th>279162</th>\n",
       "      <td>Female</td>\n",
       "      <td>66</td>\n",
       "      <td>28.0</td>\n",
       "      <td>124.0</td>\n",
       "      <td>1</td>\n",
       "      <td>1-2 Year</td>\n",
       "      <td>No</td>\n",
       "      <td>1</td>\n",
       "      <td>45464.0</td>\n",
       "      <td>254</td>\n",
       "      <td>0</td>\n",
       "    </tr>\n",
       "    <tr>\n",
       "      <th>376415</th>\n",
       "      <td>Female</td>\n",
       "      <td>27</td>\n",
       "      <td>28.0</td>\n",
       "      <td>152.0</td>\n",
       "      <td>1</td>\n",
       "      <td>&lt; 1 Year</td>\n",
       "      <td>No</td>\n",
       "      <td>1</td>\n",
       "      <td>38590.0</td>\n",
       "      <td>107</td>\n",
       "      <td>0</td>\n",
       "    </tr>\n",
       "    <tr>\n",
       "      <th>304812</th>\n",
       "      <td>Female</td>\n",
       "      <td>30</td>\n",
       "      <td>15.0</td>\n",
       "      <td>152.0</td>\n",
       "      <td>1</td>\n",
       "      <td>&lt; 1 Year</td>\n",
       "      <td>No</td>\n",
       "      <td>1</td>\n",
       "      <td>23376.0</td>\n",
       "      <td>139</td>\n",
       "      <td>0</td>\n",
       "    </tr>\n",
       "    <tr>\n",
       "      <th>254088</th>\n",
       "      <td>Male</td>\n",
       "      <td>57</td>\n",
       "      <td>28.0</td>\n",
       "      <td>26.0</td>\n",
       "      <td>1</td>\n",
       "      <td>1-2 Year</td>\n",
       "      <td>Yes</td>\n",
       "      <td>0</td>\n",
       "      <td>36721.0</td>\n",
       "      <td>91</td>\n",
       "      <td>0</td>\n",
       "    </tr>\n",
       "    <tr>\n",
       "      <th>58675</th>\n",
       "      <td>Female</td>\n",
       "      <td>48</td>\n",
       "      <td>28.0</td>\n",
       "      <td>26.0</td>\n",
       "      <td>1</td>\n",
       "      <td>1-2 Year</td>\n",
       "      <td>No</td>\n",
       "      <td>1</td>\n",
       "      <td>29605.0</td>\n",
       "      <td>42</td>\n",
       "      <td>0</td>\n",
       "    </tr>\n",
       "    <tr>\n",
       "      <th>77340</th>\n",
       "      <td>Female</td>\n",
       "      <td>49</td>\n",
       "      <td>28.0</td>\n",
       "      <td>26.0</td>\n",
       "      <td>1</td>\n",
       "      <td>1-2 Year</td>\n",
       "      <td>Yes</td>\n",
       "      <td>0</td>\n",
       "      <td>43855.0</td>\n",
       "      <td>275</td>\n",
       "      <td>0</td>\n",
       "    </tr>\n",
       "    <tr>\n",
       "      <th>350720</th>\n",
       "      <td>Female</td>\n",
       "      <td>62</td>\n",
       "      <td>29.0</td>\n",
       "      <td>124.0</td>\n",
       "      <td>1</td>\n",
       "      <td>1-2 Year</td>\n",
       "      <td>Yes</td>\n",
       "      <td>0</td>\n",
       "      <td>22828.0</td>\n",
       "      <td>80</td>\n",
       "      <td>0</td>\n",
       "    </tr>\n",
       "  </tbody>\n",
       "</table>\n",
       "</div>"
      ],
      "text/plain": [
       "        gender  age  region_code  policy_sales_channel  driving_license  \\\n",
       "326320    Male   52         41.0                  26.0                1   \n",
       "134549    Male   54         11.0                  26.0                1   \n",
       "186539    Male   29         45.0                 157.0                1   \n",
       "268345    Male   76         28.0                  26.0                1   \n",
       "100662  Female   44         28.0                  26.0                1   \n",
       "317251  Female   24         21.0                 152.0                1   \n",
       "7887      Male   51         28.0                 122.0                1   \n",
       "62757   Female   46         28.0                 124.0                1   \n",
       "279162  Female   66         28.0                 124.0                1   \n",
       "376415  Female   27         28.0                 152.0                1   \n",
       "304812  Female   30         15.0                 152.0                1   \n",
       "254088    Male   57         28.0                  26.0                1   \n",
       "58675   Female   48         28.0                  26.0                1   \n",
       "77340   Female   49         28.0                  26.0                1   \n",
       "350720  Female   62         29.0                 124.0                1   \n",
       "\n",
       "       vehicle_age vehicle_damage  previously_insured  annual_premium  \\\n",
       "326320    1-2 Year            Yes                   0         35772.0   \n",
       "134549    1-2 Year             No                   1         43641.0   \n",
       "186539    1-2 Year            Yes                   0         26082.0   \n",
       "268345    1-2 Year             No                   1         50472.0   \n",
       "100662   > 2 Years            Yes                   0          2630.0   \n",
       "317251    < 1 Year             No                   1         30818.0   \n",
       "7887      1-2 Year            Yes                   0         50179.0   \n",
       "62757     1-2 Year            Yes                   0         30449.0   \n",
       "279162    1-2 Year             No                   1         45464.0   \n",
       "376415    < 1 Year             No                   1         38590.0   \n",
       "304812    < 1 Year             No                   1         23376.0   \n",
       "254088    1-2 Year            Yes                   0         36721.0   \n",
       "58675     1-2 Year             No                   1         29605.0   \n",
       "77340     1-2 Year            Yes                   0         43855.0   \n",
       "350720    1-2 Year            Yes                   0         22828.0   \n",
       "\n",
       "        vintage  response  \n",
       "326320      240         1  \n",
       "134549      164         0  \n",
       "186539       24         0  \n",
       "268345       89         0  \n",
       "100662      167         1  \n",
       "317251      244         0  \n",
       "7887        119         0  \n",
       "62757        36         0  \n",
       "279162      254         0  \n",
       "376415      107         0  \n",
       "304812      139         0  \n",
       "254088       91         0  \n",
       "58675        42         0  \n",
       "77340       275         0  \n",
       "350720       80         0  "
      ]
     },
     "execution_count": 60,
     "metadata": {},
     "output_type": "execute_result"
    }
   ],
   "source": [
    "df.sample(15)"
   ]
  },
  {
   "cell_type": "code",
   "execution_count": null,
   "id": "dda9d6c4",
   "metadata": {},
   "outputs": [],
   "source": []
  }
 ],
 "metadata": {
  "kernelspec": {
   "display_name": "Python 3 (ipykernel)",
   "language": "python",
   "name": "python3"
  },
  "language_info": {
   "codemirror_mode": {
    "name": "ipython",
    "version": 3
   },
   "file_extension": ".py",
   "mimetype": "text/x-python",
   "name": "python",
   "nbconvert_exporter": "python",
   "pygments_lexer": "ipython3",
   "version": "3.10.1"
  }
 },
 "nbformat": 4,
 "nbformat_minor": 5
}
