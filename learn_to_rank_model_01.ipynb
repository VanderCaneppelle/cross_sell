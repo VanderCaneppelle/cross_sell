{
 "cells": [
  {
   "cell_type": "markdown",
   "id": "f3a8895d",
   "metadata": {},
   "source": [
    "# 0.0 IMPORTS "
   ]
  },
  {
   "cell_type": "code",
   "execution_count": 2,
   "id": "a994f691",
   "metadata": {
    "ExecuteTime": {
     "end_time": "2022-08-08T23:19:48.049392Z",
     "start_time": "2022-08-08T23:19:48.040405Z"
    }
   },
   "outputs": [],
   "source": [
    "import pandas as pd\n",
    "# import psycopg2 as pg\n",
    "import seaborn as sns\n",
    "import pickle\n",
    "import scikitplot as skplt\n",
    "import matplotlib.patches as mpatches\n",
    "from datetime import date\n",
    "import datetime\n",
    "\n",
    "from sklearn import model_selection as ms\n",
    "from sklearn import ensemble as en\n",
    "from sklearn import neighbors as nh\n",
    "from sklearn import linear_model as lm\n",
    "\n",
    "from matplotlib import pyplot as plt\n",
    "from IPython.core.display  import HTML\n",
    "from IPython.display       import Image\n",
    "\n",
    "from sklearn import preprocessing as pp"
   ]
  },
  {
   "cell_type": "markdown",
   "id": "516716ac",
   "metadata": {
    "heading_collapsed": true
   },
   "source": [
    "### 0.0.1 Helper Functions\n"
   ]
  },
  {
   "cell_type": "code",
   "execution_count": 3,
   "id": "638fd91b",
   "metadata": {
    "ExecuteTime": {
     "end_time": "2022-08-08T22:52:56.938145Z",
     "start_time": "2022-08-08T22:52:56.887140Z"
    },
    "hidden": true
   },
   "outputs": [],
   "source": [
    "def jupyter_settings():\n",
    "    %matplotlib inline\n",
    "    %pylab inline\n",
    "    \n",
    "    \n",
    "    plt.style.use( 'bmh' )\n",
    "    plt.rcParams['figure.figsize'] = [15, 8]\n",
    "    plt.rcParams['font.size'] = 24\n",
    "    \n",
    "    display( HTML( '<style>.container { width:100% !important; }</style>') )\n",
    " #   pd.options.display.max_columns = None\n",
    " #   pd.options.display.max_rows = None\n",
    "    pd.set_option( 'display.expand_frame_repr', False )\n",
    "    sns.set()\n",
    "    \n",
    "    # Central Tendency -  media e mediana - são metricas de tendência central (central tendency)\n",
    "\n",
    "def descriptive_statistical(x):\n",
    "    ct1 = pd.DataFrame( x.apply(np.mean)).T\n",
    "    ct2 = pd.DataFrame( x.apply(np.median)).T\n",
    "    \n",
    "    # Dispersion - desvio padrão, variância, range. min, max, skew, curtosis  - são metricas de dispersão\n",
    "    d1 = pd.DataFrame( x.apply( np.std ) ).T\n",
    "    d2 = pd.DataFrame( x.apply( min )).T\n",
    "    d3 = pd.DataFrame( x.apply( max )).T\n",
    "    d4 = pd.DataFrame( x.apply(lambda x: x.max() -  x.min() ) ).T\n",
    "    d5 = pd.DataFrame( x.apply(lambda x: x.skew() ) ).T\n",
    "    d6= pd.DataFrame( x.apply(lambda x: x.kurtosis() ) ).T\n",
    "                      \n",
    "    #concatenate\n",
    "    m = pd.concat([d2, d3, d4, ct1, ct2, d1, d5, d6]).T.reset_index()\n",
    "    m.columns = ['attributes','min','max','range','mean','median','std','skew','Kurtosis',]\n",
    "    \n",
    "    return m\n",
    "\n",
    "def cramer_v ( x,y ):\n",
    "    cm= pd.crosstab(x,y).values\n",
    "    n = cm.sum()\n",
    "    r,k = cm.shape\n",
    "    \n",
    "    chi2 = ss.chi2_contingency( cm )[0]\n",
    "    chi2corr = max(0, chi2 - (k-1)*(r-1)/(n-1) )\n",
    "    \n",
    "    kcorr= k - (k-1)**2 / (n-1)\n",
    "    rcorr= r - (r-1)**2 / (n-1)\n",
    "    \n",
    "        \n",
    "    return np.sqrt( ( chi2corr/n ) / ( min( kcorr-1, rcorr-1 ) ) )\n"
   ]
  },
  {
   "cell_type": "code",
   "execution_count": 4,
   "id": "9a2f853a",
   "metadata": {
    "ExecuteTime": {
     "end_time": "2022-08-08T19:12:13.295552Z",
     "start_time": "2022-08-08T19:12:13.270972Z"
    },
    "hidden": true
   },
   "outputs": [
    {
     "name": "stdout",
     "output_type": "stream",
     "text": [
      "%pylab is deprecated, use %matplotlib inline and import the required libraries.\n",
      "Populating the interactive namespace from numpy and matplotlib\n"
     ]
    },
    {
     "data": {
      "text/html": [
       "<style>.container { width:100% !important; }</style>"
      ],
      "text/plain": [
       "<IPython.core.display.HTML object>"
      ]
     },
     "metadata": {},
     "output_type": "display_data"
    }
   ],
   "source": [
    "jupyter_settings()"
   ]
  },
  {
   "cell_type": "markdown",
   "id": "ef2cd92b",
   "metadata": {
    "heading_collapsed": true
   },
   "source": [
    "## 0.1 Database Conection"
   ]
  },
  {
   "cell_type": "markdown",
   "id": "8f9d69c3",
   "metadata": {
    "heading_collapsed": true,
    "hidden": true
   },
   "source": [
    "### 0.1.1 Set Credentials"
   ]
  },
  {
   "cell_type": "code",
   "execution_count": 4,
   "id": "03779d9f",
   "metadata": {
    "ExecuteTime": {
     "end_time": "2022-08-02T14:19:19.100375Z",
     "start_time": "2022-08-02T14:19:19.090375Z"
    },
    "hidden": true
   },
   "outputs": [],
   "source": [
    "# # Credentials\n",
    "# host = 'comunidade-ds-postgres.c50pcakiuwi3.us-east-1.rds.amazonaws.com'\n",
    "# port = 5432\n",
    "# database = 'comunidadedsdb'\n",
    "# username = 'member'\n",
    "# pwd = 'cdspa'"
   ]
  },
  {
   "cell_type": "markdown",
   "id": "44b15d39",
   "metadata": {
    "heading_collapsed": true,
    "hidden": true
   },
   "source": [
    "### 0.1.2 Criar conexão - conn "
   ]
  },
  {
   "cell_type": "code",
   "execution_count": 5,
   "id": "5afee048",
   "metadata": {
    "ExecuteTime": {
     "end_time": "2022-08-02T14:19:19.799940Z",
     "start_time": "2022-08-02T14:19:19.103373Z"
    },
    "hidden": true
   },
   "outputs": [
    {
     "ename": "NameError",
     "evalue": "name 'pg' is not defined",
     "output_type": "error",
     "traceback": [
      "\u001b[1;31m---------------------------------------------------------------------------\u001b[0m",
      "\u001b[1;31mNameError\u001b[0m                                 Traceback (most recent call last)",
      "Input \u001b[1;32mIn [5]\u001b[0m, in \u001b[0;36m<cell line: 1>\u001b[1;34m()\u001b[0m\n\u001b[1;32m----> 1\u001b[0m conn \u001b[38;5;241m=\u001b[39m \u001b[43mpg\u001b[49m\u001b[38;5;241m.\u001b[39mconnect( user\u001b[38;5;241m=\u001b[39musername,\n\u001b[0;32m      2\u001b[0m                    password\u001b[38;5;241m=\u001b[39mpwd,\n\u001b[0;32m      3\u001b[0m                    host\u001b[38;5;241m=\u001b[39mhost,\n\u001b[0;32m      4\u001b[0m                    port\u001b[38;5;241m=\u001b[39mport,\n\u001b[0;32m      5\u001b[0m                    database\u001b[38;5;241m=\u001b[39mdatabase )\n",
      "\u001b[1;31mNameError\u001b[0m: name 'pg' is not defined"
     ]
    }
   ],
   "source": [
    "# conn = pg.connect( user=username,\n",
    "#                    password=pwd,\n",
    "#                    host=host,\n",
    "#                    port=port,\n",
    "#                    database=database )"
   ]
  },
  {
   "cell_type": "markdown",
   "id": "1037ba6d",
   "metadata": {
    "heading_collapsed": true,
    "hidden": true
   },
   "source": [
    "###  0.1.3  Criar cursor \n",
    "**Cursor é um ponteiro que vai apontar para onde estão meus dados, após isso podemos criar as queries**"
   ]
  },
  {
   "cell_type": "code",
   "execution_count": 13,
   "id": "274547f5",
   "metadata": {
    "ExecuteTime": {
     "end_time": "2022-08-02T14:19:57.112639Z",
     "start_time": "2022-08-02T14:19:57.095564Z"
    },
    "hidden": true
   },
   "outputs": [],
   "source": [
    "# cursor = conn.cursor()"
   ]
  },
  {
   "cell_type": "markdown",
   "id": "533db926",
   "metadata": {
    "heading_collapsed": true,
    "hidden": true
   },
   "source": [
    "### 0.1.4 Criação/execução das queries\n",
    "**SEMPRE FECHAR A CONEXÃO APÓS USO DO DATABASE**"
   ]
  },
  {
   "cell_type": "code",
   "execution_count": 14,
   "id": "05b7be87",
   "metadata": {
    "ExecuteTime": {
     "end_time": "2022-08-02T14:19:58.030879Z",
     "start_time": "2022-08-02T14:19:58.011196Z"
    },
    "hidden": true
   },
   "outputs": [],
   "source": [
    "# query_tables = \"\"\"\n",
    "#     SELECT tablename\n",
    "#     FROM pg_tables\n",
    "#     WHERE schemaname = 'pa004'\n",
    "# \"\"\"\n",
    "\n",
    "# cursor.execute(query_tables)\n",
    "\n",
    "# record = cursor.fetchall()\n",
    "# print(record)\n",
    "\n",
    "# cursor.close()\n",
    "# conn.close()"
   ]
  },
  {
   "cell_type": "markdown",
   "id": "0946078a",
   "metadata": {
    "ExecuteTime": {
     "end_time": "2022-07-28T23:13:35.498107Z",
     "start_time": "2022-07-28T23:13:35.446023Z"
    },
    "heading_collapsed": true,
    "hidden": true
   },
   "source": [
    "### 0.1.5 Collect Data using Psycopg2 "
   ]
  },
  {
   "cell_type": "code",
   "execution_count": 15,
   "id": "ec251152",
   "metadata": {
    "ExecuteTime": {
     "end_time": "2022-08-02T14:20:00.830425Z",
     "start_time": "2022-08-02T14:20:00.814424Z"
    },
    "hidden": true
   },
   "outputs": [],
   "source": [
    "# cursor = conn.cursor()\n",
    "\n",
    "# query_table_users = \"\"\"\n",
    "#     SELECT *\n",
    "#     FROM pa004.users u\n",
    "#     WHERE u.age > 44\n",
    "#     LIMIT 10\n",
    "# \"\"\"\n",
    "\n",
    "# cursor.execute(query_table_users)\n",
    "\n",
    "# record = cursor.fetchall()\n",
    "# print(record)\n",
    "\n",
    "# cursor.close()\n",
    "# conn.close()"
   ]
  },
  {
   "cell_type": "markdown",
   "id": "b79707b9",
   "metadata": {
    "ExecuteTime": {
     "end_time": "2022-07-28T23:13:35.498107Z",
     "start_time": "2022-07-28T23:13:35.446023Z"
    },
    "hidden": true
   },
   "source": [
    "### 0.1.6 Collect Data using Pandas "
   ]
  },
  {
   "cell_type": "code",
   "execution_count": 4,
   "id": "c2113427",
   "metadata": {
    "ExecuteTime": {
     "end_time": "2022-08-02T14:20:02.196526Z",
     "start_time": "2022-08-02T14:20:02.168932Z"
    },
    "hidden": true
   },
   "outputs": [],
   "source": [
    "# conn = pg.connect( user=username,\n",
    "#                    password=pwd,\n",
    "#                    host=host,\n",
    "#                    port=port,\n",
    "#                    database=database )"
   ]
  },
  {
   "cell_type": "code",
   "execution_count": 5,
   "id": "7e0c3e31",
   "metadata": {
    "ExecuteTime": {
     "end_time": "2022-08-02T14:19:19.823943Z",
     "start_time": "2022-08-02T14:19:19.823943Z"
    },
    "hidden": true
   },
   "outputs": [],
   "source": [
    "# query_table_users = \"\"\"\n",
    "#     SELECT *\n",
    "#     FROM pa004.users u LEFT JOIN pa004.vehicle v ON ( u.id = v.id)\n",
    "#                        LEFT JOIN pa004.insurance i ON ( u.id = i.id)\n",
    "# \"\"\""
   ]
  },
  {
   "cell_type": "code",
   "execution_count": 6,
   "id": "418bae2e",
   "metadata": {
    "ExecuteTime": {
     "end_time": "2022-08-08T19:03:04.603085Z",
     "start_time": "2022-08-08T19:03:04.594085Z"
    },
    "hidden": true
   },
   "outputs": [],
   "source": [
    "# df = pd.read_sql(query_table_users,conn)\n",
    "# df_raw = df.copy()"
   ]
  },
  {
   "cell_type": "markdown",
   "id": "92105bf7",
   "metadata": {
    "heading_collapsed": true
   },
   "source": [
    "## 0.2 Loadind data from csv "
   ]
  },
  {
   "cell_type": "code",
   "execution_count": 5,
   "id": "81666113",
   "metadata": {
    "ExecuteTime": {
     "end_time": "2022-08-08T22:53:01.726535Z",
     "start_time": "2022-08-08T22:53:01.055413Z"
    },
    "hidden": true
   },
   "outputs": [],
   "source": [
    "df0 = pd.read_csv('data/pa004.csv')\n",
    "df0=df0.drop(['id.1','id.2'],axis=1)"
   ]
  },
  {
   "cell_type": "markdown",
   "id": "872c7e30",
   "metadata": {
    "heading_collapsed": true
   },
   "source": [
    "# 1.0 DATA DESCRITION"
   ]
  },
  {
   "cell_type": "code",
   "execution_count": 6,
   "id": "d77a992c",
   "metadata": {
    "ExecuteTime": {
     "end_time": "2022-08-08T22:53:02.736306Z",
     "start_time": "2022-08-08T22:53:02.699318Z"
    },
    "hidden": true
   },
   "outputs": [],
   "source": [
    "#loading csv dataset\n",
    "df1 = df0.copy()"
   ]
  },
  {
   "cell_type": "markdown",
   "id": "87b5adf9",
   "metadata": {
    "hidden": true
   },
   "source": [
    "**Id:** identificador único do cliente.\n",
    "\n",
    "**Gender:** gênero do cliente.\n",
    "\n",
    "**Age:** idade do cliente.\n",
    "\n",
    "**Driving License:** 0, o cliente não tem permissão para dirigir e 1, o cliente tem para dirigir ( CNH – Carteira \n",
    "Nacional de Habilitação )\n",
    "\n",
    "**Region Code:** código da região do cliente.\n",
    "\n",
    "**Previously Insured:** 0, o cliente não tem seguro de automóvel e 1, o cliente já tem seguro de automóvel.\n",
    "\n",
    "**Vehicle Age:** idade do veículo.\n",
    "\n",
    "**Vehicle Damage:** 0, cliente nunca teve seu veículo danificado no passado e 1, cliente já teve seu veículo danificado no passado.\n",
    "\n",
    "**Anual Premium:** quantidade que o cliente pagou à empresa pelo seguro de saúde anual.\n",
    "\n",
    "**Policy sales channel:** código anônimo para o canal de contato com o cliente.\n",
    "\n",
    "**Vintage:** número de dias que o cliente se associou à empresa através da compra do seguro de saúde.\n",
    "\n",
    "**Response:** 0, o cliente não tem interesse e 1, o cliente tem interesse."
   ]
  },
  {
   "cell_type": "markdown",
   "id": "872a7f4f",
   "metadata": {
    "heading_collapsed": true,
    "hidden": true
   },
   "source": [
    "## 1.1 Rename columns"
   ]
  },
  {
   "cell_type": "code",
   "execution_count": 7,
   "id": "06372075",
   "metadata": {
    "ExecuteTime": {
     "end_time": "2022-08-08T22:53:06.370936Z",
     "start_time": "2022-08-08T22:53:06.349925Z"
    },
    "hidden": true
   },
   "outputs": [
    {
     "data": {
      "text/plain": [
       "Index(['id', 'gender', 'age', 'region_code', 'policy_sales_channel',\n",
       "       'driving_license', 'vehicle_age', 'vehicle_damage',\n",
       "       'previously_insured', 'annual_premium', 'vintage', 'response'],\n",
       "      dtype='object')"
      ]
     },
     "execution_count": 7,
     "metadata": {},
     "output_type": "execute_result"
    }
   ],
   "source": [
    "df1.columns"
   ]
  },
  {
   "cell_type": "markdown",
   "id": "27d54322",
   "metadata": {
    "hidden": true
   },
   "source": [
    "**Colums as already in snake_case**"
   ]
  },
  {
   "cell_type": "markdown",
   "id": "531892a1",
   "metadata": {
    "ExecuteTime": {
     "end_time": "2022-07-29T13:42:55.703538Z",
     "start_time": "2022-07-29T13:42:55.698759Z"
    },
    "heading_collapsed": true,
    "hidden": true
   },
   "source": [
    "## 1.2 Data dimensions"
   ]
  },
  {
   "cell_type": "code",
   "execution_count": 8,
   "id": "d4086bb1",
   "metadata": {
    "ExecuteTime": {
     "end_time": "2022-08-08T22:53:09.830554Z",
     "start_time": "2022-08-08T22:53:09.818536Z"
    },
    "hidden": true
   },
   "outputs": [
    {
     "name": "stdout",
     "output_type": "stream",
     "text": [
      "Total de colunas 12\n",
      "Total de linhas 381109\n"
     ]
    }
   ],
   "source": [
    "print(f'Total de colunas {df1.shape[1]}')\n",
    "print(f'Total de linhas {df1.shape[0]}')"
   ]
  },
  {
   "cell_type": "markdown",
   "id": "b08d51c5",
   "metadata": {
    "ExecuteTime": {
     "end_time": "2022-07-29T13:42:55.703538Z",
     "start_time": "2022-07-29T13:42:55.698759Z"
    },
    "heading_collapsed": true,
    "hidden": true
   },
   "source": [
    "## 1.3 Data types"
   ]
  },
  {
   "cell_type": "code",
   "execution_count": 9,
   "id": "6b4ff6f7",
   "metadata": {
    "ExecuteTime": {
     "end_time": "2022-08-08T19:16:51.282738Z",
     "start_time": "2022-08-08T19:16:51.261737Z"
    },
    "hidden": true
   },
   "outputs": [
    {
     "data": {
      "text/plain": [
       "id                        int64\n",
       "gender                   object\n",
       "age                       int64\n",
       "region_code             float64\n",
       "policy_sales_channel    float64\n",
       "driving_license           int64\n",
       "vehicle_age              object\n",
       "vehicle_damage           object\n",
       "previously_insured        int64\n",
       "annual_premium          float64\n",
       "vintage                   int64\n",
       "response                  int64\n",
       "dtype: object"
      ]
     },
     "execution_count": 9,
     "metadata": {},
     "output_type": "execute_result"
    }
   ],
   "source": [
    "df1.dtypes "
   ]
  },
  {
   "cell_type": "code",
   "execution_count": 10,
   "id": "a62b6b52",
   "metadata": {
    "ExecuteTime": {
     "end_time": "2022-08-08T19:17:52.960688Z",
     "start_time": "2022-08-08T19:17:52.934260Z"
    },
    "hidden": true
   },
   "outputs": [
    {
     "data": {
      "text/html": [
       "<div>\n",
       "<style scoped>\n",
       "    .dataframe tbody tr th:only-of-type {\n",
       "        vertical-align: middle;\n",
       "    }\n",
       "\n",
       "    .dataframe tbody tr th {\n",
       "        vertical-align: top;\n",
       "    }\n",
       "\n",
       "    .dataframe thead th {\n",
       "        text-align: right;\n",
       "    }\n",
       "</style>\n",
       "<table border=\"1\" class=\"dataframe\">\n",
       "  <thead>\n",
       "    <tr style=\"text-align: right;\">\n",
       "      <th></th>\n",
       "      <th>id</th>\n",
       "      <th>gender</th>\n",
       "      <th>age</th>\n",
       "      <th>region_code</th>\n",
       "      <th>policy_sales_channel</th>\n",
       "      <th>driving_license</th>\n",
       "      <th>vehicle_age</th>\n",
       "      <th>vehicle_damage</th>\n",
       "      <th>previously_insured</th>\n",
       "      <th>annual_premium</th>\n",
       "      <th>vintage</th>\n",
       "      <th>response</th>\n",
       "    </tr>\n",
       "  </thead>\n",
       "  <tbody>\n",
       "    <tr>\n",
       "      <th>0</th>\n",
       "      <td>7</td>\n",
       "      <td>Male</td>\n",
       "      <td>23</td>\n",
       "      <td>11.0</td>\n",
       "      <td>152.0</td>\n",
       "      <td>1</td>\n",
       "      <td>&lt; 1 Year</td>\n",
       "      <td>Yes</td>\n",
       "      <td>0</td>\n",
       "      <td>23367.0</td>\n",
       "      <td>249</td>\n",
       "      <td>0</td>\n",
       "    </tr>\n",
       "    <tr>\n",
       "      <th>1</th>\n",
       "      <td>13</td>\n",
       "      <td>Female</td>\n",
       "      <td>41</td>\n",
       "      <td>15.0</td>\n",
       "      <td>14.0</td>\n",
       "      <td>1</td>\n",
       "      <td>1-2 Year</td>\n",
       "      <td>No</td>\n",
       "      <td>1</td>\n",
       "      <td>31409.0</td>\n",
       "      <td>221</td>\n",
       "      <td>0</td>\n",
       "    </tr>\n",
       "    <tr>\n",
       "      <th>2</th>\n",
       "      <td>18</td>\n",
       "      <td>Female</td>\n",
       "      <td>25</td>\n",
       "      <td>35.0</td>\n",
       "      <td>152.0</td>\n",
       "      <td>1</td>\n",
       "      <td>&lt; 1 Year</td>\n",
       "      <td>No</td>\n",
       "      <td>1</td>\n",
       "      <td>46622.0</td>\n",
       "      <td>299</td>\n",
       "      <td>0</td>\n",
       "    </tr>\n",
       "    <tr>\n",
       "      <th>3</th>\n",
       "      <td>31</td>\n",
       "      <td>Female</td>\n",
       "      <td>26</td>\n",
       "      <td>8.0</td>\n",
       "      <td>160.0</td>\n",
       "      <td>1</td>\n",
       "      <td>&lt; 1 Year</td>\n",
       "      <td>No</td>\n",
       "      <td>0</td>\n",
       "      <td>2630.0</td>\n",
       "      <td>136</td>\n",
       "      <td>0</td>\n",
       "    </tr>\n",
       "    <tr>\n",
       "      <th>4</th>\n",
       "      <td>39</td>\n",
       "      <td>Male</td>\n",
       "      <td>45</td>\n",
       "      <td>8.0</td>\n",
       "      <td>124.0</td>\n",
       "      <td>1</td>\n",
       "      <td>1-2 Year</td>\n",
       "      <td>Yes</td>\n",
       "      <td>0</td>\n",
       "      <td>42297.0</td>\n",
       "      <td>264</td>\n",
       "      <td>0</td>\n",
       "    </tr>\n",
       "  </tbody>\n",
       "</table>\n",
       "</div>"
      ],
      "text/plain": [
       "   id  gender  age  region_code  policy_sales_channel  driving_license vehicle_age vehicle_damage  previously_insured  annual_premium  vintage  response\n",
       "0   7    Male   23         11.0                 152.0                1    < 1 Year            Yes                   0         23367.0      249         0\n",
       "1  13  Female   41         15.0                  14.0                1    1-2 Year             No                   1         31409.0      221         0\n",
       "2  18  Female   25         35.0                 152.0                1    < 1 Year             No                   1         46622.0      299         0\n",
       "3  31  Female   26          8.0                 160.0                1    < 1 Year             No                   0          2630.0      136         0\n",
       "4  39    Male   45          8.0                 124.0                1    1-2 Year            Yes                   0         42297.0      264         0"
      ]
     },
     "execution_count": 10,
     "metadata": {},
     "output_type": "execute_result"
    }
   ],
   "source": [
    "df1.head(5)"
   ]
  },
  {
   "cell_type": "markdown",
   "id": "d53c4d47",
   "metadata": {
    "ExecuteTime": {
     "end_time": "2022-07-29T14:11:34.649357Z",
     "start_time": "2022-07-29T14:11:34.635321Z"
    },
    "heading_collapsed": true,
    "hidden": true
   },
   "source": [
    "## 1.5 Check NA"
   ]
  },
  {
   "cell_type": "code",
   "execution_count": 11,
   "id": "d620b210",
   "metadata": {
    "ExecuteTime": {
     "end_time": "2022-08-08T22:53:13.613520Z",
     "start_time": "2022-08-08T22:53:13.431471Z"
    },
    "hidden": true
   },
   "outputs": [
    {
     "data": {
      "text/plain": [
       "id                      0\n",
       "gender                  0\n",
       "age                     0\n",
       "region_code             0\n",
       "policy_sales_channel    0\n",
       "driving_license         0\n",
       "vehicle_age             0\n",
       "vehicle_damage          0\n",
       "previously_insured      0\n",
       "annual_premium          0\n",
       "vintage                 0\n",
       "response                0\n",
       "dtype: int64"
      ]
     },
     "execution_count": 11,
     "metadata": {},
     "output_type": "execute_result"
    }
   ],
   "source": [
    "df1.isna().sum()"
   ]
  },
  {
   "cell_type": "markdown",
   "id": "fe7cd078",
   "metadata": {
    "heading_collapsed": true,
    "hidden": true
   },
   "source": [
    "## 1.6 Descriptive statistical"
   ]
  },
  {
   "cell_type": "code",
   "execution_count": 12,
   "id": "1e937290",
   "metadata": {
    "ExecuteTime": {
     "end_time": "2022-08-08T19:24:11.309342Z",
     "start_time": "2022-08-08T19:24:11.296625Z"
    },
    "hidden": true
   },
   "outputs": [],
   "source": [
    "num_attributes=df1[['age','annual_premium', 'vintage','policy_sales_channel','region_code','driving_license','previously_insured']]\n",
    "\n",
    "cat_attributes=(df1.select_dtypes(exclude=['float64', 'int64']))\n"
   ]
  },
  {
   "cell_type": "markdown",
   "id": "b216d6bf",
   "metadata": {
    "heading_collapsed": true,
    "hidden": true
   },
   "source": [
    "### 1.6.1 Numerial Attributes"
   ]
  },
  {
   "cell_type": "code",
   "execution_count": 13,
   "id": "5bef63af",
   "metadata": {
    "ExecuteTime": {
     "end_time": "2022-08-08T20:19:29.216577Z",
     "start_time": "2022-08-08T20:19:28.915664Z"
    },
    "hidden": true,
    "scrolled": true
   },
   "outputs": [
    {
     "data": {
      "text/html": [
       "<div>\n",
       "<style scoped>\n",
       "    .dataframe tbody tr th:only-of-type {\n",
       "        vertical-align: middle;\n",
       "    }\n",
       "\n",
       "    .dataframe tbody tr th {\n",
       "        vertical-align: top;\n",
       "    }\n",
       "\n",
       "    .dataframe thead th {\n",
       "        text-align: right;\n",
       "    }\n",
       "</style>\n",
       "<table border=\"1\" class=\"dataframe\">\n",
       "  <thead>\n",
       "    <tr style=\"text-align: right;\">\n",
       "      <th></th>\n",
       "      <th>attributes</th>\n",
       "      <th>min</th>\n",
       "      <th>max</th>\n",
       "      <th>range</th>\n",
       "      <th>mean</th>\n",
       "      <th>median</th>\n",
       "      <th>std</th>\n",
       "      <th>skew</th>\n",
       "      <th>Kurtosis</th>\n",
       "    </tr>\n",
       "  </thead>\n",
       "  <tbody>\n",
       "    <tr>\n",
       "      <th>0</th>\n",
       "      <td>age</td>\n",
       "      <td>20.0</td>\n",
       "      <td>85.0</td>\n",
       "      <td>65.0</td>\n",
       "      <td>38.822584</td>\n",
       "      <td>36.0</td>\n",
       "      <td>15.511591</td>\n",
       "      <td>0.672539</td>\n",
       "      <td>-0.565655</td>\n",
       "    </tr>\n",
       "    <tr>\n",
       "      <th>1</th>\n",
       "      <td>annual_premium</td>\n",
       "      <td>2630.0</td>\n",
       "      <td>540165.0</td>\n",
       "      <td>537535.0</td>\n",
       "      <td>30564.389581</td>\n",
       "      <td>31669.0</td>\n",
       "      <td>17213.132474</td>\n",
       "      <td>1.766087</td>\n",
       "      <td>34.004569</td>\n",
       "    </tr>\n",
       "    <tr>\n",
       "      <th>2</th>\n",
       "      <td>vintage</td>\n",
       "      <td>10.0</td>\n",
       "      <td>299.0</td>\n",
       "      <td>289.0</td>\n",
       "      <td>154.347397</td>\n",
       "      <td>154.0</td>\n",
       "      <td>83.671194</td>\n",
       "      <td>0.003030</td>\n",
       "      <td>-1.200688</td>\n",
       "    </tr>\n",
       "    <tr>\n",
       "      <th>3</th>\n",
       "      <td>policy_sales_channel</td>\n",
       "      <td>1.0</td>\n",
       "      <td>163.0</td>\n",
       "      <td>162.0</td>\n",
       "      <td>112.034295</td>\n",
       "      <td>133.0</td>\n",
       "      <td>54.203924</td>\n",
       "      <td>-0.900008</td>\n",
       "      <td>-0.970810</td>\n",
       "    </tr>\n",
       "    <tr>\n",
       "      <th>4</th>\n",
       "      <td>region_code</td>\n",
       "      <td>0.0</td>\n",
       "      <td>52.0</td>\n",
       "      <td>52.0</td>\n",
       "      <td>26.388807</td>\n",
       "      <td>28.0</td>\n",
       "      <td>13.229871</td>\n",
       "      <td>-0.115266</td>\n",
       "      <td>-0.867857</td>\n",
       "    </tr>\n",
       "    <tr>\n",
       "      <th>5</th>\n",
       "      <td>driving_license</td>\n",
       "      <td>0.0</td>\n",
       "      <td>1.0</td>\n",
       "      <td>1.0</td>\n",
       "      <td>0.997869</td>\n",
       "      <td>1.0</td>\n",
       "      <td>0.046109</td>\n",
       "      <td>-21.595182</td>\n",
       "      <td>464.354302</td>\n",
       "    </tr>\n",
       "    <tr>\n",
       "      <th>6</th>\n",
       "      <td>previously_insured</td>\n",
       "      <td>0.0</td>\n",
       "      <td>1.0</td>\n",
       "      <td>1.0</td>\n",
       "      <td>0.458210</td>\n",
       "      <td>0.0</td>\n",
       "      <td>0.498251</td>\n",
       "      <td>0.167747</td>\n",
       "      <td>-1.971871</td>\n",
       "    </tr>\n",
       "  </tbody>\n",
       "</table>\n",
       "</div>"
      ],
      "text/plain": [
       "             attributes     min       max     range          mean   median           std       skew    Kurtosis\n",
       "0                   age    20.0      85.0      65.0     38.822584     36.0     15.511591   0.672539   -0.565655\n",
       "1        annual_premium  2630.0  540165.0  537535.0  30564.389581  31669.0  17213.132474   1.766087   34.004569\n",
       "2               vintage    10.0     299.0     289.0    154.347397    154.0     83.671194   0.003030   -1.200688\n",
       "3  policy_sales_channel     1.0     163.0     162.0    112.034295    133.0     54.203924  -0.900008   -0.970810\n",
       "4           region_code     0.0      52.0      52.0     26.388807     28.0     13.229871  -0.115266   -0.867857\n",
       "5       driving_license     0.0       1.0       1.0      0.997869      1.0      0.046109 -21.595182  464.354302\n",
       "6    previously_insured     0.0       1.0       1.0      0.458210      0.0      0.498251   0.167747   -1.971871"
      ]
     },
     "execution_count": 13,
     "metadata": {},
     "output_type": "execute_result"
    }
   ],
   "source": [
    "# função criada para calcular\n",
    "descriptive_statistical(num_attributes)"
   ]
  },
  {
   "cell_type": "markdown",
   "id": "4ac5b726",
   "metadata": {
    "hidden": true
   },
   "source": [
    "### 1.3.2 Categorical Attributes"
   ]
  },
  {
   "cell_type": "code",
   "execution_count": 14,
   "id": "492be0ab",
   "metadata": {
    "ExecuteTime": {
     "end_time": "2022-08-08T20:20:03.381360Z",
     "start_time": "2022-08-08T20:20:03.368220Z"
    },
    "hidden": true
   },
   "outputs": [
    {
     "data": {
      "text/html": [
       "<div>\n",
       "<style scoped>\n",
       "    .dataframe tbody tr th:only-of-type {\n",
       "        vertical-align: middle;\n",
       "    }\n",
       "\n",
       "    .dataframe tbody tr th {\n",
       "        vertical-align: top;\n",
       "    }\n",
       "\n",
       "    .dataframe thead th {\n",
       "        text-align: right;\n",
       "    }\n",
       "</style>\n",
       "<table border=\"1\" class=\"dataframe\">\n",
       "  <thead>\n",
       "    <tr style=\"text-align: right;\">\n",
       "      <th></th>\n",
       "      <th>gender</th>\n",
       "      <th>vehicle_age</th>\n",
       "      <th>vehicle_damage</th>\n",
       "    </tr>\n",
       "  </thead>\n",
       "  <tbody>\n",
       "    <tr>\n",
       "      <th>0</th>\n",
       "      <td>Male</td>\n",
       "      <td>&lt; 1 Year</td>\n",
       "      <td>Yes</td>\n",
       "    </tr>\n",
       "    <tr>\n",
       "      <th>1</th>\n",
       "      <td>Female</td>\n",
       "      <td>1-2 Year</td>\n",
       "      <td>No</td>\n",
       "    </tr>\n",
       "    <tr>\n",
       "      <th>2</th>\n",
       "      <td>Female</td>\n",
       "      <td>&lt; 1 Year</td>\n",
       "      <td>No</td>\n",
       "    </tr>\n",
       "    <tr>\n",
       "      <th>3</th>\n",
       "      <td>Female</td>\n",
       "      <td>&lt; 1 Year</td>\n",
       "      <td>No</td>\n",
       "    </tr>\n",
       "    <tr>\n",
       "      <th>4</th>\n",
       "      <td>Male</td>\n",
       "      <td>1-2 Year</td>\n",
       "      <td>Yes</td>\n",
       "    </tr>\n",
       "  </tbody>\n",
       "</table>\n",
       "</div>"
      ],
      "text/plain": [
       "   gender vehicle_age vehicle_damage\n",
       "0    Male    < 1 Year            Yes\n",
       "1  Female    1-2 Year             No\n",
       "2  Female    < 1 Year             No\n",
       "3  Female    < 1 Year             No\n",
       "4    Male    1-2 Year            Yes"
      ]
     },
     "execution_count": 14,
     "metadata": {},
     "output_type": "execute_result"
    }
   ],
   "source": [
    "cat_attributes.head()"
   ]
  },
  {
   "cell_type": "code",
   "execution_count": 15,
   "id": "1f63ca5c",
   "metadata": {
    "ExecuteTime": {
     "end_time": "2022-08-08T20:25:37.092059Z",
     "start_time": "2022-08-08T20:25:37.003227Z"
    },
    "hidden": true
   },
   "outputs": [
    {
     "data": {
      "text/plain": [
       "gender            2\n",
       "vehicle_age       3\n",
       "vehicle_damage    2\n",
       "dtype: int64"
      ]
     },
     "execution_count": 15,
     "metadata": {},
     "output_type": "execute_result"
    }
   ],
   "source": [
    "cat_attributes.apply(lambda x: x.unique().shape[0])"
   ]
  },
  {
   "cell_type": "markdown",
   "id": "5c6a1bef",
   "metadata": {
    "hidden": true
   },
   "source": [
    "#### 1.3.2.1 Gender, vehicle age, vehicle_damage"
   ]
  },
  {
   "cell_type": "code",
   "execution_count": 16,
   "id": "cd3fb22a",
   "metadata": {
    "ExecuteTime": {
     "end_time": "2022-08-08T20:51:02.219537Z",
     "start_time": "2022-08-08T20:51:01.150179Z"
    },
    "hidden": true
   },
   "outputs": [
    {
     "data": {
      "text/plain": [
       "<AxesSubplot:xlabel='vehicle_damage', ylabel='response'>"
      ]
     },
     "execution_count": 16,
     "metadata": {},
     "output_type": "execute_result"
    },
    {
     "data": {
      "image/png": "[encoded data removed]",
      "text/plain": [
       "<Figure size 1080x576 with 3 Axes>"
      ]
     },
     "metadata": {},
     "output_type": "display_data"
    }
   ],
   "source": [
    "# gender\n",
    "plt.subplot(1, 3, 1)\n",
    "aux1 = df1[['gender','response']].groupby('gender').count().reset_index()\n",
    "sns.barplot(x='gender', y='response', data=aux1)\n",
    "\n",
    "# vehicle age\n",
    "plt.subplot(1, 3, 2)\n",
    "aux2 = df1[['vehicle_age','response']].groupby('vehicle_age').count().reset_index()\n",
    "sns.barplot(x='vehicle_age', y='response', data=aux2)\n",
    "\n",
    "# vehicle_damage    \n",
    "plt.subplot(1, 3, 3)\n",
    "aux3 = df1[['vehicle_damage', 'response']].groupby('vehicle_damage').count().reset_index()\n",
    "sns.barplot(x='vehicle_damage', y='response', data=aux3)\n"
   ]
  },
  {
   "cell_type": "markdown",
   "id": "d20a85fe",
   "metadata": {
    "hidden": true
   },
   "source": [
    "### 1.3.2.2 Vehicle damage per gender"
   ]
  },
  {
   "cell_type": "code",
   "execution_count": 17,
   "id": "32c30017",
   "metadata": {
    "ExecuteTime": {
     "end_time": "2022-08-08T20:50:06.820701Z",
     "start_time": "2022-08-08T20:50:06.592490Z"
    },
    "hidden": true
   },
   "outputs": [
    {
     "data": {
      "text/plain": [
       "<AxesSubplot:xlabel='gender', ylabel='response'>"
      ]
     },
     "execution_count": 17,
     "metadata": {},
     "output_type": "execute_result"
    },
    {
     "data": {
      "image/png": "[encoded data removed]",
      "text/plain": [
       "<Figure size 1080x576 with 1 Axes>"
      ]
     },
     "metadata": {},
     "output_type": "display_data"
    }
   ],
   "source": [
    "aux3 = df1[['vehicle_damage', 'gender','response']].groupby(['vehicle_damage', 'gender']).count().reset_index()\n",
    "sns.barplot(x='gender', y='response',hue='vehicle_damage', data=aux3)"
   ]
  },
  {
   "cell_type": "markdown",
   "id": "a7f4990a",
   "metadata": {
    "heading_collapsed": true
   },
   "source": [
    "# 2.0 FEATURE ENGINEERING"
   ]
  },
  {
   "cell_type": "markdown",
   "id": "a9e6d101",
   "metadata": {
    "hidden": true
   },
   "source": [
    "### 2.0.1 Test dataset separation"
   ]
  },
  {
   "cell_type": "code",
   "execution_count": 18,
   "id": "e883666f",
   "metadata": {
    "ExecuteTime": {
     "end_time": "2022-08-08T23:37:03.795596Z",
     "start_time": "2022-08-08T23:37:03.599800Z"
    },
    "hidden": true
   },
   "outputs": [],
   "source": [
    "# separando dados de teste\n",
    "\n",
    "# removendo a variavel target dos dados de teste \n",
    "X = df1.drop('response', axis=1)\n",
    "\n",
    "#salvando variavel target para validação\n",
    "y = df1['response'].copy() \n",
    "\n",
    "X_train, x_test, y_train, y_test = ms.train_test_split( X, y, test_size=0.10 )\n",
    "\n",
    "df2 = pd.concat([X_train,y_train], axis=1)"
   ]
  },
  {
   "cell_type": "code",
   "execution_count": 19,
   "id": "c855bfe0",
   "metadata": {
    "ExecuteTime": {
     "end_time": "2022-08-08T23:37:03.949846Z",
     "start_time": "2022-08-08T23:37:03.933229Z"
    },
    "hidden": true
   },
   "outputs": [
    {
     "data": {
      "text/html": [
       "<div>\n",
       "<style scoped>\n",
       "    .dataframe tbody tr th:only-of-type {\n",
       "        vertical-align: middle;\n",
       "    }\n",
       "\n",
       "    .dataframe tbody tr th {\n",
       "        vertical-align: top;\n",
       "    }\n",
       "\n",
       "    .dataframe thead th {\n",
       "        text-align: right;\n",
       "    }\n",
       "</style>\n",
       "<table border=\"1\" class=\"dataframe\">\n",
       "  <thead>\n",
       "    <tr style=\"text-align: right;\">\n",
       "      <th></th>\n",
       "      <th>id</th>\n",
       "      <th>gender</th>\n",
       "      <th>age</th>\n",
       "      <th>region_code</th>\n",
       "      <th>policy_sales_channel</th>\n",
       "      <th>driving_license</th>\n",
       "      <th>vehicle_age</th>\n",
       "      <th>vehicle_damage</th>\n",
       "      <th>previously_insured</th>\n",
       "      <th>annual_premium</th>\n",
       "      <th>vintage</th>\n",
       "      <th>response</th>\n",
       "    </tr>\n",
       "  </thead>\n",
       "  <tbody>\n",
       "    <tr>\n",
       "      <th>293267</th>\n",
       "      <td>56708</td>\n",
       "      <td>Female</td>\n",
       "      <td>33</td>\n",
       "      <td>46.0</td>\n",
       "      <td>124.0</td>\n",
       "      <td>1</td>\n",
       "      <td>&lt; 1 Year</td>\n",
       "      <td>Yes</td>\n",
       "      <td>0</td>\n",
       "      <td>34006.0</td>\n",
       "      <td>285</td>\n",
       "      <td>0</td>\n",
       "    </tr>\n",
       "    <tr>\n",
       "      <th>140587</th>\n",
       "      <td>362078</td>\n",
       "      <td>Male</td>\n",
       "      <td>42</td>\n",
       "      <td>28.0</td>\n",
       "      <td>124.0</td>\n",
       "      <td>1</td>\n",
       "      <td>1-2 Year</td>\n",
       "      <td>No</td>\n",
       "      <td>1</td>\n",
       "      <td>31838.0</td>\n",
       "      <td>139</td>\n",
       "      <td>0</td>\n",
       "    </tr>\n",
       "    <tr>\n",
       "      <th>216880</th>\n",
       "      <td>207889</td>\n",
       "      <td>Female</td>\n",
       "      <td>51</td>\n",
       "      <td>11.0</td>\n",
       "      <td>120.0</td>\n",
       "      <td>1</td>\n",
       "      <td>1-2 Year</td>\n",
       "      <td>Yes</td>\n",
       "      <td>0</td>\n",
       "      <td>36539.0</td>\n",
       "      <td>24</td>\n",
       "      <td>1</td>\n",
       "    </tr>\n",
       "    <tr>\n",
       "      <th>187253</th>\n",
       "      <td>353531</td>\n",
       "      <td>Female</td>\n",
       "      <td>29</td>\n",
       "      <td>28.0</td>\n",
       "      <td>152.0</td>\n",
       "      <td>1</td>\n",
       "      <td>&lt; 1 Year</td>\n",
       "      <td>No</td>\n",
       "      <td>1</td>\n",
       "      <td>40485.0</td>\n",
       "      <td>209</td>\n",
       "      <td>0</td>\n",
       "    </tr>\n",
       "    <tr>\n",
       "      <th>230628</th>\n",
       "      <td>317450</td>\n",
       "      <td>Female</td>\n",
       "      <td>23</td>\n",
       "      <td>11.0</td>\n",
       "      <td>152.0</td>\n",
       "      <td>1</td>\n",
       "      <td>&lt; 1 Year</td>\n",
       "      <td>No</td>\n",
       "      <td>1</td>\n",
       "      <td>2630.0</td>\n",
       "      <td>109</td>\n",
       "      <td>0</td>\n",
       "    </tr>\n",
       "    <tr>\n",
       "      <th>157421</th>\n",
       "      <td>114279</td>\n",
       "      <td>Male</td>\n",
       "      <td>24</td>\n",
       "      <td>15.0</td>\n",
       "      <td>152.0</td>\n",
       "      <td>1</td>\n",
       "      <td>&lt; 1 Year</td>\n",
       "      <td>No</td>\n",
       "      <td>1</td>\n",
       "      <td>43815.0</td>\n",
       "      <td>100</td>\n",
       "      <td>0</td>\n",
       "    </tr>\n",
       "    <tr>\n",
       "      <th>142958</th>\n",
       "      <td>380749</td>\n",
       "      <td>Female</td>\n",
       "      <td>38</td>\n",
       "      <td>4.0</td>\n",
       "      <td>152.0</td>\n",
       "      <td>1</td>\n",
       "      <td>1-2 Year</td>\n",
       "      <td>No</td>\n",
       "      <td>1</td>\n",
       "      <td>38951.0</td>\n",
       "      <td>34</td>\n",
       "      <td>0</td>\n",
       "    </tr>\n",
       "    <tr>\n",
       "      <th>58436</th>\n",
       "      <td>85583</td>\n",
       "      <td>Male</td>\n",
       "      <td>21</td>\n",
       "      <td>25.0</td>\n",
       "      <td>160.0</td>\n",
       "      <td>1</td>\n",
       "      <td>&lt; 1 Year</td>\n",
       "      <td>No</td>\n",
       "      <td>1</td>\n",
       "      <td>48028.0</td>\n",
       "      <td>210</td>\n",
       "      <td>0</td>\n",
       "    </tr>\n",
       "    <tr>\n",
       "      <th>80027</th>\n",
       "      <td>257837</td>\n",
       "      <td>Male</td>\n",
       "      <td>21</td>\n",
       "      <td>36.0</td>\n",
       "      <td>160.0</td>\n",
       "      <td>1</td>\n",
       "      <td>&lt; 1 Year</td>\n",
       "      <td>Yes</td>\n",
       "      <td>1</td>\n",
       "      <td>55053.0</td>\n",
       "      <td>235</td>\n",
       "      <td>0</td>\n",
       "    </tr>\n",
       "    <tr>\n",
       "      <th>172369</th>\n",
       "      <td>234707</td>\n",
       "      <td>Female</td>\n",
       "      <td>57</td>\n",
       "      <td>17.0</td>\n",
       "      <td>26.0</td>\n",
       "      <td>1</td>\n",
       "      <td>1-2 Year</td>\n",
       "      <td>Yes</td>\n",
       "      <td>0</td>\n",
       "      <td>2630.0</td>\n",
       "      <td>147</td>\n",
       "      <td>0</td>\n",
       "    </tr>\n",
       "  </tbody>\n",
       "</table>\n",
       "</div>"
      ],
      "text/plain": [
       "            id  gender  age  region_code  policy_sales_channel  driving_license vehicle_age vehicle_damage  previously_insured  annual_premium  vintage  response\n",
       "293267   56708  Female   33         46.0                 124.0                1    < 1 Year            Yes                   0         34006.0      285         0\n",
       "140587  362078    Male   42         28.0                 124.0                1    1-2 Year             No                   1         31838.0      139         0\n",
       "216880  207889  Female   51         11.0                 120.0                1    1-2 Year            Yes                   0         36539.0       24         1\n",
       "187253  353531  Female   29         28.0                 152.0                1    < 1 Year             No                   1         40485.0      209         0\n",
       "230628  317450  Female   23         11.0                 152.0                1    < 1 Year             No                   1          2630.0      109         0\n",
       "157421  114279    Male   24         15.0                 152.0                1    < 1 Year             No                   1         43815.0      100         0\n",
       "142958  380749  Female   38          4.0                 152.0                1    1-2 Year             No                   1         38951.0       34         0\n",
       "58436    85583    Male   21         25.0                 160.0                1    < 1 Year             No                   1         48028.0      210         0\n",
       "80027   257837    Male   21         36.0                 160.0                1    < 1 Year            Yes                   1         55053.0      235         0\n",
       "172369  234707  Female   57         17.0                  26.0                1    1-2 Year            Yes                   0          2630.0      147         0"
      ]
     },
     "execution_count": 19,
     "metadata": {},
     "output_type": "execute_result"
    }
   ],
   "source": [
    "# X_train.head() # Dados de treino, sem variável resposta.\n",
    "# x_test.head() # Dados de teste sem variável resposta.\n",
    "# y_test.head() # Variável resposta para o teste final.\n",
    "# y_train.head() # Variável resposta dos dados de treino\n",
    "\n",
    "df2.head(10) # df2 =  X_train e y_train contatenados, desse df ainda será feita a divisão entre treino e validação posteriormente\n"
   ]
  },
  {
   "cell_type": "markdown",
   "id": "c9afced6",
   "metadata": {
    "heading_collapsed": true,
    "hidden": true
   },
   "source": [
    "## 2.1 Hypotesis mental map"
   ]
  },
  {
   "cell_type": "markdown",
   "id": "6d716956",
   "metadata": {
    "ExecuteTime": {
     "end_time": "2022-08-08T21:00:36.503692Z",
     "start_time": "2022-08-08T21:00:36.494705Z"
    },
    "hidden": true
   },
   "source": [
    "**I dind't think it was necessary for this problem**"
   ]
  },
  {
   "cell_type": "markdown",
   "id": "d4f0fecf",
   "metadata": {
    "heading_collapsed": true,
    "hidden": true
   },
   "source": [
    "## 2.2 Hypotesis Creation"
   ]
  },
  {
   "cell_type": "markdown",
   "id": "80b64f05",
   "metadata": {
    "hidden": true
   },
   "source": [
    "**1. Older vehicle should be less interested in insurance**"
   ]
  },
  {
   "cell_type": "markdown",
   "id": "38b7ed89",
   "metadata": {
    "hidden": true
   },
   "source": [
    "**2. Female gender should be less interented in insurance**"
   ]
  },
  {
   "cell_type": "markdown",
   "id": "04f6d0c7",
   "metadata": {
    "hidden": true
   },
   "source": [
    "**3. Older people should be more interested in insurance**"
   ]
  },
  {
   "cell_type": "markdown",
   "id": "70041036",
   "metadata": {
    "hidden": true
   },
   "source": [
    "**4. People who already used insurance should be more interested**"
   ]
  },
  {
   "cell_type": "markdown",
   "id": "fb2e74c7",
   "metadata": {
    "hidden": true
   },
   "source": [
    "**5. People who already used insurance should be more interested**"
   ]
  },
  {
   "cell_type": "markdown",
   "id": "b8198c39",
   "metadata": {
    "hidden": true
   },
   "source": [
    "**6. People that never had any previus insurance should be less interested**"
   ]
  },
  {
   "cell_type": "markdown",
   "id": "c3c4720a",
   "metadata": {
    "hidden": true
   },
   "source": [
    "**7. People who pay higher annual_premium must be more interested in hiring the insurance**"
   ]
  },
  {
   "cell_type": "markdown",
   "id": "227f0bcd",
   "metadata": {
    "hidden": true
   },
   "source": [
    "**8. People who got a driver license should be more interested**"
   ]
  },
  {
   "cell_type": "markdown",
   "id": "1a5b5e03",
   "metadata": {
    "hidden": true
   },
   "source": [
    "**9. People who have been associated longer, should be more interested**"
   ]
  },
  {
   "cell_type": "markdown",
   "id": "84e30b1d",
   "metadata": {
    "heading_collapsed": true,
    "hidden": true
   },
   "source": [
    "## 2.3 Feature Engineering"
   ]
  },
  {
   "cell_type": "code",
   "execution_count": 20,
   "id": "1355d9cb",
   "metadata": {
    "ExecuteTime": {
     "end_time": "2022-08-08T23:38:43.273615Z",
     "start_time": "2022-08-08T23:38:39.372280Z"
    },
    "hidden": true
   },
   "outputs": [],
   "source": [
    "#vehicle age\n",
    "\n",
    "df2['vehicle_age'] = df2['vehicle_age'].apply( lambda x: 'below_1_year' if x ==  '< 1 Year' else 'between_1_2_year' if x == '1-2 Year' else 'above_2_years' )\n",
    "\n",
    "#vehicle damage\n",
    "df2['vehicle_damage'] = df2['vehicle_damage'].apply( lambda x: 1 if x ==  'Yes' else 0 )\n",
    "\n",
    "# getting date of subscription\n",
    "df2['subscription_date'] = df2['vintage'].apply( lambda x: date.today() - datetime.timedelta(days= x))\n",
    "\n",
    "# converting to datetime\n",
    "df2['subscription_date']=pd.to_datetime(df2['subscription_date'])\n",
    "\n",
    "# month\n",
    "df2['month'] = df2['subscription_date'].dt.month\n",
    "\n",
    "# week fo year\n",
    "df2['week_of_year'] = df2['subscription_date'].dt.isocalendar().week\n",
    "df2['week_of_year'] = df2['week_of_year'].astype('int64')\n",
    "\n",
    "# year week\n",
    "df2['year_week'] = df2['subscription_date'].dt.strftime('%Y-%W')"
   ]
  },
  {
   "cell_type": "code",
   "execution_count": 21,
   "id": "6ab60f34",
   "metadata": {
    "ExecuteTime": {
     "end_time": "2022-08-08T23:43:17.688120Z",
     "start_time": "2022-08-08T23:43:17.674473Z"
    },
    "hidden": true
   },
   "outputs": [
    {
     "data": {
      "text/plain": [
       "array([0, 1], dtype=int64)"
      ]
     },
     "execution_count": 21,
     "metadata": {},
     "output_type": "execute_result"
    }
   ],
   "source": [
    "df2['previously_insured'].unique()"
   ]
  },
  {
   "cell_type": "markdown",
   "id": "8b771483",
   "metadata": {
    "heading_collapsed": true
   },
   "source": [
    "# 3.0 DATA FILTERING\n"
   ]
  },
  {
   "cell_type": "markdown",
   "id": "4aff9b36",
   "metadata": {
    "hidden": true
   },
   "source": [
    "**Não existem variáveis a serem filtradas **"
   ]
  },
  {
   "cell_type": "markdown",
   "id": "8ecb285a",
   "metadata": {},
   "source": [
    "# 4.0 EXPLORATORY DATA ANALYSIS\n"
   ]
  },
  {
   "cell_type": "code",
   "execution_count": 22,
   "id": "3c3f55eb",
   "metadata": {
    "ExecuteTime": {
     "end_time": "2022-08-08T23:58:35.496854Z",
     "start_time": "2022-08-08T23:58:35.355293Z"
    }
   },
   "outputs": [],
   "source": [
    "df4 = df2.copy()"
   ]
  },
  {
   "cell_type": "code",
   "execution_count": 23,
   "id": "13995cee",
   "metadata": {
    "ExecuteTime": {
     "end_time": "2022-08-08T23:58:38.214555Z",
     "start_time": "2022-08-08T23:58:38.201391Z"
    }
   },
   "outputs": [
    {
     "data": {
      "text/plain": [
       "array([0, 1], dtype=int64)"
      ]
     },
     "execution_count": 23,
     "metadata": {},
     "output_type": "execute_result"
    }
   ],
   "source": [
    "df4['previously_insured'].unique()"
   ]
  },
  {
   "cell_type": "markdown",
   "id": "be74bdff",
   "metadata": {},
   "source": [
    "## 4.1 Univariate Analysis"
   ]
  },
  {
   "cell_type": "markdown",
   "id": "a6f1681d",
   "metadata": {
    "heading_collapsed": true
   },
   "source": [
    "### 4.1.1  Response variable"
   ]
  },
  {
   "cell_type": "code",
   "execution_count": 27,
   "id": "d3bd4b38",
   "metadata": {
    "ExecuteTime": {
     "end_time": "2022-08-09T00:22:29.702315Z",
     "start_time": "2022-08-09T00:22:29.406725Z"
    },
    "hidden": true
   },
   "outputs": [
    {
     "data": {
      "image/png": "[encoded data removed]",
      "text/plain": [
       "<Figure size 1080x576 with 1 Axes>"
      ]
     },
     "metadata": {},
     "output_type": "display_data"
    }
   ],
   "source": [
    "# Response \n",
    "aux = df4[['response','id']].groupby('response').count().reset_index()\n",
    "sns.barplot(x= 'response', y='id', data=aux);"
   ]
  },
  {
   "cell_type": "markdown",
   "id": "cd0914bc",
   "metadata": {},
   "source": [
    "### 4.1.2  Numerical variable"
   ]
  },
  {
   "cell_type": "code",
   "execution_count": 20,
   "id": "cc689d88",
   "metadata": {
    "ExecuteTime": {
     "end_time": "2022-08-09T00:31:21.762041Z",
     "start_time": "2022-08-09T00:31:18.638740Z"
    }
   },
   "outputs": [
    {
     "data": {
      "image/png": "[encoded data removed]",
      "text/plain": [
       "<Figure size 1080x576 with 9 Axes>"
      ]
     },
     "metadata": {},
     "output_type": "display_data"
    }
   ],
   "source": [
    "num_attributes.hist(bins=30);"
   ]
  },
  {
   "cell_type": "markdown",
   "id": "27caf6e3",
   "metadata": {},
   "source": [
    "### 4.1.3  Categorical variable"
   ]
  },
  {
   "cell_type": "code",
   "execution_count": 24,
   "id": "5a3d2a30",
   "metadata": {
    "ExecuteTime": {
     "end_time": "2022-08-09T00:50:17.879876Z",
     "start_time": "2022-08-09T00:50:17.852866Z"
    }
   },
   "outputs": [
    {
     "data": {
      "text/html": [
       "<div>\n",
       "<style scoped>\n",
       "    .dataframe tbody tr th:only-of-type {\n",
       "        vertical-align: middle;\n",
       "    }\n",
       "\n",
       "    .dataframe tbody tr th {\n",
       "        vertical-align: top;\n",
       "    }\n",
       "\n",
       "    .dataframe thead th {\n",
       "        text-align: right;\n",
       "    }\n",
       "</style>\n",
       "<table border=\"1\" class=\"dataframe\">\n",
       "  <thead>\n",
       "    <tr style=\"text-align: right;\">\n",
       "      <th></th>\n",
       "      <th>gender</th>\n",
       "      <th>vehicle_age</th>\n",
       "      <th>vehicle_damage</th>\n",
       "    </tr>\n",
       "  </thead>\n",
       "  <tbody>\n",
       "    <tr>\n",
       "      <th>369368</th>\n",
       "      <td>Male</td>\n",
       "      <td>&gt; 2 Years</td>\n",
       "      <td>Yes</td>\n",
       "    </tr>\n",
       "    <tr>\n",
       "      <th>149857</th>\n",
       "      <td>Female</td>\n",
       "      <td>1-2 Year</td>\n",
       "      <td>Yes</td>\n",
       "    </tr>\n",
       "    <tr>\n",
       "      <th>175973</th>\n",
       "      <td>Male</td>\n",
       "      <td>1-2 Year</td>\n",
       "      <td>Yes</td>\n",
       "    </tr>\n",
       "    <tr>\n",
       "      <th>173531</th>\n",
       "      <td>Female</td>\n",
       "      <td>&lt; 1 Year</td>\n",
       "      <td>No</td>\n",
       "    </tr>\n",
       "    <tr>\n",
       "      <th>173290</th>\n",
       "      <td>Male</td>\n",
       "      <td>1-2 Year</td>\n",
       "      <td>No</td>\n",
       "    </tr>\n",
       "    <tr>\n",
       "      <th>166939</th>\n",
       "      <td>Male</td>\n",
       "      <td>1-2 Year</td>\n",
       "      <td>Yes</td>\n",
       "    </tr>\n",
       "    <tr>\n",
       "      <th>371647</th>\n",
       "      <td>Male</td>\n",
       "      <td>&lt; 1 Year</td>\n",
       "      <td>No</td>\n",
       "    </tr>\n",
       "    <tr>\n",
       "      <th>327436</th>\n",
       "      <td>Female</td>\n",
       "      <td>&lt; 1 Year</td>\n",
       "      <td>Yes</td>\n",
       "    </tr>\n",
       "    <tr>\n",
       "      <th>318663</th>\n",
       "      <td>Male</td>\n",
       "      <td>&lt; 1 Year</td>\n",
       "      <td>No</td>\n",
       "    </tr>\n",
       "    <tr>\n",
       "      <th>8581</th>\n",
       "      <td>Female</td>\n",
       "      <td>1-2 Year</td>\n",
       "      <td>Yes</td>\n",
       "    </tr>\n",
       "  </tbody>\n",
       "</table>\n",
       "</div>"
      ],
      "text/plain": [
       "        gender vehicle_age vehicle_damage\n",
       "369368    Male   > 2 Years            Yes\n",
       "149857  Female    1-2 Year            Yes\n",
       "175973    Male    1-2 Year            Yes\n",
       "173531  Female    < 1 Year             No\n",
       "173290    Male    1-2 Year             No\n",
       "166939    Male    1-2 Year            Yes\n",
       "371647    Male    < 1 Year             No\n",
       "327436  Female    < 1 Year            Yes\n",
       "318663    Male    < 1 Year             No\n",
       "8581    Female    1-2 Year            Yes"
      ]
     },
     "execution_count": 24,
     "metadata": {},
     "output_type": "execute_result"
    }
   ],
   "source": [
    "cat_attributes.sample(10)"
   ]
  },
  {
   "cell_type": "code",
   "execution_count": 25,
   "id": "7aa22f21",
   "metadata": {
    "ExecuteTime": {
     "end_time": "2022-08-09T01:01:02.236367Z",
     "start_time": "2022-08-09T01:01:00.103635Z"
    }
   },
   "outputs": [
    {
     "name": "stderr",
     "output_type": "stream",
     "text": [
      "c:\\Users\\vande\\repos\\cross_sell\\env-cross-sell\\lib\\site-packages\\seaborn\\_decorators.py:36: FutureWarning: Pass the following variable as a keyword arg: x. From version 0.12, the only valid positional argument will be `data`, and passing other arguments without an explicit keyword will result in an error or misinterpretation.\n",
      "  warnings.warn(\n",
      "c:\\Users\\vande\\repos\\cross_sell\\env-cross-sell\\lib\\site-packages\\seaborn\\_decorators.py:36: FutureWarning: Pass the following variable as a keyword arg: x. From version 0.12, the only valid positional argument will be `data`, and passing other arguments without an explicit keyword will result in an error or misinterpretation.\n",
      "  warnings.warn(\n",
      "c:\\Users\\vande\\repos\\cross_sell\\env-cross-sell\\lib\\site-packages\\seaborn\\_decorators.py:36: FutureWarning: Pass the following variable as a keyword arg: x. From version 0.12, the only valid positional argument will be `data`, and passing other arguments without an explicit keyword will result in an error or misinterpretation.\n",
      "  warnings.warn(\n"
     ]
    },
    {
     "data": {
      "text/plain": [
       "<AxesSubplot:xlabel='response', ylabel='Density'>"
      ]
     },
     "execution_count": 25,
     "metadata": {},
     "output_type": "execute_result"
    },
    {
     "data": {
      "image/png": "[encoded data removed]",
      "text/plain": [
       "<Figure size 1080x576 with 6 Axes>"
      ]
     },
     "metadata": {},
     "output_type": "display_data"
    }
   ],
   "source": [
    "# gender\n",
    "plt.subplot(3,2,1)\n",
    "sns.countplot(df4['gender'])\n",
    "\n",
    "plt.subplot(3,2,2)\n",
    "sns.kdeplot(df4[df4['gender']=='Male']['response'], label= 'Male', shade=True )\n",
    "sns.kdeplot(df4[df4['gender']=='Female']['response'], label= 'Female', shade=True )\n",
    "\n",
    "# vehicle_age\n",
    "plt.subplot(3,2,3)\n",
    "sns.countplot(df4['vehicle_age'])\n",
    "\n",
    "plt.subplot(3,2,4)\n",
    "sns.kdeplot(df4[df4['vehicle_age']=='below_1_year']['response'], label= 'below_1_year', shade=True )\n",
    "sns.kdeplot(df4[df4['vehicle_age']=='between_1_2_year']['response'], label= 'between_1_2_year', shade=True )\n",
    "sns.kdeplot(df4[df4['vehicle_age']=='above_2_years']['response'], label= 'above_2_years', shade=True )\n",
    "\n",
    "# vehicle_damage\n",
    "plt.subplot(3,2,5)\n",
    "sns.countplot(df4['vehicle_damage'])\n",
    "\n",
    "plt.subplot(3,2,6)\n",
    "sns.kdeplot(df4[df4['vehicle_damage']==0]['response'], label= 'no', shade=True )\n",
    "sns.kdeplot(df4[df4['vehicle_damage']==1]['response'], label= 'yes', shade=True )\n"
   ]
  },
  {
   "cell_type": "markdown",
   "id": "60d66684",
   "metadata": {},
   "source": [
    "## 4.2 Bivariate Analysis"
   ]
  },
  {
   "cell_type": "markdown",
   "id": "80b64f05",
   "metadata": {
    "hidden": true
   },
   "source": [
    "### **H1. Older vehicle should be less interested in insurance**\n",
    "**False** - the mid-age vehicles are more interested"
   ]
  },
  {
   "cell_type": "code",
   "execution_count": 26,
   "id": "9e5b6c76",
   "metadata": {},
   "outputs": [
    {
     "data": {
      "text/plain": [
       "<AxesSubplot:xlabel='vehicle_age', ylabel='response'>"
      ]
     },
     "execution_count": 26,
     "metadata": {},
     "output_type": "execute_result"
    },
    {
     "data": {
      "image/png": "[encoded data removed]",
      "text/plain": [
       "<Figure size 1080x576 with 1 Axes>"
      ]
     },
     "metadata": {},
     "output_type": "display_data"
    }
   ],
   "source": [
    "aux1 = df4[['vehicle_age','response']].groupby('vehicle_age').sum().reset_index()\n",
    "sns.barplot(x='vehicle_age', y='response', data=aux1)"
   ]
  },
  {
   "cell_type": "markdown",
   "id": "38b7ed89",
   "metadata": {
    "hidden": true
   },
   "source": [
    "### **H2. Female gender should be less interented in insurance**\n",
    "**True** - Female gender is less interented in insurance"
   ]
  },
  {
   "cell_type": "code",
   "execution_count": 27,
   "id": "11e910a1",
   "metadata": {},
   "outputs": [
    {
     "data": {
      "text/plain": [
       "<AxesSubplot:xlabel='gender', ylabel='response'>"
      ]
     },
     "execution_count": 27,
     "metadata": {},
     "output_type": "execute_result"
    },
    {
     "data": {
      "image/png": "[encoded data removed]",
      "text/plain": [
       "<Figure size 1080x576 with 1 Axes>"
      ]
     },
     "metadata": {},
     "output_type": "display_data"
    }
   ],
   "source": [
    "from scipy.stats import pointbiserialr\n",
    "plt.subplot(1,2,1)\n",
    "\n",
    "aux= df4[['gender','response']].groupby('gender').sum().reset_index()\n",
    "sns.barplot(x='gender',y='response',data=aux)\n"
   ]
  },
  {
   "cell_type": "markdown",
   "id": "04f6d0c7",
   "metadata": {
    "hidden": true
   },
   "source": [
    "### **H3. Older people should be more interested in insurance**\n",
    "**False** - Older people as less interested in insurance"
   ]
  },
  {
   "cell_type": "code",
   "execution_count": 28,
   "id": "2a5b8055",
   "metadata": {},
   "outputs": [
    {
     "data": {
      "image/png": "[encoded data removed]",
      "text/plain": [
       "<Figure size 1080x576 with 3 Axes>"
      ]
     },
     "metadata": {},
     "output_type": "display_data"
    }
   ],
   "source": [
    "aux = df4[['age','response']].groupby('age').sum().reset_index()\n",
    "plt.subplot(1,2,1)\n",
    "sns.barplot(x='age', y='response',data=aux)\n",
    "plt.xticks(rotation=90)\n",
    "\n",
    "plt.subplot(1,2,2)\n",
    "x=sns.heatmap(aux.corr( method='pearson' ), annot=True )\n"
   ]
  },
  {
   "cell_type": "markdown",
   "id": "70041036",
   "metadata": {
    "hidden": true
   },
   "source": [
    "### **H4. People who already used insurance should be more interested**\n",
    "**False** - Pleople tha already used insurance are less likely to hire a insurance"
   ]
  },
  {
   "cell_type": "code",
   "execution_count": 29,
   "id": "23c79f67",
   "metadata": {},
   "outputs": [
    {
     "data": {
      "text/plain": [
       "<AxesSubplot:xlabel='response', ylabel='previously_insured'>"
      ]
     },
     "execution_count": 29,
     "metadata": {},
     "output_type": "execute_result"
    },
    {
     "data": {
      "image/png": "[encoded data removed]",
      "text/plain": [
       "<Figure size 1080x576 with 2 Axes>"
      ]
     },
     "metadata": {},
     "output_type": "display_data"
    }
   ],
   "source": [
    "plt.subplot(1,2,1)\n",
    "aux1= df4[df4['previously_insured'] == 1]\n",
    "aux =  aux1[['previously_insured','response']].groupby('response').count().reset_index()\n",
    "sns.barplot(x='response', y='previously_insured', data=aux)\n",
    "\n",
    "plt.subplot(1,2,2)\n",
    "aux1= df4[df4['previously_insured'] == 0]\n",
    "aux =  aux1[['previously_insured','response']].groupby('response').count().reset_index()\n",
    "sns.barplot(x='response', y='previously_insured', data=aux)"
   ]
  },
  {
   "cell_type": "markdown",
   "id": "b8198c39",
   "metadata": {
    "hidden": true
   },
   "source": [
    "**H5. People that never had any previus insurance should be less interested than who already have an insurance**\n",
    "\n",
    "**False** - People that never had any previus insurance are more interested than people who have an insurance. (as we can see above)"
   ]
  },
  {
   "cell_type": "markdown",
   "id": "c3c4720a",
   "metadata": {
    "hidden": true
   },
   "source": [
    "**H6. People who pay higher annual_premium must be more interested in hiring the insurance**\n",
    "**False** - People who pay higher annual_premium are less interested in hiring the insurance"
   ]
  },
  {
   "cell_type": "code",
   "execution_count": 30,
   "id": "3b4e7df4",
   "metadata": {},
   "outputs": [
    {
     "data": {
      "image/png": "[encoded data removed]",
      "text/plain": [
       "<Figure size 1080x576 with 4 Axes>"
      ]
     },
     "metadata": {},
     "output_type": "display_data"
    }
   ],
   "source": [
    "\n",
    "grid = GridSpec(2,2)\n",
    "plt.subplot(grid[0,0])\n",
    "aux =df4[['annual_premium','response']].groupby('annual_premium').count().reset_index()\n",
    "bins = list(np.arange(150000, 600000, 25000))\n",
    "\n",
    "\n",
    "aux['annual_premium_binned'] = pd.cut(aux['annual_premium'], bins=bins)\n",
    "aux1= aux[['annual_premium_binned', 'response']].groupby('annual_premium_binned').count().reset_index()\n",
    "ax=sns.barplot(x='annual_premium_binned', y='response', data=aux1)\n",
    "ax=xticks(rotation=90)\n",
    "ax=plt.title('Annual Premium - 150000 to 600000')\n",
    "\n",
    "\n",
    "\n",
    "\n",
    "\n",
    "plt.subplot(grid[1,0])\n",
    "aux3 =df4[['annual_premium','response']].groupby('annual_premium').sum().reset_index()\n",
    "bins = list(np.arange(0, 150000, 20000))\n",
    "\n",
    "\n",
    "aux3['annual_premium_binned'] = pd.cut(aux3['annual_premium'], bins=bins)\n",
    "aux4= aux3[['annual_premium_binned', 'response']].groupby('annual_premium_binned').sum().reset_index()\n",
    "ax=sns.barplot(x='annual_premium_binned', y='response', data=aux4)\n",
    "ax=xticks(rotation=90)\n",
    "ax=plt.title('Annual Premium - 0 to 150000')\n",
    "\n",
    "plt.subplot(grid[:,1])\n",
    "sns.heatmap(aux.corr(method = 'pearson' ),annot=True)\n",
    "\n",
    "# set the spacing between subplots\n",
    "plt.subplots_adjust(left=0.1,\n",
    "                    bottom=0.1, \n",
    "                    right=0.9, \n",
    "                    top=0.9, \n",
    "                    wspace=0.1, \n",
    "                    hspace=0.7)\n"
   ]
  },
  {
   "cell_type": "markdown",
   "id": "227f0bcd",
   "metadata": {
    "hidden": true
   },
   "source": [
    "**H7. People who got a driver license should be more interested**\n",
    "****"
   ]
  },
  {
   "cell_type": "code",
   "execution_count": 31,
   "id": "362f5116",
   "metadata": {},
   "outputs": [
    {
     "data": {
      "image/png": "[encoded data removed]",
      "text/plain": [
       "<Figure size 1080x576 with 2 Axes>"
      ]
     },
     "metadata": {},
     "output_type": "display_data"
    }
   ],
   "source": [
    "# Have driving_license\n",
    "plt.subplot(1,2,1)\n",
    "aux1 = df4[df4['driving_license']==1]\n",
    "aux = aux1[['driving_license','response']].groupby('response').count().reset_index()\n",
    "ax = sns.barplot(x='response', y='driving_license', data=aux)\n",
    "ax= plt.title('Driving Livense = yes')\n",
    "\n",
    "# No drinving license\n",
    "plt.subplot(1,2,2)\n",
    "aux2 = df4[df4['driving_license']==0]\n",
    "aux3 = aux2[['driving_license','response']].groupby('response').count().reset_index()\n",
    "ax1 = sns.barplot(x='response', y='driving_license', data=aux3)\n",
    "ax1= plt.title('Driving Livense = No')"
   ]
  },
  {
   "cell_type": "code",
   "execution_count": 36,
   "id": "29417b7e",
   "metadata": {},
   "outputs": [
    {
     "data": {
      "text/html": [
       "<div>\n",
       "<style scoped>\n",
       "    .dataframe tbody tr th:only-of-type {\n",
       "        vertical-align: middle;\n",
       "    }\n",
       "\n",
       "    .dataframe tbody tr th {\n",
       "        vertical-align: top;\n",
       "    }\n",
       "\n",
       "    .dataframe thead th {\n",
       "        text-align: right;\n",
       "    }\n",
       "</style>\n",
       "<table border=\"1\" class=\"dataframe\">\n",
       "  <thead>\n",
       "    <tr style=\"text-align: right;\">\n",
       "      <th></th>\n",
       "      <th>response</th>\n",
       "      <th>driving_license</th>\n",
       "      <th>dl_%</th>\n",
       "      <th>no_driving_license</th>\n",
       "      <th>no_dl_%</th>\n",
       "    </tr>\n",
       "  </thead>\n",
       "  <tbody>\n",
       "    <tr>\n",
       "      <th>0</th>\n",
       "      <td>0</td>\n",
       "      <td>300258</td>\n",
       "      <td>87.72</td>\n",
       "      <td>679</td>\n",
       "      <td>94.7</td>\n",
       "    </tr>\n",
       "    <tr>\n",
       "      <th>1</th>\n",
       "      <td>1</td>\n",
       "      <td>42023</td>\n",
       "      <td>12.28</td>\n",
       "      <td>38</td>\n",
       "      <td>5.3</td>\n",
       "    </tr>\n",
       "  </tbody>\n",
       "</table>\n",
       "</div>"
      ],
      "text/plain": [
       "   response  driving_license   dl_%  no_driving_license  no_dl_%\n",
       "0         0           300258  87.72                 679     94.7\n",
       "1         1            42023  12.28                  38      5.3"
      ]
     },
     "execution_count": 36,
     "metadata": {},
     "output_type": "execute_result"
    }
   ],
   "source": [
    "aux['dl_%'] = round(aux['driving_license'].apply(lambda x : (x / len(aux1)*100)),2)\n",
    "aux3['no_dl_%'] = round(aux3['driving_license'].apply(lambda x : (x / len(aux2)*100)),2)\n",
    "\n",
    "df_percent= pd.merge(aux,aux3, how='left', on='response')\n",
    "df_percent.rename(columns={'driving_license_x': 'driving_license', 'driving_license_y': 'no_driving_license'})\n"
   ]
  },
  {
   "cell_type": "markdown",
   "id": "2ba70c37",
   "metadata": {},
   "source": [
    "c"
   ]
  },
  {
   "cell_type": "markdown",
   "id": "1a5b5e03",
   "metadata": {
    "hidden": true
   },
   "source": [
    "**9. People who have been associated longer, should be more interested**"
   ]
  },
  {
   "cell_type": "markdown",
   "id": "a4454aeb",
   "metadata": {},
   "source": []
  },
  {
   "cell_type": "code",
   "execution_count": 12,
   "id": "9bc4c11f",
   "metadata": {
    "ExecuteTime": {
     "end_time": "2022-08-03T20:04:35.973520Z",
     "start_time": "2022-08-03T20:04:35.130669Z"
    }
   },
   "outputs": [
    {
     "data": {
      "text/plain": [
       "<AxesSubplot:xlabel='age', ylabel='Count'>"
      ]
     },
     "execution_count": 12,
     "metadata": {},
     "output_type": "execute_result"
    },
    {
     "data": {
      "image/png": "[encoded data removed]",
      "text/plain": [
       "<Figure size 1080x576 with 2 Axes>"
      ]
     },
     "metadata": {},
     "output_type": "display_data"
    }
   ],
   "source": [
    "plt.subplot(1,2,1)\n",
    "aux00 = df4.loc[df4['response'] == 0,'age']\n",
    "sns.histplot(aux00)\n",
    "\n",
    "\n",
    "plt.subplot(1,2,2)\n",
    "aux00 = df4.loc[df4['response'] == 1,'age']\n",
    "sns.histplot(aux00)"
   ]
  },
  {
   "cell_type": "code",
   "execution_count": 19,
   "id": "b7fd42ac",
   "metadata": {
    "ExecuteTime": {
     "end_time": "2022-08-03T19:12:42.613601Z",
     "start_time": "2022-08-03T19:12:42.603311Z"
    }
   },
   "outputs": [],
   "source": [
    "# 'annual_premium'"
   ]
  },
  {
   "cell_type": "code",
   "execution_count": 20,
   "id": "ca116aab",
   "metadata": {
    "ExecuteTime": {
     "end_time": "2022-08-03T19:12:44.336802Z",
     "start_time": "2022-08-03T19:12:42.616604Z"
    }
   },
   "outputs": [
    {
     "data": {
      "text/plain": [
       "<AxesSubplot:xlabel='response', ylabel='annual_premium'>"
      ]
     },
     "execution_count": 20,
     "metadata": {},
     "output_type": "execute_result"
    },
    {
     "data": {
      "image/png": "[encoded data removed]",
      "text/plain": [
       "<Figure size 1080x576 with 1 Axes>"
      ]
     },
     "metadata": {},
     "output_type": "display_data"
    }
   ],
   "source": [
    "aux= df4[df4['annual_premium'] < 80000]\n",
    "sns.boxplot(x='response', y='annual_premium', data=aux)\n"
   ]
  },
  {
   "cell_type": "code",
   "execution_count": 21,
   "id": "be0b2b01",
   "metadata": {
    "ExecuteTime": {
     "end_time": "2022-08-03T19:12:45.376441Z",
     "start_time": "2022-08-03T19:12:44.341804Z"
    }
   },
   "outputs": [
    {
     "data": {
      "text/plain": [
       "<AxesSubplot:xlabel='annual_premium', ylabel='Count'>"
      ]
     },
     "execution_count": 21,
     "metadata": {},
     "output_type": "execute_result"
    },
    {
     "data": {
      "image/png": "[encoded data removed]",
      "text/plain": [
       "<Figure size 1080x576 with 2 Axes>"
      ]
     },
     "metadata": {},
     "output_type": "display_data"
    }
   ],
   "source": [
    "aux= df4[(df4['annual_premium'] < 80000) & (df4['annual_premium'] > 10000)]\n",
    "\n",
    "plt.subplot(1,2,1)\n",
    "aux00 = aux.loc[aux['response'] == 0,'annual_premium']\n",
    "sns.histplot(aux00)\n",
    "\n",
    "\n",
    "plt.subplot(1,2,2)\n",
    "aux00 = aux.loc[aux['response'] == 1,'annual_premium']\n",
    "sns.histplot(aux00)"
   ]
  },
  {
   "cell_type": "code",
   "execution_count": 22,
   "id": "0ab93ef8",
   "metadata": {
    "ExecuteTime": {
     "end_time": "2022-08-03T19:12:45.429383Z",
     "start_time": "2022-08-03T19:12:45.380448Z"
    }
   },
   "outputs": [],
   "source": [
    "#  'driving_license'\n",
    "\n",
    "aux  = df4[['driving_license','response']].groupby('response').sum().reset_index()\n",
    "aux['driving_license_perc'] = aux['driving_license']/aux['driving_license'].sum()\n"
   ]
  },
  {
   "cell_type": "code",
   "execution_count": 23,
   "id": "3a12872f",
   "metadata": {
    "ExecuteTime": {
     "end_time": "2022-08-03T19:12:45.444519Z",
     "start_time": "2022-08-03T19:12:45.433382Z"
    }
   },
   "outputs": [],
   "source": [
    "# 'region_code'"
   ]
  },
  {
   "cell_type": "code",
   "execution_count": 24,
   "id": "aab9fdf7",
   "metadata": {
    "ExecuteTime": {
     "end_time": "2022-08-03T19:12:45.775288Z",
     "start_time": "2022-08-03T19:12:45.447520Z"
    }
   },
   "outputs": [
    {
     "data": {
      "text/plain": [
       "<AxesSubplot:xlabel='region_code', ylabel='id'>"
      ]
     },
     "execution_count": 24,
     "metadata": {},
     "output_type": "execute_result"
    },
    {
     "data": {
      "image/png": "[encoded data removed]",
      "text/plain": [
       "<Figure size 1080x576 with 1 Axes>"
      ]
     },
     "metadata": {},
     "output_type": "display_data"
    }
   ],
   "source": [
    "aux0 = df4[['id','region_code','response']].groupby( ['region_code','response'] ).sum().reset_index()\n",
    "sns.scatterplot(x='region_code', y='id', hue='response', data=aux0)"
   ]
  },
  {
   "cell_type": "code",
   "execution_count": 25,
   "id": "dad15d41",
   "metadata": {
    "ExecuteTime": {
     "end_time": "2022-08-03T19:12:45.855296Z",
     "start_time": "2022-08-03T19:12:45.778290Z"
    }
   },
   "outputs": [
    {
     "data": {
      "text/html": [
       "<div>\n",
       "<style scoped>\n",
       "    .dataframe tbody tr th:only-of-type {\n",
       "        vertical-align: middle;\n",
       "    }\n",
       "\n",
       "    .dataframe tbody tr th {\n",
       "        vertical-align: top;\n",
       "    }\n",
       "\n",
       "    .dataframe thead th {\n",
       "        text-align: right;\n",
       "    }\n",
       "</style>\n",
       "<table border=\"1\" class=\"dataframe\">\n",
       "  <thead>\n",
       "    <tr style=\"text-align: right;\">\n",
       "      <th>response</th>\n",
       "      <th>0</th>\n",
       "      <th>1</th>\n",
       "    </tr>\n",
       "    <tr>\n",
       "      <th>previously_insured</th>\n",
       "      <th></th>\n",
       "      <th></th>\n",
       "    </tr>\n",
       "  </thead>\n",
       "  <tbody>\n",
       "    <tr>\n",
       "      <th>0</th>\n",
       "      <td>0.774546</td>\n",
       "      <td>0.225454</td>\n",
       "    </tr>\n",
       "    <tr>\n",
       "      <th>1</th>\n",
       "      <td>0.999095</td>\n",
       "      <td>0.000905</td>\n",
       "    </tr>\n",
       "  </tbody>\n",
       "</table>\n",
       "</div>"
      ],
      "text/plain": [
       "response                   0         1\n",
       "previously_insured                    \n",
       "0                   0.774546  0.225454\n",
       "1                   0.999095  0.000905"
      ]
     },
     "execution_count": 25,
     "metadata": {},
     "output_type": "execute_result"
    }
   ],
   "source": [
    "#  'previously_insured'\n",
    "pd.crosstab(df4['previously_insured'], df4['response'] ).apply(lambda x: x/x.sum(), axis=1)"
   ]
  },
  {
   "cell_type": "code",
   "execution_count": 26,
   "id": "9f64f41f",
   "metadata": {
    "ExecuteTime": {
     "end_time": "2022-08-03T19:12:45.935303Z",
     "start_time": "2022-08-03T19:12:45.858298Z"
    }
   },
   "outputs": [
    {
     "data": {
      "text/html": [
       "<div>\n",
       "<style scoped>\n",
       "    .dataframe tbody tr th:only-of-type {\n",
       "        vertical-align: middle;\n",
       "    }\n",
       "\n",
       "    .dataframe tbody tr th {\n",
       "        vertical-align: top;\n",
       "    }\n",
       "\n",
       "    .dataframe thead th {\n",
       "        text-align: right;\n",
       "    }\n",
       "</style>\n",
       "<table border=\"1\" class=\"dataframe\">\n",
       "  <thead>\n",
       "    <tr style=\"text-align: right;\">\n",
       "      <th></th>\n",
       "      <th>vehicle_age</th>\n",
       "      <th>response</th>\n",
       "      <th>0</th>\n",
       "    </tr>\n",
       "  </thead>\n",
       "  <tbody>\n",
       "    <tr>\n",
       "      <th>0</th>\n",
       "      <td>between_1_2_year</td>\n",
       "      <td>0</td>\n",
       "      <td>0.434285</td>\n",
       "    </tr>\n",
       "    <tr>\n",
       "      <th>1</th>\n",
       "      <td>below_1_year</td>\n",
       "      <td>0</td>\n",
       "      <td>0.413488</td>\n",
       "    </tr>\n",
       "    <tr>\n",
       "      <th>2</th>\n",
       "      <td>between_1_2_year</td>\n",
       "      <td>1</td>\n",
       "      <td>0.091328</td>\n",
       "    </tr>\n",
       "    <tr>\n",
       "      <th>3</th>\n",
       "      <td>above_2_years</td>\n",
       "      <td>0</td>\n",
       "      <td>0.029663</td>\n",
       "    </tr>\n",
       "    <tr>\n",
       "      <th>4</th>\n",
       "      <td>below_1_year</td>\n",
       "      <td>1</td>\n",
       "      <td>0.018897</td>\n",
       "    </tr>\n",
       "    <tr>\n",
       "      <th>5</th>\n",
       "      <td>above_2_years</td>\n",
       "      <td>1</td>\n",
       "      <td>0.012338</td>\n",
       "    </tr>\n",
       "  </tbody>\n",
       "</table>\n",
       "</div>"
      ],
      "text/plain": [
       "        vehicle_age  response         0\n",
       "0  between_1_2_year         0  0.434285\n",
       "1      below_1_year         0  0.413488\n",
       "2  between_1_2_year         1  0.091328\n",
       "3     above_2_years         0  0.029663\n",
       "4      below_1_year         1  0.018897\n",
       "5     above_2_years         1  0.012338"
      ]
     },
     "execution_count": 26,
     "metadata": {},
     "output_type": "execute_result"
    }
   ],
   "source": [
    "# 'vehicle_age'\n",
    "\n",
    "df4[['vehicle_age', 'response']].value_counts(normalize=True).reset_index()"
   ]
  },
  {
   "cell_type": "code",
   "execution_count": 27,
   "id": "b23e5a9d",
   "metadata": {
    "ExecuteTime": {
     "end_time": "2022-08-03T19:12:45.983306Z",
     "start_time": "2022-08-03T19:12:45.940304Z"
    }
   },
   "outputs": [],
   "source": [
    "# 'policy_sales_channel'\n",
    "\n",
    "aux = df4[['policy_sales_channel','response']].groupby('policy_sales_channel').sum()\n",
    "aux = df4[df4['response']==1]"
   ]
  },
  {
   "cell_type": "code",
   "execution_count": 28,
   "id": "ff8c7ce8",
   "metadata": {
    "ExecuteTime": {
     "end_time": "2022-08-03T19:12:50.464908Z",
     "start_time": "2022-08-03T19:12:45.987307Z"
    }
   },
   "outputs": [
    {
     "data": {
      "image/png": "[encoded data removed]",
      "text/plain": [
       "<Figure size 1080x576 with 1 Axes>"
      ]
     },
     "metadata": {},
     "output_type": "display_data"
    }
   ],
   "source": [
    "# set plot style: grey grid in the background:\n",
    "sns.set(style=\"darkgrid\")\n",
    "\n",
    "\n",
    "# top bar -> sum all values(smoker=No and smoker=Yes) to find y position of the bars\n",
    "total = df4[['policy_sales_channel','response']].groupby('policy_sales_channel').sum().reset_index()\n",
    "\n",
    "# bar chart 1 -> top bars (group of 'smoker=No')\n",
    "bar1 = sns.barplot(x=\"policy_sales_channel\",  y=\"response\", data=total, color='darkblue')\n",
    "\n",
    "# bottom bar ->  take only smoker=Yes values from the data\n",
    "response = df4[df4['response']==1]\n",
    "\n",
    "# bar chart 2 -> bottom bars (group of 'smoker=Yes')\n",
    "bar2 = sns.barplot(x=\"policy_sales_channel\", y=\"response\", data=response, estimator=sum, ci=None,  color='lightblue')\n",
    "\n",
    "# add legend\n",
    "top_bar = mpatches.Patch(color='darkblue', label='Response = No')\n",
    "bottom_bar = mpatches.Patch(color='lightblue', label='Response = Yes')\n",
    "plt.legend(handles=[top_bar, bottom_bar])\n",
    "plt.xticks(rotation=90)\n",
    "\n",
    "\n",
    "# show the graph\n",
    "plt.show()"
   ]
  },
  {
   "cell_type": "code",
   "execution_count": 29,
   "id": "858fb9af",
   "metadata": {
    "ExecuteTime": {
     "end_time": "2022-08-03T19:12:50.685147Z",
     "start_time": "2022-08-03T19:12:50.467907Z"
    }
   },
   "outputs": [
    {
     "data": {
      "text/plain": [
       "<AxesSubplot:xlabel='response', ylabel='vintage'>"
      ]
     },
     "execution_count": 29,
     "metadata": {},
     "output_type": "execute_result"
    },
    {
     "data": {
      "image/png": "[encoded data removed]",
      "text/plain": [
       "<Figure size 1080x576 with 1 Axes>"
      ]
     },
     "metadata": {},
     "output_type": "display_data"
    }
   ],
   "source": [
    "# 'vintage'\n",
    "sns.boxplot(x='response', y='vintage', data=df4)"
   ]
  },
  {
   "cell_type": "code",
   "execution_count": 30,
   "id": "3baeee81",
   "metadata": {
    "ExecuteTime": {
     "end_time": "2022-08-03T19:12:51.363023Z",
     "start_time": "2022-08-03T19:12:50.689149Z"
    }
   },
   "outputs": [
    {
     "data": {
      "text/plain": [
       "<AxesSubplot:xlabel='vintage', ylabel='Count'>"
      ]
     },
     "execution_count": 30,
     "metadata": {},
     "output_type": "execute_result"
    },
    {
     "data": {
      "image/png": "[encoded data removed]",
      "text/plain": [
       "<Figure size 1080x576 with 2 Axes>"
      ]
     },
     "metadata": {},
     "output_type": "display_data"
    }
   ],
   "source": [
    "\n",
    "plt.subplot(1,2,1)\n",
    "aux00 = df4.loc[df4['response'] == 0,'vintage']\n",
    "sns.histplot(aux00)\n",
    "\n",
    "\n",
    "plt.subplot(1,2,2)\n",
    "aux00 = df4.loc[df4['response'] == 1,'vintage']\n",
    "sns.histplot(aux00)"
   ]
  },
  {
   "cell_type": "markdown",
   "id": "9f35b441",
   "metadata": {},
   "source": [
    "# 5.0 - DATA PREPARATION\n"
   ]
  },
  {
   "cell_type": "code",
   "execution_count": 10,
   "id": "c483d0a5",
   "metadata": {
    "ExecuteTime": {
     "end_time": "2022-08-08T13:09:30.278270Z",
     "start_time": "2022-08-08T13:09:30.217827Z"
    }
   },
   "outputs": [],
   "source": [
    "df5 = df4.copy()"
   ]
  },
  {
   "cell_type": "markdown",
   "id": "5aa200d9",
   "metadata": {},
   "source": [
    "## Separaçao dadaos train e validation'"
   ]
  },
  {
   "cell_type": "code",
   "execution_count": 11,
   "id": "b907f743",
   "metadata": {
    "ExecuteTime": {
     "end_time": "2022-08-08T13:09:39.016709Z",
     "start_time": "2022-08-08T13:09:38.706649Z"
    }
   },
   "outputs": [],
   "source": [
    "X = df4.drop('response', axis=1)\n",
    "y = df4['response'].copy()\n",
    "\n",
    "x_train, x_validation, y_train, y_validation = ms.train_test_split( X, y, test_size=0.20 )\n",
    "\n",
    "df5 = pd.concat([x_train,y_train], axis=1)"
   ]
  },
  {
   "cell_type": "markdown",
   "id": "b6167bb8",
   "metadata": {},
   "source": [
    "## 5.1 Stardardization"
   ]
  },
  {
   "cell_type": "code",
   "execution_count": 33,
   "id": "a2d1fa34",
   "metadata": {
    "ExecuteTime": {
     "end_time": "2022-08-03T19:12:51.633549Z",
     "start_time": "2022-08-03T19:12:51.571590Z"
    }
   },
   "outputs": [],
   "source": [
    "ss = pp.StandardScaler()\n",
    "\n",
    "# annual_premium -\n",
    "\n",
    "# vamos manter com outliers e fazer a padronização, pois no EDA vimos que ele tem uma distribuiçã proxima de uma normal quando removemos os autliers \n",
    "\n",
    "df5['annual_premium'] = ss.fit_transform(df5[['annual_premium']].values)\n",
    "pickle.dump( ss, open( 'src/features/annual_premium_scaler.pkl', 'wb' ) )\n"
   ]
  },
  {
   "cell_type": "markdown",
   "id": "70bbe694",
   "metadata": {},
   "source": [
    "## 5.1 Rescaling"
   ]
  },
  {
   "cell_type": "code",
   "execution_count": 34,
   "id": "14f63528",
   "metadata": {
    "ExecuteTime": {
     "end_time": "2022-08-03T19:12:51.711033Z",
     "start_time": "2022-08-03T19:12:51.635550Z"
    }
   },
   "outputs": [],
   "source": [
    "mms_age = pp.MinMaxScaler()\n",
    "mms_vintage = pp.MinMaxScaler()\n",
    "# 'age'\n",
    "\n",
    "df5['age'] = mms_age.fit_transform(df5[['age']].values)\n",
    "pickle.dump( mms_age, open( 'src/features/age_scaler.pkl','wb' ) )\n",
    "\n",
    "# vintage\n",
    "df5['vintage'] = mms_vintage.fit_transform(df5[['vintage']].values)\n",
    "pickle.dump( mms_vintage, open( 'src/features/vintage_scaler.pkl','wb' ) )\n"
   ]
  },
  {
   "cell_type": "markdown",
   "id": "721a2f55",
   "metadata": {},
   "source": [
    "## 5.1 Encoding"
   ]
  },
  {
   "cell_type": "code",
   "execution_count": 35,
   "id": "e2a6b263",
   "metadata": {
    "ExecuteTime": {
     "end_time": "2022-08-03T19:12:51.997068Z",
     "start_time": "2022-08-03T19:12:51.713034Z"
    }
   },
   "outputs": [],
   "source": [
    "# colunas com valores de 0 e 1, já são consideradas encodadas, não necessita encoding (Label Encoding)\n",
    "\n",
    "# driving _license - 0 e 1  - já está encodada \n",
    "# previously_insured -  0 e 1  - já está encodada \n",
    "# vehicle_damage -  0 e 1  - já está encodada \n",
    "\n",
    "# gender - One Hot Encoding / Target Encoding\n",
    "target_encode_gender = df5.groupby('gender')['response'].mean()\n",
    "df5.loc[: , 'gender'] = df5['gender'].map(target_encode_gender)\n",
    "pickle.dump( target_encode_gender, open( 'src/features/target_encode_gender_scaler.pkl','wb' ) )\n",
    "\n",
    "\n",
    "# region_code  - Frequncy Encoding / Target Encoding / Weighted Target Encoding - #- Não aplica-se One Hot Encoding quando se tem mais de 6 nives (valores unicos)\n",
    "target_encode_region_code = df5.groupby('region_code')['response'].mean()\n",
    "df5.loc[: , 'region_code'] = df5['region_code'].map(target_encode_region_code)\n",
    "pickle.dump( target_encode_region_code, open( 'src/features/target_encode_region_code.pkl','wb' ) )\n",
    "\n",
    "# vehicle_age - One Hot Encoding / Order Encoding / Frequency Encoding\n",
    "df5 = pd.get_dummies( df5, prefix = 'vehicle_age', columns=['vehicle_age'] ) \n",
    "\n",
    "# policy_sales_channel Target Encoding / Frequency Encoding\n",
    "fe_policy_sales_channel = df5.groupby('policy_sales_channel').size()\n",
    "df5.loc[: , 'policy_sales_channel'] = df5['policy_sales_channel'].map(fe_policy_sales_channel)\n",
    "pickle.dump( fe_policy_sales_channel, open( 'src/features/fe_policy_sales_channel.pkl','wb' ) )\n"
   ]
  },
  {
   "cell_type": "code",
   "execution_count": null,
   "id": "333ff642",
   "metadata": {
    "ExecuteTime": {
     "end_time": "2022-07-30T15:04:42.534623Z",
     "start_time": "2022-07-30T15:04:42.507483Z"
    }
   },
   "outputs": [],
   "source": []
  },
  {
   "cell_type": "markdown",
   "id": "7d8671a7",
   "metadata": {},
   "source": [
    "## 5.4 Validation Preparation"
   ]
  },
  {
   "cell_type": "code",
   "execution_count": 36,
   "id": "c5f24073",
   "metadata": {
    "ExecuteTime": {
     "end_time": "2022-08-03T19:12:52.013069Z",
     "start_time": "2022-08-03T19:12:51.999070Z"
    }
   },
   "outputs": [
    {
     "data": {
      "text/plain": [
       "Index(['id', 'gender', 'age', 'region_code', 'policy_sales_channel',\n",
       "       'driving_license', 'vehicle_damage', 'previously_insured',\n",
       "       'annual_premium', 'vintage', 'response', 'vehicle_age_above_2_years',\n",
       "       'vehicle_age_below_1_year', 'vehicle_age_between_1_2_year'],\n",
       "      dtype='object')"
      ]
     },
     "execution_count": 36,
     "metadata": {},
     "output_type": "execute_result"
    }
   ],
   "source": [
    "df5.columns"
   ]
  },
  {
   "cell_type": "code",
   "execution_count": 37,
   "id": "5918bd1c",
   "metadata": {
    "ExecuteTime": {
     "end_time": "2022-08-03T19:12:52.140536Z",
     "start_time": "2022-08-03T19:12:52.020071Z"
    }
   },
   "outputs": [],
   "source": [
    "# gender \n",
    "x_validation.loc[:, 'gender'] = x_validation.loc[ : ,'gender'].map(target_encode_gender)\n",
    "\n",
    "\n",
    "# age\n",
    "x_validation.loc[:, 'age'] = mms_age.transform(x_validation[['age']].values)\n",
    "\n",
    "\n",
    "# region_code\n",
    "x_validation.loc[:, 'region_code'] = x_validation.loc[ : ,'region_code'].map(target_encode_region_code)\n",
    "\n",
    "\n",
    "# vehicle_age \n",
    "x_validation = pd.get_dummies(x_validation, prefix='vechicle_age', columns=['vehicle_age'] )\n",
    "\n",
    "\n",
    "# annual_premium\n",
    "x_validation.loc[:,'annual_premium'] = ss.fit_transform(x_validation[['annual_premium']].values) \n",
    "\n",
    "\n",
    "# policy_sales_channel\n",
    "x_validation.loc[ :, 'policy_sales_channel'] = x_validation.loc[ :, 'policy_sales_channel'].map(fe_policy_sales_channel)\n",
    "\n",
    "\n",
    "# vintage\n",
    "x_validation.loc[:, 'vintage'] = mms_vintage.transform(x_validation[['vintage']].values )\n",
    "\n",
    "\n",
    "# fillna\n",
    "x_validation = x_validation.fillna( 0 )\n",
    "\n"
   ]
  },
  {
   "cell_type": "markdown",
   "id": "3c65348e",
   "metadata": {
    "heading_collapsed": true
   },
   "source": [
    "# 6.0 Feature Selection\n"
   ]
  },
  {
   "cell_type": "markdown",
   "id": "ada7b5c9",
   "metadata": {
    "heading_collapsed": true,
    "hidden": true
   },
   "source": [
    "## 6.1 Features importância"
   ]
  },
  {
   "cell_type": "code",
   "execution_count": 38,
   "id": "400f2e03",
   "metadata": {
    "ExecuteTime": {
     "end_time": "2022-08-03T19:13:30.397294Z",
     "start_time": "2022-08-03T19:12:52.143538Z"
    },
    "hidden": true
   },
   "outputs": [
    {
     "data": {
      "text/html": [
       "<style>#sk-container-id-1 {color: black;background-color: white;}#sk-container-id-1 pre{padding: 0;}#sk-container-id-1 div.sk-toggleable {background-color: white;}#sk-container-id-1 label.sk-toggleable__label {cursor: pointer;display: block;width: 100%;margin-bottom: 0;padding: 0.3em;box-sizing: border-box;text-align: center;}#sk-container-id-1 label.sk-toggleable__label-arrow:before {content: \"▸\";float: left;margin-right: 0.25em;color: #696969;}#sk-container-id-1 label.sk-toggleable__label-arrow:hover:before {color: black;}#sk-container-id-1 div.sk-estimator:hover label.sk-toggleable__label-arrow:before {color: black;}#sk-container-id-1 div.sk-toggleable__content {max-height: 0;max-width: 0;overflow: hidden;text-align: left;background-color: #f0f8ff;}#sk-container-id-1 div.sk-toggleable__content pre {margin: 0.2em;color: black;border-radius: 0.25em;background-color: #f0f8ff;}#sk-container-id-1 input.sk-toggleable__control:checked~div.sk-toggleable__content {max-height: 200px;max-width: 100%;overflow: auto;}#sk-container-id-1 input.sk-toggleable__control:checked~label.sk-toggleable__label-arrow:before {content: \"▾\";}#sk-container-id-1 div.sk-estimator input.sk-toggleable__control:checked~label.sk-toggleable__label {background-color: #d4ebff;}#sk-container-id-1 div.sk-label input.sk-toggleable__control:checked~label.sk-toggleable__label {background-color: #d4ebff;}#sk-container-id-1 input.sk-hidden--visually {border: 0;clip: rect(1px 1px 1px 1px);clip: rect(1px, 1px, 1px, 1px);height: 1px;margin: -1px;overflow: hidden;padding: 0;position: absolute;width: 1px;}#sk-container-id-1 div.sk-estimator {font-family: monospace;background-color: #f0f8ff;border: 1px dotted black;border-radius: 0.25em;box-sizing: border-box;margin-bottom: 0.5em;}#sk-container-id-1 div.sk-estimator:hover {background-color: #d4ebff;}#sk-container-id-1 div.sk-parallel-item::after {content: \"\";width: 100%;border-bottom: 1px solid gray;flex-grow: 1;}#sk-container-id-1 div.sk-label:hover label.sk-toggleable__label {background-color: #d4ebff;}#sk-container-id-1 div.sk-serial::before {content: \"\";position: absolute;border-left: 1px solid gray;box-sizing: border-box;top: 0;bottom: 0;left: 50%;z-index: 0;}#sk-container-id-1 div.sk-serial {display: flex;flex-direction: column;align-items: center;background-color: white;padding-right: 0.2em;padding-left: 0.2em;position: relative;}#sk-container-id-1 div.sk-item {position: relative;z-index: 1;}#sk-container-id-1 div.sk-parallel {display: flex;align-items: stretch;justify-content: center;background-color: white;position: relative;}#sk-container-id-1 div.sk-item::before, #sk-container-id-1 div.sk-parallel-item::before {content: \"\";position: absolute;border-left: 1px solid gray;box-sizing: border-box;top: 0;bottom: 0;left: 50%;z-index: -1;}#sk-container-id-1 div.sk-parallel-item {display: flex;flex-direction: column;z-index: 1;position: relative;background-color: white;}#sk-container-id-1 div.sk-parallel-item:first-child::after {align-self: flex-end;width: 50%;}#sk-container-id-1 div.sk-parallel-item:last-child::after {align-self: flex-start;width: 50%;}#sk-container-id-1 div.sk-parallel-item:only-child::after {width: 0;}#sk-container-id-1 div.sk-dashed-wrapped {border: 1px dashed gray;margin: 0 0.4em 0.5em 0.4em;box-sizing: border-box;padding-bottom: 0.4em;background-color: white;}#sk-container-id-1 div.sk-label label {font-family: monospace;font-weight: bold;display: inline-block;line-height: 1.2em;}#sk-container-id-1 div.sk-label-container {text-align: center;}#sk-container-id-1 div.sk-container {/* jupyter's `normalize.less` sets `[hidden] { display: none; }` but bootstrap.min.css set `[hidden] { display: none !important; }` so we also need the `!important` here to be able to override the default hidden behavior on the sphinx rendered scikit-learn.org. See: https://github.com/scikit-learn/scikit-learn/issues/21755 */display: inline-block !important;position: relative;}#sk-container-id-1 div.sk-text-repr-fallback {display: none;}</style><div id=\"sk-container-id-1\" class=\"sk-top-container\"><div class=\"sk-text-repr-fallback\"><pre>ExtraTreesClassifier(n_estimators=250, n_jobs=-1, random_state=0)</pre><b>In a Jupyter environment, please rerun this cell to show the HTML representation or trust the notebook. <br />On GitHub, the HTML representation is unable to render, please try loading this page with nbviewer.org.</b></div><div class=\"sk-container\" hidden><div class=\"sk-item\"><div class=\"sk-estimator sk-toggleable\"><input class=\"sk-toggleable__control sk-hidden--visually\" id=\"sk-estimator-id-1\" type=\"checkbox\" checked><label for=\"sk-estimator-id-1\" class=\"sk-toggleable__label sk-toggleable__label-arrow\">ExtraTreesClassifier</label><div class=\"sk-toggleable__content\"><pre>ExtraTreesClassifier(n_estimators=250, n_jobs=-1, random_state=0)</pre></div></div></div></div></div>"
      ],
      "text/plain": [
       "ExtraTreesClassifier(n_estimators=250, n_jobs=-1, random_state=0)"
      ]
     },
     "execution_count": 38,
     "metadata": {},
     "output_type": "execute_result"
    }
   ],
   "source": [
    "#model definition \n",
    "forest = en.ExtraTreesClassifier( n_estimators=250, random_state=0, n_jobs=-1 )\n",
    "\n",
    "# data preparation\n",
    "x_train_n = df5.drop(['id','response'], axis=1)\n",
    "y_train_n = y_train.values\n",
    "forest.fit( x_train_n,y_train_n )"
   ]
  },
  {
   "cell_type": "code",
   "execution_count": 39,
   "id": "e31e1c88",
   "metadata": {
    "ExecuteTime": {
     "end_time": "2022-08-03T19:13:38.096237Z",
     "start_time": "2022-08-03T19:13:30.427298Z"
    },
    "hidden": true,
    "scrolled": false
   },
   "outputs": [
    {
     "name": "stdout",
     "output_type": "stream",
     "text": [
      "Feature Ranking: \n",
      "                        feature  importance\n",
      "0                       vintage    0.272726\n",
      "0                annual_premium    0.244133\n",
      "0                           age    0.163636\n",
      "0                   region_code    0.107926\n",
      "0                vehicle_damage    0.067264\n",
      "0          policy_sales_channel    0.060015\n",
      "0            previously_insured    0.056786\n",
      "0      vehicle_age_below_1_year    0.013288\n",
      "0  vehicle_age_between_1_2_year    0.006497\n",
      "0                        gender    0.004792\n",
      "0     vehicle_age_above_2_years    0.002481\n",
      "0               driving_license    0.000454\n"
     ]
    },
    {
     "data": {
      "image/png": "[encoded data removed]",
      "text/plain": [
       "<Figure size 1080x576 with 1 Axes>"
      ]
     },
     "metadata": {},
     "output_type": "display_data"
    }
   ],
   "source": [
    "importances = forest.feature_importances_\n",
    "std = np.std( [ tree.feature_importances_ for tree in forest.estimators_ ], axis=0 )\n",
    "indices = np.argsort(importances)[::-1]\n",
    "\n",
    "# print the feature ranking  \n",
    "print('Feature Ranking: ')\n",
    "df = pd.DataFrame()\n",
    "for i, j in zip(x_train_n,forest.feature_importances_):\n",
    "    aux = pd.DataFrame( {'feature': i, 'importance': j}, index=[0] )\n",
    "    df= pd.concat( [df, aux], axis=0 )\n",
    "print( df.sort_values( 'importance', ascending = False ) )\n",
    "\n",
    "# plot the impurity-based feature importances of the forest \n",
    "\n",
    "plt.title('Feature Importances')\n",
    "plt.bar(range(x_train_n.shape[1]),importances[indices], color ='r', yerr=std, align='center')\n",
    "plt.xticks(range(x_train_n.shape[1]),indices)\n",
    "plt.xlim([-1, x_train_n.shape[1]])\n",
    "plt.show()"
   ]
  },
  {
   "cell_type": "code",
   "execution_count": 40,
   "id": "487c2327",
   "metadata": {
    "ExecuteTime": {
     "end_time": "2022-08-03T19:13:38.204389Z",
     "start_time": "2022-08-03T19:13:38.099942Z"
    },
    "hidden": true
   },
   "outputs": [],
   "source": [
    "cols_selected = ['vintage', 'annual_premium', 'age', 'vehicle_damage', 'policy_sales_channel', 'previously_insured']\n",
    "\n",
    "x_train = df5[cols_selected]\n",
    "x_val = x_validation[cols_selected]\n",
    "y_val = y_validation.copy()"
   ]
  },
  {
   "cell_type": "markdown",
   "id": "b9f3125e",
   "metadata": {
    "heading_collapsed": true,
    "hidden": true
   },
   "source": [
    "## 7.1 KNN MODEL"
   ]
  },
  {
   "cell_type": "code",
   "execution_count": 41,
   "id": "d666092b",
   "metadata": {
    "ExecuteTime": {
     "end_time": "2022-08-03T19:13:49.481846Z",
     "start_time": "2022-08-03T19:13:38.207390Z"
    },
    "hidden": true
   },
   "outputs": [],
   "source": [
    "# model definition\n",
    "knn_model = nh.KNeighborsClassifier(n_neighbors=7)\n",
    "\n",
    "# model training\n",
    "knn_model.fit(x_train, y_train)\n",
    "\n",
    "# model prediction - Poder de GENEREALIZAÇÃO\n",
    "yhat_knn = knn_model.predict_proba( x_val )"
   ]
  },
  {
   "cell_type": "code",
   "execution_count": 42,
   "id": "529547b2",
   "metadata": {
    "ExecuteTime": {
     "end_time": "2022-08-03T19:13:49.906599Z",
     "start_time": "2022-08-03T19:13:49.484324Z"
    },
    "hidden": true
   },
   "outputs": [
    {
     "data": {
      "image/png": "[encoded data removed]",
      "text/plain": [
       "<Figure size 1080x576 with 1 Axes>"
      ]
     },
     "metadata": {},
     "output_type": "display_data"
    }
   ],
   "source": [
    "skplt.metrics.plot_cumulative_gain( y_val, yhat_knn);"
   ]
  },
  {
   "cell_type": "code",
   "execution_count": 43,
   "id": "4efebd99",
   "metadata": {
    "ExecuteTime": {
     "end_time": "2022-08-03T19:13:50.663508Z",
     "start_time": "2022-08-03T19:13:49.908603Z"
    },
    "hidden": true,
    "scrolled": false
   },
   "outputs": [
    {
     "data": {
      "text/plain": [
       "<AxesSubplot:title={'center':'Cumulative Gains Curve'}, xlabel='Percentage of sample', ylabel='Gain'>"
      ]
     },
     "execution_count": 43,
     "metadata": {},
     "output_type": "execute_result"
    },
    {
     "data": {
      "image/png": "[encoded data removed]",
      "text/plain": [
       "<Figure size 1080x576 with 1 Axes>"
      ]
     },
     "metadata": {},
     "output_type": "display_data"
    }
   ],
   "source": [
    "#model definition \n",
    "lr_model = lm.LogisticRegression( random_state=42 )\n",
    "\n",
    "#model training \n",
    "lr_model.fit( x_train, y_train )\n",
    "\n",
    "#model Prediction\n",
    "\n",
    "yhat_lr = lr_model.predict_proba(x_val)\n",
    "\n",
    "# Accumulative Gain\n",
    "skplt.metrics.plot_cumulative_gain(y_val, yhat_lr)\n"
   ]
  },
  {
   "cell_type": "markdown",
   "id": "fcbbc6f6",
   "metadata": {
    "heading_collapsed": true
   },
   "source": [
    "# Extra Trees "
   ]
  },
  {
   "cell_type": "code",
   "execution_count": 45,
   "id": "50cc6c2d",
   "metadata": {
    "ExecuteTime": {
     "end_time": "2022-08-03T13:03:52.534685Z",
     "start_time": "2022-08-03T13:03:52.503421Z"
    },
    "hidden": true
   },
   "outputs": [],
   "source": [
    "# # model definition\n",
    "# et = en.ExtraTreesClassifier(n_estimators=1000, n_jobs=-1, random_state=42)\n",
    "\n",
    "# # model fit\n",
    "\n",
    "# et.fit( x_train,y_train )\n",
    "\n",
    "# # model model predict\n",
    "# yhat_et = et.predict_proba( x_val )"
   ]
  },
  {
   "cell_type": "code",
   "execution_count": 46,
   "id": "b012d75a",
   "metadata": {
    "ExecuteTime": {
     "end_time": "2022-08-03T13:03:52.565941Z",
     "start_time": "2022-08-03T13:03:52.534685Z"
    },
    "hidden": true
   },
   "outputs": [],
   "source": [
    "# # model result plot\n",
    "# skplt.metrics.plot_cumulative_gain(y_val, yhat_et)"
   ]
  },
  {
   "cell_type": "markdown",
   "id": "55b17494",
   "metadata": {
    "heading_collapsed": true
   },
   "source": [
    "# 8.0 Model performance"
   ]
  },
  {
   "cell_type": "code",
   "execution_count": 47,
   "id": "e4d7a486",
   "metadata": {
    "ExecuteTime": {
     "end_time": "2022-08-03T13:03:52.597200Z",
     "start_time": "2022-08-03T13:03:52.565941Z"
    },
    "hidden": true
   },
   "outputs": [],
   "source": [
    "\n",
    "def precision_at_k(data, k=2000):\n",
    "    #reset_index\n",
    "    data = data.reset_index(drop=True)\n",
    "    \n",
    "    # create ranking\n",
    "    data['ranking']  = data.index + 1\n",
    "    \n",
    "    data['precision_at_k'] = data['response'].cumsum() / data['ranking']\n",
    "    \n",
    "    return data.loc[k , 'precision_at_k']\n",
    "\n",
    "def recall_at_k(data, k=2000):\n",
    "    #reset_index\n",
    "    data = data.reset_index(drop=True)\n",
    "    \n",
    "    # create ranking\n",
    "    data['ranking']  = data.index + 1\n",
    "    \n",
    "    data['recall_at_k'] = data['response'].cumsum() / data['response'].sum()\n",
    "    \n",
    "    return data.loc[k , 'recall_at_k']"
   ]
  },
  {
   "cell_type": "code",
   "execution_count": 48,
   "id": "8a2ea149",
   "metadata": {
    "ExecuteTime": {
     "end_time": "2022-08-03T13:03:52.800404Z",
     "start_time": "2022-08-03T13:03:52.597200Z"
    },
    "hidden": true
   },
   "outputs": [
    {
     "name": "stdout",
     "output_type": "stream",
     "text": [
      "Precision at k: 0.2095697607559811\n",
      "Recall at k: 0.8978258541287352\n"
     ]
    }
   ],
   "source": [
    "df8 = x_validation.copy()\n",
    "df8['response'] = y_val.copy()\n",
    "\n",
    "# propesity score\n",
    "df8['score'] = yhat_knn[: , 1].tolist()\n",
    "\n",
    "# sorting clients by propensity scoce\n",
    "df8 = df8.sort_values('score', ascending = False)\n",
    "\n",
    "# compute precision at k\n",
    "precision_at_50 = precision_at_k(df8 , k =40000)\n",
    "print(f'Precision at k: {precision_at_50}')\n",
    "\n",
    "# compute recall at k\n",
    "recall_at_50 = recall_at_k(df8 , k =40000)\n",
    "print(f'Recall at k: {recall_at_50}')\n"
   ]
  },
  {
   "cell_type": "code",
   "execution_count": 68,
   "id": "4328a4ea",
   "metadata": {
    "ExecuteTime": {
     "end_time": "2022-08-03T13:28:53.580108Z",
     "start_time": "2022-08-03T13:28:53.555906Z"
    },
    "hidden": true
   },
   "outputs": [],
   "source": [
    "pickle.dump(lr_model, open( 'C:/Users/vande/repos/cross_sell/src/models/model_linear_regression.pkl','wb' ) )"
   ]
  },
  {
   "cell_type": "code",
   "execution_count": 28,
   "id": "18471bd9",
   "metadata": {
    "ExecuteTime": {
     "end_time": "2022-08-03T20:32:51.470846Z",
     "start_time": "2022-08-03T20:32:51.450606Z"
    },
    "hidden": true
   },
   "outputs": [],
   "source": [
    "# Class Creation\n",
    "\n",
    "class HealthInsurance:\n",
    "    def __init__( self ):\n",
    "        self.home_path = 'C:/Users/vande/repos/cross_sell/'\n",
    "        self.annual_premium_scaler = pickle.load( open( self.home_path + 'src/features/annual_premium_scaler.pkl' ) )\n",
    "        self.age_scaler = pickle.load( open( self.home_path + 'src/features/age_scaler.pkl' ) )\n",
    "        self.vintage_scaler = pickle.load( open( self.home_path + 'src/features/vintage_scaler.pkl' ) )\n",
    "        self.target_encode_gender_scaler = pickle.load( open( self.home_path + 'src/features/target_encode_gender_scaler.pkl' ) )\n",
    "        self.target_encode_region_code_scaler = pickle.load( open( self.home_path + 'src/features/target_encode_region_code_scaler.pkl' ) )\n",
    "        self.fe_policy_sales_channel_scaler = pickle.load( open( self.home_path + 'src/features/fe_policy_sales_channel_scaler.pkl' ) ) \n",
    "        \n",
    "    def data_engineering (self, df2 ):\n",
    "        #vehicle age\n",
    "\n",
    "        df2['vehicle_age'] = df2['vehicle_age'].apply( lambda x: 'below_1_year' if x ==  '< 1 Year' else 'between_1_2_year' if x == '1-2 Year' else 'above_2_years' )\n",
    "\n",
    "        #vehicle damage\n",
    "        df2['vehicle_damage'] = df2['vehicle_damage'].apply( lambda x: 1 if x ==  'Yes' else 0 )\n",
    "            \n",
    "        return df2\n",
    "    \n",
    "    def data_preparation( self, df5 ):\n",
    "        # annual_premium - StandarScaler\n",
    "        df5['annual_premium'] = self.annual_premium_scaler.transform(df5[['annual_premium']].values)\n",
    "\n",
    "        # 'age'\n",
    "        df5['age'] = self.age_scaler.transform(df5[['age']].values)\n",
    "\n",
    "        # vintage\n",
    "        df5['vintage'] = self.vintage_scaler.transform(df5[['vintage']].values)\n",
    "\n",
    "        # gender - One Hot Encoding / Target Encoding\n",
    "        df5.loc[: , 'gender'] = df5['gender'].map( self.target_encode_gender_scaler )\n",
    "\n",
    "        # region_code  - Frequncy Encoding / Target Encoding / Weighted Target Encoding - #- Não aplica-se One Hot Encoding quando se tem mais de 6 nives (valores unicos)\n",
    "        df5.loc[: , 'region_code'] = df5['region_code'].map( self.target_encode_region_code.scaler )\n",
    "\n",
    "        # vehicle_age - One Hot Encoding / Order Encoding / Frequency Encoding\n",
    "        df5 = pd.get_dummies( df5, prefix = 'vehicle_age', columns=['vehicle_age'] ) \n",
    "\n",
    "        # policy_sales_channel Target Encoding / Frequency Encoding\n",
    "        df5.loc[: , 'policy_sales_channel'] = df5['policy_sales_channel'].map( self.fe_policy_sales_channel_scaler )\n",
    "        \n",
    "        #selected features\n",
    "        cols_selected = ['vintage', 'annual_premium', 'age', 'vehicle_damage', 'policy_sales_channel', 'previously_insured']\n",
    "\n",
    "        \n",
    "        return df5[cols_selected]\n",
    "        \n",
    "    def get_prediction( self, model, original_data, test_data ):\n",
    "        \n",
    "        # get prediction for requested data\n",
    "        pred = model.predict_proba( test_data)\n",
    "        \n",
    "        # adding into the original data\n",
    "        original_data['score'] = pred\n",
    "        \n",
    "        #converting to json before sending back to requestor\n",
    "        return original_data.to_json( orient= 'records', date_format='iso' )\n",
    "        \n",
    "        "
   ]
  },
  {
   "cell_type": "markdown",
   "id": "437f5977",
   "metadata": {},
   "source": [
    "# API Handler"
   ]
  },
  {
   "cell_type": "code",
   "execution_count": 48,
   "id": "19b70a87",
   "metadata": {
    "ExecuteTime": {
     "end_time": "2022-08-03T21:06:23.393827Z",
     "start_time": "2022-08-03T21:06:21.189639Z"
    }
   },
   "outputs": [
    {
     "name": "stdout",
     "output_type": "stream",
     "text": [
      "\u001b[31m\u001b[1mWARNING: This is a development server. Do not use it in a production deployment. Use a production WSGI server instead.\u001b[0m\n",
      " * Serving Flask app '__main__'\n",
      " * Debug mode: on\n"
     ]
    },
    {
     "name": "stderr",
     "output_type": "stream",
     "text": [
      " * Running on all addresses (0.0.0.0)\n",
      "   WARNING: This is a development server. Do not use it in a production deployment.\n",
      " * Running on http://127.0.0.1:5000\n",
      " * Running on http://192.168.100.78:5000 (Press CTRL+C to quit)\n",
      " * Restarting with stat\n"
     ]
    },
    {
     "ename": "SystemExit",
     "evalue": "1",
     "output_type": "error",
     "traceback": [
      "An exception has occurred, use %tb to see the full traceback.\n",
      "\u001b[1;31mSystemExit\u001b[0m\u001b[1;31m:\u001b[0m 1\n"
     ]
    },
    {
     "name": "stderr",
     "output_type": "stream",
     "text": [
      "C:\\Users\\vande\\repos\\cross_sell\\env-cross-sell\\lib\\site-packages\\IPython\\core\\interactiveshell.py:3406: UserWarning: To exit: use 'exit', 'quit', or Ctrl-D.\n",
      "  warn(\"To exit: use 'exit', 'quit', or Ctrl-D.\", stacklevel=1)\n"
     ]
    }
   ],
   "source": [
    "import pickle \n",
    "import pandas as pd\n",
    "from health_insurance_app.healthinsurance import HealthInsurance\n",
    "from flask import Flask, request, Response\n",
    "\n",
    "#loading model \n",
    "path = 'C:/Users/vande/repos/cross_sell/'\n",
    "model = pickle.load( open( path + 'src/models/model_linear_regression.pkl', 'rb' ) )\n",
    "\n",
    "app = Flask(__name__)\n",
    "\n",
    "@app.route( '/healthinsurance/predict', methods=['POST'] )\n",
    "def health_insurance_predict():\n",
    "    test_json = request.get_json()\n",
    "    \n",
    "    if test_json: #if there is data\n",
    "        if isinstance(test_json, dict):\n",
    "            test_raw = pd.DataFrame( test_json, index[0] )\n",
    "        else: # if there is more than 1 line use this way to convert \n",
    "            test_raw = pd.DataFrame( test_json, columns=test_json[0].keys() )\n",
    "        \n",
    "        # instantiate health insuranse class \n",
    "        pipeline = HealthInsurance()\n",
    "\n",
    "        # feature engineering\n",
    "        df1 = pipeline.data_engineering( test_raw )\n",
    "\n",
    "        # data preparation\n",
    "        df2 = pipeline.data_preparation( df1 )\n",
    "\n",
    "        # prediction\n",
    "        response = pipeline.get_prediction( df2 )\n",
    "\n",
    "        return response\n",
    "\n",
    "    else:\n",
    "        return Response( '{}', status=200, mimetype='application/json' )\n",
    "\n",
    "if __name__ == '__main__':\n",
    "    app.run('0.0.0.0', debug=True)\n",
    "    \n",
    "        \n",
    "    \n",
    "    "
   ]
  },
  {
   "cell_type": "code",
   "execution_count": null,
   "id": "ffae1d4e",
   "metadata": {
    "ExecuteTime": {
     "end_time": "2022-08-03T15:00:59.300597Z",
     "start_time": "2022-08-03T15:00:59.285149Z"
    }
   },
   "outputs": [],
   "source": []
  },
  {
   "cell_type": "code",
   "execution_count": 12,
   "id": "f67f31ac",
   "metadata": {
    "ExecuteTime": {
     "end_time": "2022-08-08T13:09:48.827128Z",
     "start_time": "2022-08-08T13:09:48.112469Z"
    }
   },
   "outputs": [
    {
     "data": {
      "text/plain": [
       "'[{\"id\": 36868, \"gender\": \"Female\", \"age\": 51, \"region_code\": 8.0, \"policy_sales_channel\": 124.0, \"driving_license\": 1, \"vehicle_age\": \"between_1_2_year\", \"vehicle_damage\": 0, \"previously_insured\": 1, \"annual_premium\": 54202.0, \"vintage\": 194}, {\"id\": 153057, \"gender\": \"Male\", \"age\": 23, \"region_code\": 35.0, \"policy_sales_channel\": 152.0, \"driving_license\": 1, \"vehicle_age\": \"below_1_year\", \"vehicle_damage\": 0, \"previously_insured\": 1, \"annual_premium\": 38496.0, \"vintage\": 88}, {\"id\": 234096, \"gender\": \"Female\", \"age\": 25, \"region_code\": 11.0, \"policy_sales_channel\": 152.0, \"driving_license\": 1, \"vehicle_age\": \"below_1_year\", \"vehicle_damage\": 0, \"previously_insured\": 1, \"annual_premium\": 34849.0, \"vintage\": 141}, {\"id\": 129810, \"gender\": \"Female\", \"age\": 45, \"region_code\": 35.0, \"policy_sales_channel\": 124.0, \"driving_license\": 1, \"vehicle_age\": \"between_1_2_year\", \"vehicle_damage\": 0, \"previously_insured\": 1, \"annual_premium\": 29301.0, \"vintage\": 244}, {\"id\": 121743, \"gender\": \"Female\", \"age\": 49, \"region_code\": 28.0, \"policy_sales_channel\": 26.0, \"driving_license\": 1, \"vehicle_age\": \"between_1_2_year\", \"vehicle_damage\": 0, \"previously_insured\": 1, \"annual_premium\": 40748.0, \"vintage\": 127}, {\"id\": 318517, \"gender\": \"Male\", \"age\": 38, \"region_code\": 28.0, \"policy_sales_channel\": 124.0, \"driving_license\": 1, \"vehicle_age\": \"between_1_2_year\", \"vehicle_damage\": 1, \"previously_insured\": 0, \"annual_premium\": 41708.0, \"vintage\": 206}, {\"id\": 263407, \"gender\": \"Male\", \"age\": 20, \"region_code\": 24.0, \"policy_sales_channel\": 160.0, \"driving_license\": 1, \"vehicle_age\": \"below_1_year\", \"vehicle_damage\": 1, \"previously_insured\": 0, \"annual_premium\": 16211.0, \"vintage\": 63}, {\"id\": 41533, \"gender\": \"Male\", \"age\": 52, \"region_code\": 18.0, \"policy_sales_channel\": 30.0, \"driving_license\": 1, \"vehicle_age\": \"between_1_2_year\", \"vehicle_damage\": 0, \"previously_insured\": 1, \"annual_premium\": 27862.0, \"vintage\": 37}, {\"id\": 340830, \"gender\": \"Male\", \"age\": 24, \"region_code\": 50.0, \"policy_sales_channel\": 152.0, \"driving_license\": 1, \"vehicle_age\": \"below_1_year\", \"vehicle_damage\": 0, \"previously_insured\": 0, \"annual_premium\": 23568.0, \"vintage\": 50}, {\"id\": 201462, \"gender\": \"Female\", \"age\": 23, \"region_code\": 8.0, \"policy_sales_channel\": 152.0, \"driving_license\": 1, \"vehicle_age\": \"below_1_year\", \"vehicle_damage\": 0, \"previously_insured\": 1, \"annual_premium\": 26684.0, \"vintage\": 44}, {\"id\": 219760, \"gender\": \"Male\", \"age\": 49, \"region_code\": 28.0, \"policy_sales_channel\": 124.0, \"driving_license\": 1, \"vehicle_age\": \"between_1_2_year\", \"vehicle_damage\": 0, \"previously_insured\": 0, \"annual_premium\": 57343.0, \"vintage\": 176}, {\"id\": 356192, \"gender\": \"Male\", \"age\": 57, \"region_code\": 46.0, \"policy_sales_channel\": 124.0, \"driving_license\": 1, \"vehicle_age\": \"between_1_2_year\", \"vehicle_damage\": 0, \"previously_insured\": 1, \"annual_premium\": 33581.0, \"vintage\": 161}]'"
      ]
     },
     "execution_count": 12,
     "metadata": {},
     "output_type": "execute_result"
    }
   ],
   "source": [
    "import requests\n",
    "\n",
    "# loading test dataset\n",
    "df_test = x_validation\n",
    "\n",
    "# getting 10 item for testing\n",
    "df_test = df_test.sample(12)\n",
    "\n",
    "# convert test dataset to json\n",
    "data=json.dumps( df_test.to_dict( orient='records' ) )\n",
    "\n",
    "data\n",
    "\n"
   ]
  },
  {
   "cell_type": "code",
   "execution_count": 14,
   "id": "2c4f1e44",
   "metadata": {
    "ExecuteTime": {
     "end_time": "2022-08-08T13:32:31.176501Z",
     "start_time": "2022-08-08T13:32:30.368429Z"
    }
   },
   "outputs": [
    {
     "name": "stdout",
     "output_type": "stream",
     "text": [
      "Status Code 200\n"
     ]
    }
   ],
   "source": [
    "# API CALL \n",
    "\n",
    "url = 'https://health-insurance-vc.herokuapp.com/healthinsurance/predict'\n",
    "header = { 'Content-type':'application/json'}\n",
    "\n",
    "r = requests.post(url, data=data, headers=header)\n",
    "print(f'Status Code {r.status_code}')"
   ]
  },
  {
   "cell_type": "code",
   "execution_count": 35,
   "id": "f60ffaa6",
   "metadata": {
    "ExecuteTime": {
     "end_time": "2022-08-05T21:48:50.963568Z",
     "start_time": "2022-08-05T21:48:50.905566Z"
    }
   },
   "outputs": [
    {
     "data": {
      "text/html": [
       "<div>\n",
       "<style scoped>\n",
       "    .dataframe tbody tr th:only-of-type {\n",
       "        vertical-align: middle;\n",
       "    }\n",
       "\n",
       "    .dataframe tbody tr th {\n",
       "        vertical-align: top;\n",
       "    }\n",
       "\n",
       "    .dataframe thead th {\n",
       "        text-align: right;\n",
       "    }\n",
       "</style>\n",
       "<table border=\"1\" class=\"dataframe\">\n",
       "  <thead>\n",
       "    <tr style=\"text-align: right;\">\n",
       "      <th></th>\n",
       "      <th>id</th>\n",
       "      <th>gender</th>\n",
       "      <th>age</th>\n",
       "      <th>region_code</th>\n",
       "      <th>policy_sales_channel</th>\n",
       "      <th>driving_license</th>\n",
       "      <th>vehicle_age</th>\n",
       "      <th>vehicle_damage</th>\n",
       "      <th>previously_insured</th>\n",
       "      <th>annual_premium</th>\n",
       "      <th>vintage</th>\n",
       "      <th>score</th>\n",
       "    </tr>\n",
       "  </thead>\n",
       "  <tbody>\n",
       "    <tr>\n",
       "      <th>6</th>\n",
       "      <td>310006</td>\n",
       "      <td>0.104106</td>\n",
       "      <td>0.523077</td>\n",
       "      <td>0.114637</td>\n",
       "      <td>133.0</td>\n",
       "      <td>1</td>\n",
       "      <td>above_2_years</td>\n",
       "      <td>0</td>\n",
       "      <td>0</td>\n",
       "      <td>-1.626686</td>\n",
       "      <td>0.318339</td>\n",
       "      <td>0.499490</td>\n",
       "    </tr>\n",
       "    <tr>\n",
       "      <th>5</th>\n",
       "      <td>210930</td>\n",
       "      <td>0.138878</td>\n",
       "      <td>0.661538</td>\n",
       "      <td>0.186894</td>\n",
       "      <td>42.0</td>\n",
       "      <td>1</td>\n",
       "      <td>above_2_years</td>\n",
       "      <td>0</td>\n",
       "      <td>0</td>\n",
       "      <td>0.677179</td>\n",
       "      <td>0.359862</td>\n",
       "      <td>0.499305</td>\n",
       "    </tr>\n",
       "    <tr>\n",
       "      <th>8</th>\n",
       "      <td>182347</td>\n",
       "      <td>0.138878</td>\n",
       "      <td>0.723077</td>\n",
       "      <td>0.186894</td>\n",
       "      <td>25.0</td>\n",
       "      <td>1</td>\n",
       "      <td>above_2_years</td>\n",
       "      <td>0</td>\n",
       "      <td>0</td>\n",
       "      <td>0.084925</td>\n",
       "      <td>0.408304</td>\n",
       "      <td>0.489714</td>\n",
       "    </tr>\n",
       "    <tr>\n",
       "      <th>2</th>\n",
       "      <td>368824</td>\n",
       "      <td>0.104106</td>\n",
       "      <td>0.707692</td>\n",
       "      <td>0.124450</td>\n",
       "      <td>13.0</td>\n",
       "      <td>1</td>\n",
       "      <td>above_2_years</td>\n",
       "      <td>0</td>\n",
       "      <td>0</td>\n",
       "      <td>0.795129</td>\n",
       "      <td>0.858131</td>\n",
       "      <td>0.489494</td>\n",
       "    </tr>\n",
       "    <tr>\n",
       "      <th>10</th>\n",
       "      <td>173728</td>\n",
       "      <td>0.104106</td>\n",
       "      <td>0.861538</td>\n",
       "      <td>0.186894</td>\n",
       "      <td>13.0</td>\n",
       "      <td>0</td>\n",
       "      <td>above_2_years</td>\n",
       "      <td>0</td>\n",
       "      <td>1</td>\n",
       "      <td>-0.438273</td>\n",
       "      <td>0.889273</td>\n",
       "      <td>0.489494</td>\n",
       "    </tr>\n",
       "  </tbody>\n",
       "</table>\n",
       "</div>"
      ],
      "text/plain": [
       "        id    gender       age  region_code  policy_sales_channel  driving_license    vehicle_age  vehicle_damage  previously_insured  annual_premium   vintage     score\n",
       "6   310006  0.104106  0.523077     0.114637                 133.0                1  above_2_years               0                   0       -1.626686  0.318339  0.499490\n",
       "5   210930  0.138878  0.661538     0.186894                  42.0                1  above_2_years               0                   0        0.677179  0.359862  0.499305\n",
       "8   182347  0.138878  0.723077     0.186894                  25.0                1  above_2_years               0                   0        0.084925  0.408304  0.489714\n",
       "2   368824  0.104106  0.707692     0.124450                  13.0                1  above_2_years               0                   0        0.795129  0.858131  0.489494\n",
       "10  173728  0.104106  0.861538     0.186894                  13.0                0  above_2_years               0                   1       -0.438273  0.889273  0.489494"
      ]
     },
     "execution_count": 35,
     "metadata": {},
     "output_type": "execute_result"
    }
   ],
   "source": [
    "df1 = pd.DataFrame(r.json(), columns=r.json()[0].keys())\n",
    "df1.sort_values( 'score', ascending=False ).head()"
   ]
  },
  {
   "cell_type": "code",
   "execution_count": 36,
   "id": "f8fdedf9",
   "metadata": {
    "ExecuteTime": {
     "end_time": "2022-08-05T21:48:50.994573Z",
     "start_time": "2022-08-05T21:48:50.969570Z"
    }
   },
   "outputs": [],
   "source": [
    "df_test.to_csv(r'data/testeexcel.csv',index=False)\n",
    "# df_raw.to_csv('data/pa004.csv',index=False)"
   ]
  },
  {
   "cell_type": "code",
   "execution_count": null,
   "id": "08a010fd",
   "metadata": {},
   "outputs": [],
   "source": []
  }
 ],
 "metadata": {
  "hide_input": false,
  "kernelspec": {
   "display_name": "Python 3.10.6 ('env-cross-sell': venv)",
   "language": "python",
   "name": "python3"
  },
  "language_info": {
   "codemirror_mode": {
    "name": "ipython",
    "version": 3
   },
   "file_extension": ".py",
   "mimetype": "text/x-python",
   "name": "python",
   "nbconvert_exporter": "python",
   "pygments_lexer": "ipython3",
   "version": "3.10.6"
  },
  "varInspector": {
   "cols": {
    "lenName": 16,
    "lenType": 16,
    "lenVar": 40
   },
   "kernels_config": {
    "python": {
     "delete_cmd_postfix": "",
     "delete_cmd_prefix": "del ",
     "library": "var_list.py",
     "varRefreshCmd": "print(var_dic_list())"
    },
    "r": {
     "delete_cmd_postfix": ") ",
     "delete_cmd_prefix": "rm(",
     "library": "var_list.r",
     "varRefreshCmd": "cat(var_dic_list()) "
    }
   },
   "types_to_exclude": [
    "module",
    "function",
    "builtin_function_or_method",
    "instance",
    "_Feature"
   ],
   "window_display": false
  },
  "vscode": {
   "interpreter": {
    "hash": "bd245f96873803ecff015e625552a0bf4f7842c0f42c1710126b379cdac2b820"
   }
  }
 },
 "nbformat": 4,
 "nbformat_minor": 5
}
