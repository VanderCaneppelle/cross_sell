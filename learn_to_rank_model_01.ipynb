{
 "cells": [
  {
   "cell_type": "markdown",
   "id": "f3a8895d",
   "metadata": {},
   "source": [
    "# 0.0 IMPORTS "
   ]
  },
  {
   "cell_type": "code",
   "execution_count": 50,
   "id": "a994f691",
   "metadata": {
    "ExecuteTime": {
     "end_time": "2022-08-03T13:10:42.384456Z",
     "start_time": "2022-08-03T13:10:42.344078Z"
    }
   },
   "outputs": [],
   "source": [
    "import pandas as pd\n",
    "# import psycopg2 as pg\n",
    "import seaborn as sns\n",
    "import pickle\n",
    "import scikitplot as skplt\n",
    "import matplotlib.patches as mpatches\n",
    "\n",
    "from sklearn import model_selection as ms\n",
    "from sklearn import ensemble as en\n",
    "from sklearn import neighbors as nh\n",
    "from sklearn import linear_model as lm\n",
    "\n",
    "from matplotlib import pyplot as plt\n",
    "from IPython.core.display  import HTML\n",
    "from IPython.display       import Image\n",
    "\n",
    "from sklearn import preprocessing as pp"
   ]
  },
  {
   "cell_type": "markdown",
   "id": "516716ac",
   "metadata": {},
   "source": [
    "### 0.0.1 Helper Functions\n"
   ]
  },
  {
   "cell_type": "code",
   "execution_count": 53,
   "id": "638fd91b",
   "metadata": {
    "ExecuteTime": {
     "end_time": "2022-08-03T13:15:44.483667Z",
     "start_time": "2022-08-03T13:15:44.446250Z"
    }
   },
   "outputs": [],
   "source": [
    "def jupyter_settings():\n",
    "    %matplotlib inline\n",
    "    %pylab inline\n",
    "    \n",
    "    \n",
    "    plt.style.use( 'bmh' )\n",
    "    plt.rcParams['figure.figsize'] = [15, 8]\n",
    "    plt.rcParams['font.size'] = 24\n",
    "    \n",
    "    display( HTML( '<style>.container { width:100% !important; }</style>') )\n",
    "    pd.options.display.max_columns = None\n",
    "    pd.options.display.max_rows = None\n",
    "    pd.set_option( 'display.expand_frame_repr', False )\n",
    "    sns.set()\n",
    "    \n",
    "    # Central Tendency -  media e mediana - são metricas de tendência central (central tendency)\n",
    "\n",
    "def descriptive_statistical(x):\n",
    "    ct1 = pd.DataFrame( x.apply(np.mean)).T\n",
    "    ct2 = pd.DataFrame( x.apply(np.median)).T\n",
    "    \n",
    "    # Dispersion - desvio padrão, variância, range. min, max, skew, curtosis  - são metricas de dispersão\n",
    "    d1 = pd.DataFrame( x.apply( np.std ) ).T\n",
    "    d2 = pd.DataFrame( x.apply( min )).T\n",
    "    d3 = pd.DataFrame( x.apply( max )).T\n",
    "    d4 = pd.DataFrame( x.apply(lambda x: x.max() -  x.min() ) ).T\n",
    "    d5 = pd.DataFrame( x.apply(lambda x: x.skew() ) ).T\n",
    "    d6= pd.DataFrame( x.apply(lambda x: x.kurtosis() ) ).T\n",
    "                      \n",
    "    #concatenate\n",
    "    m = pd.concat([d2, d3, d4, ct1, ct2, d1, d5, d6]).T.reset_index()\n",
    "    m.columns = ['attributes','min','max','range','mean','median','std','skew','Kurtosis',]\n",
    "    \n",
    "    return m"
   ]
  },
  {
   "cell_type": "code",
   "execution_count": 54,
   "id": "9a2f853a",
   "metadata": {
    "ExecuteTime": {
     "end_time": "2022-08-03T13:15:45.122272Z",
     "start_time": "2022-08-03T13:15:45.074432Z"
    }
   },
   "outputs": [
    {
     "name": "stdout",
     "output_type": "stream",
     "text": [
      "%pylab is deprecated, use %matplotlib inline and import the required libraries.\n",
      "Populating the interactive namespace from numpy and matplotlib\n"
     ]
    },
    {
     "name": "stderr",
     "output_type": "stream",
     "text": [
      "C:\\Users\\vande\\repos\\cross_sell\\env-cross-sell\\lib\\site-packages\\IPython\\core\\magics\\pylab.py:162: UserWarning: pylab import has clobbered these variables: ['indices', 'std']\n",
      "`%matplotlib` prevents importing * from pylab and numpy\n",
      "  warn(\"pylab import has clobbered these variables: %s\"  % clobbered +\n"
     ]
    },
    {
     "data": {
      "text/html": [
       "<style>.container { width:100% !important; }</style>"
      ],
      "text/plain": [
       "<IPython.core.display.HTML object>"
      ]
     },
     "metadata": {},
     "output_type": "display_data"
    }
   ],
   "source": [
    "jupyter_settings()"
   ]
  },
  {
   "cell_type": "markdown",
   "id": "ef2cd92b",
   "metadata": {
    "heading_collapsed": true
   },
   "source": [
    "## 0.1 Database Conection"
   ]
  },
  {
   "cell_type": "markdown",
   "id": "8f9d69c3",
   "metadata": {
    "hidden": true
   },
   "source": [
    "### 0.1.1 Set Credentials"
   ]
  },
  {
   "cell_type": "code",
   "execution_count": 4,
   "id": "03779d9f",
   "metadata": {
    "ExecuteTime": {
     "end_time": "2022-08-02T14:19:19.100375Z",
     "start_time": "2022-08-02T14:19:19.090375Z"
    },
    "hidden": true
   },
   "outputs": [],
   "source": [
    "# # Credentials\n",
    "# host = 'comunidade-ds-postgres.c50pcakiuwi3.us-east-1.rds.amazonaws.com'\n",
    "# port = 5432\n",
    "# database = 'comunidadedsdb'\n",
    "# username = 'member'\n",
    "# pwd = 'cdspa'"
   ]
  },
  {
   "cell_type": "markdown",
   "id": "44b15d39",
   "metadata": {
    "hidden": true
   },
   "source": [
    "### 0.1.2 Criar conexão - conn "
   ]
  },
  {
   "cell_type": "code",
   "execution_count": 5,
   "id": "5afee048",
   "metadata": {
    "ExecuteTime": {
     "end_time": "2022-08-02T14:19:19.799940Z",
     "start_time": "2022-08-02T14:19:19.103373Z"
    },
    "hidden": true
   },
   "outputs": [
    {
     "ename": "NameError",
     "evalue": "name 'pg' is not defined",
     "output_type": "error",
     "traceback": [
      "\u001b[1;31m---------------------------------------------------------------------------\u001b[0m",
      "\u001b[1;31mNameError\u001b[0m                                 Traceback (most recent call last)",
      "Input \u001b[1;32mIn [5]\u001b[0m, in \u001b[0;36m<cell line: 1>\u001b[1;34m()\u001b[0m\n\u001b[1;32m----> 1\u001b[0m conn \u001b[38;5;241m=\u001b[39m \u001b[43mpg\u001b[49m\u001b[38;5;241m.\u001b[39mconnect( user\u001b[38;5;241m=\u001b[39musername,\n\u001b[0;32m      2\u001b[0m                    password\u001b[38;5;241m=\u001b[39mpwd,\n\u001b[0;32m      3\u001b[0m                    host\u001b[38;5;241m=\u001b[39mhost,\n\u001b[0;32m      4\u001b[0m                    port\u001b[38;5;241m=\u001b[39mport,\n\u001b[0;32m      5\u001b[0m                    database\u001b[38;5;241m=\u001b[39mdatabase )\n",
      "\u001b[1;31mNameError\u001b[0m: name 'pg' is not defined"
     ]
    }
   ],
   "source": [
    "# conn = pg.connect( user=username,\n",
    "#                    password=pwd,\n",
    "#                    host=host,\n",
    "#                    port=port,\n",
    "#                    database=database )"
   ]
  },
  {
   "cell_type": "markdown",
   "id": "1037ba6d",
   "metadata": {
    "hidden": true
   },
   "source": [
    "###  0.1.3  Criar cursor \n",
    "**Cursor é um ponteiro que vai apontar para onde estão meus dados, após isso podemos criar as queries**"
   ]
  },
  {
   "cell_type": "code",
   "execution_count": 13,
   "id": "274547f5",
   "metadata": {
    "ExecuteTime": {
     "end_time": "2022-08-02T14:19:57.112639Z",
     "start_time": "2022-08-02T14:19:57.095564Z"
    },
    "hidden": true
   },
   "outputs": [],
   "source": [
    "# cursor = conn.cursor()"
   ]
  },
  {
   "cell_type": "markdown",
   "id": "533db926",
   "metadata": {
    "hidden": true
   },
   "source": [
    "### 0.1.4 Criação/execução das queries\n",
    "**SEMPRE FECHAR A CONEXÃO APÓS USO DO DATABASE**"
   ]
  },
  {
   "cell_type": "code",
   "execution_count": 14,
   "id": "05b7be87",
   "metadata": {
    "ExecuteTime": {
     "end_time": "2022-08-02T14:19:58.030879Z",
     "start_time": "2022-08-02T14:19:58.011196Z"
    },
    "hidden": true
   },
   "outputs": [],
   "source": [
    "# query_tables = \"\"\"\n",
    "#     SELECT tablename\n",
    "#     FROM pg_tables\n",
    "#     WHERE schemaname = 'pa004'\n",
    "# \"\"\"\n",
    "\n",
    "# cursor.execute(query_tables)\n",
    "\n",
    "# record = cursor.fetchall()\n",
    "# print(record)\n",
    "\n",
    "# cursor.close()\n",
    "# conn.close()"
   ]
  },
  {
   "cell_type": "markdown",
   "id": "0946078a",
   "metadata": {
    "ExecuteTime": {
     "end_time": "2022-07-28T23:13:35.498107Z",
     "start_time": "2022-07-28T23:13:35.446023Z"
    },
    "hidden": true
   },
   "source": [
    "### 0.1.5 Collect Data using Psycopg2 "
   ]
  },
  {
   "cell_type": "code",
   "execution_count": 15,
   "id": "ec251152",
   "metadata": {
    "ExecuteTime": {
     "end_time": "2022-08-02T14:20:00.830425Z",
     "start_time": "2022-08-02T14:20:00.814424Z"
    },
    "hidden": true
   },
   "outputs": [],
   "source": [
    "# cursor = conn.cursor()\n",
    "\n",
    "# query_table_users = \"\"\"\n",
    "#     SELECT *\n",
    "#     FROM pa004.users u\n",
    "#     WHERE u.age > 44\n",
    "#     LIMIT 10\n",
    "# \"\"\"\n",
    "\n",
    "# cursor.execute(query_table_users)\n",
    "\n",
    "# record = cursor.fetchall()\n",
    "# print(record)\n",
    "\n",
    "# cursor.close()\n",
    "# conn.close()"
   ]
  },
  {
   "cell_type": "markdown",
   "id": "b79707b9",
   "metadata": {
    "ExecuteTime": {
     "end_time": "2022-07-28T23:13:35.498107Z",
     "start_time": "2022-07-28T23:13:35.446023Z"
    },
    "hidden": true
   },
   "source": [
    "### 0.1.6 Collect Data using Pandas "
   ]
  },
  {
   "cell_type": "code",
   "execution_count": 16,
   "id": "c2113427",
   "metadata": {
    "ExecuteTime": {
     "end_time": "2022-08-02T14:20:02.196526Z",
     "start_time": "2022-08-02T14:20:02.168932Z"
    },
    "hidden": true
   },
   "outputs": [
    {
     "ename": "NameError",
     "evalue": "name 'pg' is not defined",
     "output_type": "error",
     "traceback": [
      "\u001b[1;31m---------------------------------------------------------------------------\u001b[0m",
      "\u001b[1;31mNameError\u001b[0m                                 Traceback (most recent call last)",
      "Input \u001b[1;32mIn [16]\u001b[0m, in \u001b[0;36m<cell line: 1>\u001b[1;34m()\u001b[0m\n\u001b[1;32m----> 1\u001b[0m conn \u001b[38;5;241m=\u001b[39m \u001b[43mpg\u001b[49m\u001b[38;5;241m.\u001b[39mconnect( user\u001b[38;5;241m=\u001b[39musername,\n\u001b[0;32m      2\u001b[0m                    password\u001b[38;5;241m=\u001b[39mpwd,\n\u001b[0;32m      3\u001b[0m                    host\u001b[38;5;241m=\u001b[39mhost,\n\u001b[0;32m      4\u001b[0m                    port\u001b[38;5;241m=\u001b[39mport,\n\u001b[0;32m      5\u001b[0m                    database\u001b[38;5;241m=\u001b[39mdatabase )\n",
      "\u001b[1;31mNameError\u001b[0m: name 'pg' is not defined"
     ]
    }
   ],
   "source": [
    "# conn = pg.connect( user=username,\n",
    "#                    password=pwd,\n",
    "#                    host=host,\n",
    "#                    port=port,\n",
    "#                    database=database )"
   ]
  },
  {
   "cell_type": "code",
   "execution_count": null,
   "id": "7e0c3e31",
   "metadata": {
    "ExecuteTime": {
     "end_time": "2022-08-02T14:19:19.823943Z",
     "start_time": "2022-08-02T14:19:19.823943Z"
    },
    "hidden": true
   },
   "outputs": [],
   "source": [
    "# query_table_users = \"\"\"\n",
    "#     SELECT *\n",
    "#     FROM pa004.users u LEFT JOIN pa004.vehicle v ON ( u.id = v.id)\n",
    "#                        LEFT JOIN pa004.insurance i ON ( u.id = i.id)\n",
    "# \"\"\""
   ]
  },
  {
   "cell_type": "code",
   "execution_count": null,
   "id": "418bae2e",
   "metadata": {
    "ExecuteTime": {
     "end_time": "2022-08-02T14:19:19.827946Z",
     "start_time": "2022-08-02T14:19:19.827946Z"
    },
    "hidden": true
   },
   "outputs": [],
   "source": [
    "# df = pd.read_sql(query_table_users,conn)\n",
    "# df_raw = df.copy()"
   ]
  },
  {
   "cell_type": "code",
   "execution_count": null,
   "id": "f5124d56",
   "metadata": {
    "ExecuteTime": {
     "end_time": "2022-08-02T14:19:19.830945Z",
     "start_time": "2022-08-02T14:19:19.830945Z"
    },
    "hidden": true
   },
   "outputs": [],
   "source": [
    "# df_raw.to_csv('data/pa004.csv',index=False)"
   ]
  },
  {
   "cell_type": "markdown",
   "id": "872c7e30",
   "metadata": {},
   "source": [
    "# 1.0 Data Description"
   ]
  },
  {
   "cell_type": "code",
   "execution_count": 4,
   "id": "d77a992c",
   "metadata": {
    "ExecuteTime": {
     "end_time": "2022-08-03T13:01:38.488873Z",
     "start_time": "2022-08-03T13:01:37.370950Z"
    }
   },
   "outputs": [],
   "source": [
    "#loading csv dataset\n",
    "\n",
    "df1 = pd.read_csv('data/pa004.csv')\n",
    "df1=df1.drop(['id.1','id.2'],axis=1)"
   ]
  },
  {
   "cell_type": "markdown",
   "id": "87b5adf9",
   "metadata": {},
   "source": [
    "**Id:** identificador único do cliente.\n",
    "\n",
    "**Gender:** gênero do cliente.\n",
    "\n",
    "**Age:** idade do cliente.\n",
    "\n",
    "**Driving License:** 0, o cliente não tem permissão para dirigir e 1, o cliente tem para dirigir ( CNH – Carteira \n",
    "Nacional de Habilitação )\n",
    "\n",
    "**Region Code:** código da região do cliente.\n",
    "\n",
    "**Previously Insured:** 0, o cliente não tem seguro de automóvel e 1, o cliente já tem seguro de automóvel.\n",
    "\n",
    "**Vehicle Age:** idade do veículo.\n",
    "\n",
    "**Vehicle Damage:** 0, cliente nunca teve seu veículo danificado no passado e 1, cliente já teve seu veículo danificado no passado.\n",
    "\n",
    "**Anual Premium:** quantidade que o cliente pagou à empresa pelo seguro de saúde anual.\n",
    "\n",
    "**Policy sales channel:** código anônimo para o canal de contato com o cliente.\n",
    "\n",
    "**Vintage:** número de dias que o cliente se associou à empresa através da compra do seguro de saúde.\n",
    "\n",
    "**Response:** 0, o cliente não tem interesse e 1, o cliente tem interesse."
   ]
  },
  {
   "cell_type": "markdown",
   "id": "531892a1",
   "metadata": {
    "ExecuteTime": {
     "end_time": "2022-07-29T13:42:55.703538Z",
     "start_time": "2022-07-29T13:42:55.698759Z"
    }
   },
   "source": [
    "## 1.1 Data dimensions"
   ]
  },
  {
   "cell_type": "code",
   "execution_count": 5,
   "id": "d4086bb1",
   "metadata": {
    "ExecuteTime": {
     "end_time": "2022-08-03T13:01:38.502030Z",
     "start_time": "2022-08-03T13:01:38.489230Z"
    }
   },
   "outputs": [
    {
     "name": "stdout",
     "output_type": "stream",
     "text": [
      "Total de colunas 12\n",
      "Total de linhas 381109\n"
     ]
    }
   ],
   "source": [
    "print(f'Total de colunas {df1.shape[1]}')\n",
    "print(f'Total de linhas {df1.shape[0]}')"
   ]
  },
  {
   "cell_type": "markdown",
   "id": "b08d51c5",
   "metadata": {
    "ExecuteTime": {
     "end_time": "2022-07-29T13:42:55.703538Z",
     "start_time": "2022-07-29T13:42:55.698759Z"
    }
   },
   "source": [
    "## 1.1 Data types"
   ]
  },
  {
   "cell_type": "code",
   "execution_count": 6,
   "id": "6b4ff6f7",
   "metadata": {
    "ExecuteTime": {
     "end_time": "2022-08-03T13:01:38.534046Z",
     "start_time": "2022-08-03T13:01:38.502030Z"
    }
   },
   "outputs": [
    {
     "data": {
      "text/plain": [
       "id                        int64\n",
       "gender                   object\n",
       "age                       int64\n",
       "region_code             float64\n",
       "policy_sales_channel    float64\n",
       "driving_license           int64\n",
       "vehicle_age              object\n",
       "vehicle_damage           object\n",
       "previously_insured        int64\n",
       "annual_premium          float64\n",
       "vintage                   int64\n",
       "response                  int64\n",
       "dtype: object"
      ]
     },
     "execution_count": 6,
     "metadata": {},
     "output_type": "execute_result"
    }
   ],
   "source": [
    "df1.dtypes"
   ]
  },
  {
   "cell_type": "markdown",
   "id": "d53c4d47",
   "metadata": {
    "ExecuteTime": {
     "end_time": "2022-07-29T14:11:34.649357Z",
     "start_time": "2022-07-29T14:11:34.635321Z"
    }
   },
   "source": [
    "## 1.2 Check NA"
   ]
  },
  {
   "cell_type": "code",
   "execution_count": 7,
   "id": "d620b210",
   "metadata": {
    "ExecuteTime": {
     "end_time": "2022-08-03T13:01:38.814307Z",
     "start_time": "2022-08-03T13:01:38.534046Z"
    }
   },
   "outputs": [
    {
     "data": {
      "text/plain": [
       "id                      0\n",
       "gender                  0\n",
       "age                     0\n",
       "region_code             0\n",
       "policy_sales_channel    0\n",
       "driving_license         0\n",
       "vehicle_age             0\n",
       "vehicle_damage          0\n",
       "previously_insured      0\n",
       "annual_premium          0\n",
       "vintage                 0\n",
       "response                0\n",
       "dtype: int64"
      ]
     },
     "execution_count": 7,
     "metadata": {},
     "output_type": "execute_result"
    }
   ],
   "source": [
    "df1.isna().sum()"
   ]
  },
  {
   "cell_type": "markdown",
   "id": "fe7cd078",
   "metadata": {},
   "source": [
    "## 1.3 Descriptive statistical"
   ]
  },
  {
   "cell_type": "code",
   "execution_count": 8,
   "id": "1e937290",
   "metadata": {
    "ExecuteTime": {
     "end_time": "2022-08-03T13:01:38.830300Z",
     "start_time": "2022-08-03T13:01:38.814307Z"
    }
   },
   "outputs": [],
   "source": [
    "num_attributes=(df1.select_dtypes(include=['float64', 'int64']))\n",
    "cat_attributes=(df1.select_dtypes(exclude=['float64', 'int64']))"
   ]
  },
  {
   "cell_type": "markdown",
   "id": "b216d6bf",
   "metadata": {},
   "source": [
    "### 1.3.1 Numerial Attributes"
   ]
  },
  {
   "cell_type": "code",
   "execution_count": 9,
   "id": "5bef63af",
   "metadata": {
    "ExecuteTime": {
     "end_time": "2022-08-03T13:01:40.279540Z",
     "start_time": "2022-08-03T13:01:38.830300Z"
    },
    "scrolled": true
   },
   "outputs": [
    {
     "data": {
      "text/html": [
       "<div>\n",
       "<style scoped>\n",
       "    .dataframe tbody tr th:only-of-type {\n",
       "        vertical-align: middle;\n",
       "    }\n",
       "\n",
       "    .dataframe tbody tr th {\n",
       "        vertical-align: top;\n",
       "    }\n",
       "\n",
       "    .dataframe thead th {\n",
       "        text-align: right;\n",
       "    }\n",
       "</style>\n",
       "<table border=\"1\" class=\"dataframe\">\n",
       "  <thead>\n",
       "    <tr style=\"text-align: right;\">\n",
       "      <th></th>\n",
       "      <th>attributes</th>\n",
       "      <th>min</th>\n",
       "      <th>max</th>\n",
       "      <th>range</th>\n",
       "      <th>mean</th>\n",
       "      <th>median</th>\n",
       "      <th>std</th>\n",
       "      <th>skew</th>\n",
       "      <th>Kurtosis</th>\n",
       "    </tr>\n",
       "  </thead>\n",
       "  <tbody>\n",
       "    <tr>\n",
       "      <th>0</th>\n",
       "      <td>id</td>\n",
       "      <td>1.0</td>\n",
       "      <td>381109.0</td>\n",
       "      <td>381108.0</td>\n",
       "      <td>190555.000000</td>\n",
       "      <td>190555.0</td>\n",
       "      <td>110016.691870</td>\n",
       "      <td>-8.071174e-18</td>\n",
       "      <td>-1.200000</td>\n",
       "    </tr>\n",
       "    <tr>\n",
       "      <th>1</th>\n",
       "      <td>age</td>\n",
       "      <td>20.0</td>\n",
       "      <td>85.0</td>\n",
       "      <td>65.0</td>\n",
       "      <td>38.822584</td>\n",
       "      <td>36.0</td>\n",
       "      <td>15.511591</td>\n",
       "      <td>6.725390e-01</td>\n",
       "      <td>-0.565655</td>\n",
       "    </tr>\n",
       "    <tr>\n",
       "      <th>2</th>\n",
       "      <td>region_code</td>\n",
       "      <td>0.0</td>\n",
       "      <td>52.0</td>\n",
       "      <td>52.0</td>\n",
       "      <td>26.388807</td>\n",
       "      <td>28.0</td>\n",
       "      <td>13.229871</td>\n",
       "      <td>-1.152664e-01</td>\n",
       "      <td>-0.867857</td>\n",
       "    </tr>\n",
       "    <tr>\n",
       "      <th>3</th>\n",
       "      <td>policy_sales_channel</td>\n",
       "      <td>1.0</td>\n",
       "      <td>163.0</td>\n",
       "      <td>162.0</td>\n",
       "      <td>112.034295</td>\n",
       "      <td>133.0</td>\n",
       "      <td>54.203924</td>\n",
       "      <td>-9.000081e-01</td>\n",
       "      <td>-0.970810</td>\n",
       "    </tr>\n",
       "    <tr>\n",
       "      <th>4</th>\n",
       "      <td>driving_license</td>\n",
       "      <td>0.0</td>\n",
       "      <td>1.0</td>\n",
       "      <td>1.0</td>\n",
       "      <td>0.997869</td>\n",
       "      <td>1.0</td>\n",
       "      <td>0.046109</td>\n",
       "      <td>-2.159518e+01</td>\n",
       "      <td>464.354302</td>\n",
       "    </tr>\n",
       "    <tr>\n",
       "      <th>5</th>\n",
       "      <td>previously_insured</td>\n",
       "      <td>0.0</td>\n",
       "      <td>1.0</td>\n",
       "      <td>1.0</td>\n",
       "      <td>0.458210</td>\n",
       "      <td>0.0</td>\n",
       "      <td>0.498251</td>\n",
       "      <td>1.677471e-01</td>\n",
       "      <td>-1.971871</td>\n",
       "    </tr>\n",
       "    <tr>\n",
       "      <th>6</th>\n",
       "      <td>annual_premium</td>\n",
       "      <td>2630.0</td>\n",
       "      <td>540165.0</td>\n",
       "      <td>537535.0</td>\n",
       "      <td>30564.389581</td>\n",
       "      <td>31669.0</td>\n",
       "      <td>17213.132474</td>\n",
       "      <td>1.766087e+00</td>\n",
       "      <td>34.004569</td>\n",
       "    </tr>\n",
       "    <tr>\n",
       "      <th>7</th>\n",
       "      <td>vintage</td>\n",
       "      <td>10.0</td>\n",
       "      <td>299.0</td>\n",
       "      <td>289.0</td>\n",
       "      <td>154.347397</td>\n",
       "      <td>154.0</td>\n",
       "      <td>83.671194</td>\n",
       "      <td>3.029517e-03</td>\n",
       "      <td>-1.200688</td>\n",
       "    </tr>\n",
       "    <tr>\n",
       "      <th>8</th>\n",
       "      <td>response</td>\n",
       "      <td>0.0</td>\n",
       "      <td>1.0</td>\n",
       "      <td>1.0</td>\n",
       "      <td>0.122563</td>\n",
       "      <td>0.0</td>\n",
       "      <td>0.327935</td>\n",
       "      <td>2.301906e+00</td>\n",
       "      <td>3.298788</td>\n",
       "    </tr>\n",
       "  </tbody>\n",
       "</table>\n",
       "</div>"
      ],
      "text/plain": [
       "             attributes     min       max     range           mean    median            std          skew    Kurtosis\n",
       "0                    id     1.0  381109.0  381108.0  190555.000000  190555.0  110016.691870 -8.071174e-18   -1.200000\n",
       "1                   age    20.0      85.0      65.0      38.822584      36.0      15.511591  6.725390e-01   -0.565655\n",
       "2           region_code     0.0      52.0      52.0      26.388807      28.0      13.229871 -1.152664e-01   -0.867857\n",
       "3  policy_sales_channel     1.0     163.0     162.0     112.034295     133.0      54.203924 -9.000081e-01   -0.970810\n",
       "4       driving_license     0.0       1.0       1.0       0.997869       1.0       0.046109 -2.159518e+01  464.354302\n",
       "5    previously_insured     0.0       1.0       1.0       0.458210       0.0       0.498251  1.677471e-01   -1.971871\n",
       "6        annual_premium  2630.0  540165.0  537535.0   30564.389581   31669.0   17213.132474  1.766087e+00   34.004569\n",
       "7               vintage    10.0     299.0     289.0     154.347397     154.0      83.671194  3.029517e-03   -1.200688\n",
       "8              response     0.0       1.0       1.0       0.122563       0.0       0.327935  2.301906e+00    3.298788"
      ]
     },
     "execution_count": 9,
     "metadata": {},
     "output_type": "execute_result"
    }
   ],
   "source": [
    "# função criada para calcular\n",
    "descriptive_statistical(num_attributes)"
   ]
  },
  {
   "cell_type": "markdown",
   "id": "4ac5b726",
   "metadata": {},
   "source": [
    "### 1.3.2 Categorical Attributes"
   ]
  },
  {
   "cell_type": "code",
   "execution_count": 10,
   "id": "492be0ab",
   "metadata": {
    "ExecuteTime": {
     "end_time": "2022-08-03T13:01:40.335917Z",
     "start_time": "2022-08-03T13:01:40.295674Z"
    }
   },
   "outputs": [
    {
     "data": {
      "text/html": [
       "<div>\n",
       "<style scoped>\n",
       "    .dataframe tbody tr th:only-of-type {\n",
       "        vertical-align: middle;\n",
       "    }\n",
       "\n",
       "    .dataframe tbody tr th {\n",
       "        vertical-align: top;\n",
       "    }\n",
       "\n",
       "    .dataframe thead th {\n",
       "        text-align: right;\n",
       "    }\n",
       "</style>\n",
       "<table border=\"1\" class=\"dataframe\">\n",
       "  <thead>\n",
       "    <tr style=\"text-align: right;\">\n",
       "      <th></th>\n",
       "      <th>gender</th>\n",
       "      <th>vehicle_age</th>\n",
       "      <th>vehicle_damage</th>\n",
       "    </tr>\n",
       "  </thead>\n",
       "  <tbody>\n",
       "    <tr>\n",
       "      <th>0</th>\n",
       "      <td>Male</td>\n",
       "      <td>&lt; 1 Year</td>\n",
       "      <td>Yes</td>\n",
       "    </tr>\n",
       "    <tr>\n",
       "      <th>1</th>\n",
       "      <td>Female</td>\n",
       "      <td>1-2 Year</td>\n",
       "      <td>No</td>\n",
       "    </tr>\n",
       "    <tr>\n",
       "      <th>2</th>\n",
       "      <td>Female</td>\n",
       "      <td>&lt; 1 Year</td>\n",
       "      <td>No</td>\n",
       "    </tr>\n",
       "    <tr>\n",
       "      <th>3</th>\n",
       "      <td>Female</td>\n",
       "      <td>&lt; 1 Year</td>\n",
       "      <td>No</td>\n",
       "    </tr>\n",
       "    <tr>\n",
       "      <th>4</th>\n",
       "      <td>Male</td>\n",
       "      <td>1-2 Year</td>\n",
       "      <td>Yes</td>\n",
       "    </tr>\n",
       "  </tbody>\n",
       "</table>\n",
       "</div>"
      ],
      "text/plain": [
       "   gender vehicle_age vehicle_damage\n",
       "0    Male    < 1 Year            Yes\n",
       "1  Female    1-2 Year             No\n",
       "2  Female    < 1 Year             No\n",
       "3  Female    < 1 Year             No\n",
       "4    Male    1-2 Year            Yes"
      ]
     },
     "execution_count": 10,
     "metadata": {},
     "output_type": "execute_result"
    }
   ],
   "source": [
    "cat_attributes.head()\n"
   ]
  },
  {
   "cell_type": "code",
   "execution_count": 11,
   "id": "1f63ca5c",
   "metadata": {
    "ExecuteTime": {
     "end_time": "2022-08-03T13:01:40.463713Z",
     "start_time": "2022-08-03T13:01:40.335917Z"
    }
   },
   "outputs": [
    {
     "data": {
      "text/plain": [
       "gender            2\n",
       "vehicle_age       3\n",
       "vehicle_damage    2\n",
       "dtype: int64"
      ]
     },
     "execution_count": 11,
     "metadata": {},
     "output_type": "execute_result"
    }
   ],
   "source": [
    "cat_attributes.apply(lambda x: x.unique().shape[0])"
   ]
  },
  {
   "cell_type": "code",
   "execution_count": 12,
   "id": "cd3fb22a",
   "metadata": {
    "ExecuteTime": {
     "end_time": "2022-08-03T13:01:40.519765Z",
     "start_time": "2022-08-03T13:01:40.463713Z"
    }
   },
   "outputs": [
    {
     "data": {
      "text/plain": [
       "array(['< 1 Year', '1-2 Year', '> 2 Years'], dtype=object)"
      ]
     },
     "execution_count": 12,
     "metadata": {},
     "output_type": "execute_result"
    }
   ],
   "source": [
    "cat_attributes['vehicle_age'].unique()"
   ]
  },
  {
   "cell_type": "markdown",
   "id": "a7f4990a",
   "metadata": {},
   "source": [
    "# 2.0 Data Engineering"
   ]
  },
  {
   "cell_type": "code",
   "execution_count": 13,
   "id": "e883666f",
   "metadata": {
    "ExecuteTime": {
     "end_time": "2022-08-03T13:01:40.567745Z",
     "start_time": "2022-08-03T13:01:40.519765Z"
    }
   },
   "outputs": [],
   "source": [
    "df2 = df1.copy()"
   ]
  },
  {
   "cell_type": "code",
   "execution_count": 14,
   "id": "1355d9cb",
   "metadata": {
    "ExecuteTime": {
     "end_time": "2022-08-03T13:01:40.921599Z",
     "start_time": "2022-08-03T13:01:40.575748Z"
    }
   },
   "outputs": [],
   "source": [
    "#vehicle age\n",
    "\n",
    "df2['vehicle_age'] = df2['vehicle_age'].apply( lambda x: 'below_1_year' if x ==  '< 1 Year' else 'between_1_2_year' if x == '1-2 Year' else 'above_2_years' )\n",
    "\n",
    "#vehicle damage\n",
    "df2['vehicle_damage'] = df2['vehicle_damage'].apply( lambda x: 1 if x ==  'Yes' else 0 )\n"
   ]
  },
  {
   "cell_type": "markdown",
   "id": "8b771483",
   "metadata": {},
   "source": [
    "# 3.0 Data Filtering"
   ]
  },
  {
   "cell_type": "markdown",
   "id": "4aff9b36",
   "metadata": {},
   "source": [
    "**Não existem variáveis a serem filtradas **"
   ]
  },
  {
   "cell_type": "markdown",
   "id": "8ecb285a",
   "metadata": {},
   "source": [
    "# 4.0 EDA"
   ]
  },
  {
   "cell_type": "code",
   "execution_count": 15,
   "id": "3c3f55eb",
   "metadata": {
    "ExecuteTime": {
     "end_time": "2022-08-03T13:01:41.049565Z",
     "start_time": "2022-08-03T13:01:40.921599Z"
    }
   },
   "outputs": [],
   "source": [
    "df4 = df2.copy()"
   ]
  },
  {
   "cell_type": "code",
   "execution_count": 16,
   "id": "13995cee",
   "metadata": {
    "ExecuteTime": {
     "end_time": "2022-08-03T13:01:41.065132Z",
     "start_time": "2022-08-03T13:01:41.050075Z"
    }
   },
   "outputs": [
    {
     "data": {
      "text/plain": [
       "Index(['id', 'gender', 'age', 'region_code', 'policy_sales_channel',\n",
       "       'driving_license', 'vehicle_age', 'vehicle_damage',\n",
       "       'previously_insured', 'annual_premium', 'vintage', 'response'],\n",
       "      dtype='object')"
      ]
     },
     "execution_count": 16,
     "metadata": {},
     "output_type": "execute_result"
    }
   ],
   "source": [
    "df4.columns"
   ]
  },
  {
   "cell_type": "markdown",
   "id": "be74bdff",
   "metadata": {},
   "source": [
    "## 4.1 Univariate Analysis"
   ]
  },
  {
   "cell_type": "code",
   "execution_count": 17,
   "id": "f343fbae",
   "metadata": {
    "ExecuteTime": {
     "end_time": "2022-08-03T13:01:41.577987Z",
     "start_time": "2022-08-03T13:01:41.065132Z"
    }
   },
   "outputs": [
    {
     "data": {
      "text/plain": [
       "<AxesSubplot:xlabel='response', ylabel='age'>"
      ]
     },
     "execution_count": 17,
     "metadata": {},
     "output_type": "execute_result"
    },
    {
     "data": {
      "image/png": "[encoded data removed]",
      "text/plain": [
       "<Figure size 1080x576 with 1 Axes>"
      ]
     },
     "metadata": {},
     "output_type": "display_data"
    }
   ],
   "source": [
    "# 'age'\n",
    "sns.boxplot(x='response', y='age', data=df4)\n"
   ]
  },
  {
   "cell_type": "code",
   "execution_count": 18,
   "id": "9bc4c11f",
   "metadata": {
    "ExecuteTime": {
     "end_time": "2022-08-03T13:01:42.776566Z",
     "start_time": "2022-08-03T13:01:41.577987Z"
    }
   },
   "outputs": [
    {
     "data": {
      "text/plain": [
       "<AxesSubplot:xlabel='age', ylabel='Count'>"
      ]
     },
     "execution_count": 18,
     "metadata": {},
     "output_type": "execute_result"
    },
    {
     "data": {
      "image/png": "[encoded data removed]",
      "text/plain": [
       "<Figure size 1080x576 with 2 Axes>"
      ]
     },
     "metadata": {},
     "output_type": "display_data"
    }
   ],
   "source": [
    "plt.subplot(1,2,1)\n",
    "aux00 = df4.loc[df4['response'] == 0,'age']\n",
    "sns.histplot(aux00)\n",
    "\n",
    "\n",
    "plt.subplot(1,2,2)\n",
    "aux00 = df4.loc[df4['response'] == 1,'age']\n",
    "sns.histplot(aux00)"
   ]
  },
  {
   "cell_type": "code",
   "execution_count": 19,
   "id": "b7fd42ac",
   "metadata": {
    "ExecuteTime": {
     "end_time": "2022-08-03T13:01:42.801208Z",
     "start_time": "2022-08-03T13:01:42.776566Z"
    }
   },
   "outputs": [],
   "source": [
    "# 'annual_premium'"
   ]
  },
  {
   "cell_type": "code",
   "execution_count": 20,
   "id": "ca116aab",
   "metadata": {
    "ExecuteTime": {
     "end_time": "2022-08-03T13:01:45.580203Z",
     "start_time": "2022-08-03T13:01:42.801208Z"
    }
   },
   "outputs": [
    {
     "data": {
      "text/plain": [
       "<AxesSubplot:xlabel='response', ylabel='annual_premium'>"
      ]
     },
     "execution_count": 20,
     "metadata": {},
     "output_type": "execute_result"
    },
    {
     "data": {
      "image/png": "[encoded data removed]",
      "text/plain": [
       "<Figure size 1080x576 with 1 Axes>"
      ]
     },
     "metadata": {},
     "output_type": "display_data"
    }
   ],
   "source": [
    "aux= df4[df4['annual_premium'] < 80000]\n",
    "sns.boxplot(x='response', y='annual_premium', data=aux)\n"
   ]
  },
  {
   "cell_type": "code",
   "execution_count": 21,
   "id": "be0b2b01",
   "metadata": {
    "ExecuteTime": {
     "end_time": "2022-08-03T13:01:47.068439Z",
     "start_time": "2022-08-03T13:01:45.588630Z"
    }
   },
   "outputs": [
    {
     "data": {
      "text/plain": [
       "<AxesSubplot:xlabel='annual_premium', ylabel='Count'>"
      ]
     },
     "execution_count": 21,
     "metadata": {},
     "output_type": "execute_result"
    },
    {
     "data": {
      "image/png": "[encoded data removed]",
      "text/plain": [
       "<Figure size 1080x576 with 2 Axes>"
      ]
     },
     "metadata": {},
     "output_type": "display_data"
    }
   ],
   "source": [
    "aux= df4[(df4['annual_premium'] < 80000) & (df4['annual_premium'] > 10000)]\n",
    "\n",
    "plt.subplot(1,2,1)\n",
    "aux00 = aux.loc[aux['response'] == 0,'annual_premium']\n",
    "sns.histplot(aux00)\n",
    "\n",
    "\n",
    "plt.subplot(1,2,2)\n",
    "aux00 = aux.loc[aux['response'] == 1,'annual_premium']\n",
    "sns.histplot(aux00)"
   ]
  },
  {
   "cell_type": "code",
   "execution_count": 22,
   "id": "0ab93ef8",
   "metadata": {
    "ExecuteTime": {
     "end_time": "2022-08-03T13:01:47.170610Z",
     "start_time": "2022-08-03T13:01:47.082039Z"
    }
   },
   "outputs": [],
   "source": [
    "#  'driving_license'\n",
    "\n",
    "aux  = df4[['driving_license','response']].groupby('response').sum().reset_index()\n",
    "aux['driving_license_perc'] = aux['driving_license']/aux['driving_license'].sum()\n"
   ]
  },
  {
   "cell_type": "code",
   "execution_count": 23,
   "id": "3a12872f",
   "metadata": {
    "ExecuteTime": {
     "end_time": "2022-08-03T13:01:47.186635Z",
     "start_time": "2022-08-03T13:01:47.178639Z"
    }
   },
   "outputs": [],
   "source": [
    "# 'region_code'"
   ]
  },
  {
   "cell_type": "code",
   "execution_count": 24,
   "id": "aab9fdf7",
   "metadata": {
    "ExecuteTime": {
     "end_time": "2022-08-03T13:01:47.676833Z",
     "start_time": "2022-08-03T13:01:47.186635Z"
    }
   },
   "outputs": [
    {
     "data": {
      "text/plain": [
       "<AxesSubplot:xlabel='region_code', ylabel='id'>"
      ]
     },
     "execution_count": 24,
     "metadata": {},
     "output_type": "execute_result"
    },
    {
     "data": {
      "image/png": "[encoded data removed]",
      "text/plain": [
       "<Figure size 1080x576 with 1 Axes>"
      ]
     },
     "metadata": {},
     "output_type": "display_data"
    }
   ],
   "source": [
    "aux0 = df4[['id','region_code','response']].groupby( ['region_code','response'] ).sum().reset_index()\n",
    "sns.scatterplot(x='region_code', y='id', hue='response', data=aux0)"
   ]
  },
  {
   "cell_type": "code",
   "execution_count": 25,
   "id": "dad15d41",
   "metadata": {
    "ExecuteTime": {
     "end_time": "2022-08-03T13:01:47.821772Z",
     "start_time": "2022-08-03T13:01:47.676833Z"
    }
   },
   "outputs": [
    {
     "data": {
      "text/html": [
       "<div>\n",
       "<style scoped>\n",
       "    .dataframe tbody tr th:only-of-type {\n",
       "        vertical-align: middle;\n",
       "    }\n",
       "\n",
       "    .dataframe tbody tr th {\n",
       "        vertical-align: top;\n",
       "    }\n",
       "\n",
       "    .dataframe thead th {\n",
       "        text-align: right;\n",
       "    }\n",
       "</style>\n",
       "<table border=\"1\" class=\"dataframe\">\n",
       "  <thead>\n",
       "    <tr style=\"text-align: right;\">\n",
       "      <th>response</th>\n",
       "      <th>0</th>\n",
       "      <th>1</th>\n",
       "    </tr>\n",
       "    <tr>\n",
       "      <th>previously_insured</th>\n",
       "      <th></th>\n",
       "      <th></th>\n",
       "    </tr>\n",
       "  </thead>\n",
       "  <tbody>\n",
       "    <tr>\n",
       "      <th>0</th>\n",
       "      <td>0.774546</td>\n",
       "      <td>0.225454</td>\n",
       "    </tr>\n",
       "    <tr>\n",
       "      <th>1</th>\n",
       "      <td>0.999095</td>\n",
       "      <td>0.000905</td>\n",
       "    </tr>\n",
       "  </tbody>\n",
       "</table>\n",
       "</div>"
      ],
      "text/plain": [
       "response                   0         1\n",
       "previously_insured                    \n",
       "0                   0.774546  0.225454\n",
       "1                   0.999095  0.000905"
      ]
     },
     "execution_count": 25,
     "metadata": {},
     "output_type": "execute_result"
    }
   ],
   "source": [
    "#  'previously_insured'\n",
    "pd.crosstab(df4['previously_insured'], df4['response'] ).apply(lambda x: x/x.sum(), axis=1)"
   ]
  },
  {
   "cell_type": "code",
   "execution_count": 26,
   "id": "9f64f41f",
   "metadata": {
    "ExecuteTime": {
     "end_time": "2022-08-03T13:01:47.949967Z",
     "start_time": "2022-08-03T13:01:47.821772Z"
    }
   },
   "outputs": [
    {
     "data": {
      "text/html": [
       "<div>\n",
       "<style scoped>\n",
       "    .dataframe tbody tr th:only-of-type {\n",
       "        vertical-align: middle;\n",
       "    }\n",
       "\n",
       "    .dataframe tbody tr th {\n",
       "        vertical-align: top;\n",
       "    }\n",
       "\n",
       "    .dataframe thead th {\n",
       "        text-align: right;\n",
       "    }\n",
       "</style>\n",
       "<table border=\"1\" class=\"dataframe\">\n",
       "  <thead>\n",
       "    <tr style=\"text-align: right;\">\n",
       "      <th></th>\n",
       "      <th>vehicle_age</th>\n",
       "      <th>response</th>\n",
       "      <th>0</th>\n",
       "    </tr>\n",
       "  </thead>\n",
       "  <tbody>\n",
       "    <tr>\n",
       "      <th>0</th>\n",
       "      <td>between_1_2_year</td>\n",
       "      <td>0</td>\n",
       "      <td>0.434285</td>\n",
       "    </tr>\n",
       "    <tr>\n",
       "      <th>1</th>\n",
       "      <td>below_1_year</td>\n",
       "      <td>0</td>\n",
       "      <td>0.413488</td>\n",
       "    </tr>\n",
       "    <tr>\n",
       "      <th>2</th>\n",
       "      <td>between_1_2_year</td>\n",
       "      <td>1</td>\n",
       "      <td>0.091328</td>\n",
       "    </tr>\n",
       "    <tr>\n",
       "      <th>3</th>\n",
       "      <td>above_2_years</td>\n",
       "      <td>0</td>\n",
       "      <td>0.029663</td>\n",
       "    </tr>\n",
       "    <tr>\n",
       "      <th>4</th>\n",
       "      <td>below_1_year</td>\n",
       "      <td>1</td>\n",
       "      <td>0.018897</td>\n",
       "    </tr>\n",
       "    <tr>\n",
       "      <th>5</th>\n",
       "      <td>above_2_years</td>\n",
       "      <td>1</td>\n",
       "      <td>0.012338</td>\n",
       "    </tr>\n",
       "  </tbody>\n",
       "</table>\n",
       "</div>"
      ],
      "text/plain": [
       "        vehicle_age  response         0\n",
       "0  between_1_2_year         0  0.434285\n",
       "1      below_1_year         0  0.413488\n",
       "2  between_1_2_year         1  0.091328\n",
       "3     above_2_years         0  0.029663\n",
       "4      below_1_year         1  0.018897\n",
       "5     above_2_years         1  0.012338"
      ]
     },
     "execution_count": 26,
     "metadata": {},
     "output_type": "execute_result"
    }
   ],
   "source": [
    "# 'vehicle_age'\n",
    "\n",
    "df4[['vehicle_age', 'response']].value_counts(normalize=True).reset_index()"
   ]
  },
  {
   "cell_type": "code",
   "execution_count": 27,
   "id": "b23e5a9d",
   "metadata": {
    "ExecuteTime": {
     "end_time": "2022-08-03T13:01:48.030409Z",
     "start_time": "2022-08-03T13:01:47.950490Z"
    }
   },
   "outputs": [],
   "source": [
    "# 'policy_sales_channel'\n",
    "\n",
    "aux = df4[['policy_sales_channel','response']].groupby('policy_sales_channel').sum()\n",
    "aux = df4[df4['response']==1]"
   ]
  },
  {
   "cell_type": "code",
   "execution_count": 28,
   "id": "ff8c7ce8",
   "metadata": {
    "ExecuteTime": {
     "end_time": "2022-08-03T13:01:56.058456Z",
     "start_time": "2022-08-03T13:01:48.037950Z"
    }
   },
   "outputs": [
    {
     "data": {
      "image/png": "[encoded data removed]",
      "text/plain": [
       "<Figure size 1080x576 with 1 Axes>"
      ]
     },
     "metadata": {},
     "output_type": "display_data"
    }
   ],
   "source": [
    "# set plot style: grey grid in the background:\n",
    "sns.set(style=\"darkgrid\")\n",
    "\n",
    "\n",
    "# top bar -> sum all values(smoker=No and smoker=Yes) to find y position of the bars\n",
    "total = df4[['policy_sales_channel','response']].groupby('policy_sales_channel').sum().reset_index()\n",
    "\n",
    "# bar chart 1 -> top bars (group of 'smoker=No')\n",
    "bar1 = sns.barplot(x=\"policy_sales_channel\",  y=\"response\", data=total, color='darkblue')\n",
    "\n",
    "# bottom bar ->  take only smoker=Yes values from the data\n",
    "response = df4[df4['response']==1]\n",
    "\n",
    "# bar chart 2 -> bottom bars (group of 'smoker=Yes')\n",
    "bar2 = sns.barplot(x=\"policy_sales_channel\", y=\"response\", data=response, estimator=sum, ci=None,  color='lightblue')\n",
    "\n",
    "# add legend\n",
    "top_bar = mpatches.Patch(color='darkblue', label='Response = No')\n",
    "bottom_bar = mpatches.Patch(color='lightblue', label='Response = Yes')\n",
    "plt.legend(handles=[top_bar, bottom_bar])\n",
    "plt.xticks(rotation=90)\n",
    "\n",
    "\n",
    "# show the graph\n",
    "plt.show()"
   ]
  },
  {
   "cell_type": "code",
   "execution_count": 29,
   "id": "858fb9af",
   "metadata": {
    "ExecuteTime": {
     "end_time": "2022-08-03T13:01:56.624724Z",
     "start_time": "2022-08-03T13:01:56.058456Z"
    }
   },
   "outputs": [
    {
     "data": {
      "text/plain": [
       "<AxesSubplot:xlabel='response', ylabel='vintage'>"
      ]
     },
     "execution_count": 29,
     "metadata": {},
     "output_type": "execute_result"
    },
    {
     "data": {
      "image/png": "[encoded data removed]",
      "text/plain": [
       "<Figure size 1080x576 with 1 Axes>"
      ]
     },
     "metadata": {},
     "output_type": "display_data"
    }
   ],
   "source": [
    "# 'vintage'\n",
    "sns.boxplot(x='response', y='vintage', data=df4)"
   ]
  },
  {
   "cell_type": "code",
   "execution_count": 30,
   "id": "3baeee81",
   "metadata": {
    "ExecuteTime": {
     "end_time": "2022-08-03T13:01:58.560556Z",
     "start_time": "2022-08-03T13:01:56.640716Z"
    }
   },
   "outputs": [
    {
     "data": {
      "text/plain": [
       "<AxesSubplot:xlabel='vintage', ylabel='Count'>"
      ]
     },
     "execution_count": 30,
     "metadata": {},
     "output_type": "execute_result"
    },
    {
     "data": {
      "image/png": "[encoded data removed]",
      "text/plain": [
       "<Figure size 1080x576 with 2 Axes>"
      ]
     },
     "metadata": {},
     "output_type": "display_data"
    }
   ],
   "source": [
    "\n",
    "plt.subplot(1,2,1)\n",
    "aux00 = df4.loc[df4['response'] == 0,'vintage']\n",
    "sns.histplot(aux00)\n",
    "\n",
    "\n",
    "plt.subplot(1,2,2)\n",
    "aux00 = df4.loc[df4['response'] == 1,'vintage']\n",
    "sns.histplot(aux00)"
   ]
  },
  {
   "cell_type": "markdown",
   "id": "9f35b441",
   "metadata": {},
   "source": [
    "# 5.0 - DATA PREPARATION\n"
   ]
  },
  {
   "cell_type": "code",
   "execution_count": 63,
   "id": "c483d0a5",
   "metadata": {
    "ExecuteTime": {
     "end_time": "2022-08-03T13:28:02.403035Z",
     "start_time": "2022-08-03T13:28:02.256078Z"
    }
   },
   "outputs": [],
   "source": [
    "df5= df4.copy()"
   ]
  },
  {
   "cell_type": "markdown",
   "id": "5aa200d9",
   "metadata": {},
   "source": [
    "## Separaçao dadaos train e validation'"
   ]
  },
  {
   "cell_type": "code",
   "execution_count": 64,
   "id": "b907f743",
   "metadata": {
    "ExecuteTime": {
     "end_time": "2022-08-03T13:28:04.741428Z",
     "start_time": "2022-08-03T13:28:04.479986Z"
    }
   },
   "outputs": [],
   "source": [
    "X = df4.drop('response', axis=1)\n",
    "y = df4['response'].copy()\n",
    "\n",
    "x_train, x_validation, y_train, y_validation = ms.train_test_split( X, y, test_size=0.20 )\n",
    "\n",
    "df5 = pd.concat([x_train,y_train], axis=1)"
   ]
  },
  {
   "cell_type": "markdown",
   "id": "b6167bb8",
   "metadata": {},
   "source": [
    "## 5.1 Stardardization"
   ]
  },
  {
   "cell_type": "code",
   "execution_count": 65,
   "id": "a2d1fa34",
   "metadata": {
    "ExecuteTime": {
     "end_time": "2022-08-03T13:28:05.572177Z",
     "start_time": "2022-08-03T13:28:05.483879Z"
    }
   },
   "outputs": [],
   "source": [
    "ss = pp.StandardScaler()\n",
    "\n",
    "# annual_premium -\n",
    "\n",
    "# vamos manter com outliers e fazer a padronização, pois no EDA vimos que ele tem uma distribuiçã proxima de uma normal quando removemos os autliers \n",
    "\n",
    "df5['annual_premium'] = ss.fit_transform(df5[['annual_premium']].values)\n",
    "pickle.dump( ss, open( 'src/features/annual_premium_scaler.pkl', 'wb' ) )\n"
   ]
  },
  {
   "cell_type": "markdown",
   "id": "70bbe694",
   "metadata": {},
   "source": [
    "## 5.1 Rescaling"
   ]
  },
  {
   "cell_type": "code",
   "execution_count": 66,
   "id": "14f63528",
   "metadata": {
    "ExecuteTime": {
     "end_time": "2022-08-03T13:28:07.105013Z",
     "start_time": "2022-08-03T13:28:07.025030Z"
    }
   },
   "outputs": [],
   "source": [
    "mms_age = pp.MinMaxScaler()\n",
    "mms_vintage = pp.MinMaxScaler()\n",
    "# 'age'\n",
    "\n",
    "df5['age'] = mms_age.fit_transform(df5[['age']].values)\n",
    "pickle.dump( mms_age, open( 'src/features/age_scaler.pkl','wb' ) )\n",
    "\n",
    "# vintage\n",
    "df5['vintage'] = mms_vintage.fit_transform(df5[['vintage']].values)\n",
    "pickle.dump( mms_vintage, open( 'src/features/vintage_scaler.pkl','wb' ) )\n"
   ]
  },
  {
   "cell_type": "markdown",
   "id": "721a2f55",
   "metadata": {},
   "source": [
    "## 5.1 Encoding"
   ]
  },
  {
   "cell_type": "code",
   "execution_count": 67,
   "id": "e2a6b263",
   "metadata": {
    "ExecuteTime": {
     "end_time": "2022-08-03T13:28:09.388770Z",
     "start_time": "2022-08-03T13:28:09.134998Z"
    }
   },
   "outputs": [],
   "source": [
    "# colunas com valores de 0 e 1, já são consideradas encodadas, não necessita encoding (Label Encoding)\n",
    "\n",
    "# driving _license - 0 e 1  - já está encodada \n",
    "# previously_insured -  0 e 1  - já está encodada \n",
    "# vehicle_damage -  0 e 1  - já está encodada \n",
    "\n",
    "# gender - One Hot Encoding / Target Encoding\n",
    "target_encode_gender = df5.groupby('gender')['response'].mean()\n",
    "df5.loc[: , 'gender'] = df5['gender'].map(target_encode_gender)\n",
    "pickle.dump( target_encode_gender, open( 'src/features/target_encode_gender_scaler.pkl','wb' ) )\n",
    "\n",
    "\n",
    "# region_code  - Frequncy Encoding / Target Encoding / Weighted Target Encoding - #- Não aplica-se One Hot Encoding quando se tem mais de 6 nives (valores unicos)\n",
    "target_encode_region_code = df5.groupby('region_code')['response'].mean()\n",
    "df5.loc[: , 'region_code'] = df5['region_code'].map(target_encode_region_code)\n",
    "pickle.dump( target_encode_region_code, open( 'src/features/target_encode_region_code.pkl','wb' ) )\n",
    "\n",
    "# vehicle_age - One Hot Encoding / Order Encoding / Frequency Encoding\n",
    "df5 = pd.get_dummies( df5, prefix = 'vehicle_age', columns=['vehicle_age'] ) \n",
    "\n",
    "# policy_sales_channel Target Encoding / Frequency Encoding\n",
    "fe_policy_sales_channel = df5.groupby('policy_sales_channel').size()\n",
    "df5.loc[: , 'policy_sales_channel'] = df5['policy_sales_channel'].map(fe_policy_sales_channel)\n",
    "pickle.dump( fe_policy_sales_channel, open( 'src/features/fe_policy_sales_channel.pkl','wb' ) )\n"
   ]
  },
  {
   "cell_type": "code",
   "execution_count": null,
   "id": "333ff642",
   "metadata": {
    "ExecuteTime": {
     "end_time": "2022-07-30T15:04:42.534623Z",
     "start_time": "2022-07-30T15:04:42.507483Z"
    }
   },
   "outputs": [],
   "source": []
  },
  {
   "cell_type": "markdown",
   "id": "7d8671a7",
   "metadata": {},
   "source": [
    "## 5.4 Validation Preparation"
   ]
  },
  {
   "cell_type": "code",
   "execution_count": 36,
   "id": "c5f24073",
   "metadata": {
    "ExecuteTime": {
     "end_time": "2022-08-03T13:02:00.038868Z",
     "start_time": "2022-08-03T13:02:00.022647Z"
    }
   },
   "outputs": [
    {
     "data": {
      "text/plain": [
       "Index(['id', 'gender', 'age', 'region_code', 'policy_sales_channel',\n",
       "       'driving_license', 'vehicle_damage', 'previously_insured',\n",
       "       'annual_premium', 'vintage', 'response', 'vehicle_age_above_2_years',\n",
       "       'vehicle_age_below_1_year', 'vehicle_age_between_1_2_year'],\n",
       "      dtype='object')"
      ]
     },
     "execution_count": 36,
     "metadata": {},
     "output_type": "execute_result"
    }
   ],
   "source": [
    "df5.columns"
   ]
  },
  {
   "cell_type": "code",
   "execution_count": 37,
   "id": "5918bd1c",
   "metadata": {
    "ExecuteTime": {
     "end_time": "2022-08-03T13:02:00.247286Z",
     "start_time": "2022-08-03T13:02:00.046873Z"
    }
   },
   "outputs": [],
   "source": [
    "# gender \n",
    "x_validation.loc[:, 'gender'] = x_validation.loc[ : ,'gender'].map(target_encode_gender)\n",
    "\n",
    "\n",
    "# age\n",
    "x_validation.loc[:, 'age'] = mms_age.transform(x_validation[['age']].values)\n",
    "\n",
    "\n",
    "# region_code\n",
    "x_validation.loc[:, 'region_code'] = x_validation.loc[ : ,'region_code'].map(target_encode_region_code)\n",
    "\n",
    "\n",
    "# vehicle_age \n",
    "x_validation = pd.get_dummies(x_validation, prefix='vechicle_age', columns=['vehicle_age'] )\n",
    "\n",
    "\n",
    "# annual_premium\n",
    "x_validation.loc[:,'annual_premium'] = ss.fit_transform(x_validation[['annual_premium']].values) \n",
    "\n",
    "\n",
    "# policy_sales_channel\n",
    "x_validation.loc[ :, 'policy_sales_channel'] = x_validation.loc[ :, 'policy_sales_channel'].map(fe_policy_sales_channel)\n",
    "\n",
    "\n",
    "# vintage\n",
    "x_validation.loc[:, 'vintage'] = mms_vintage.transform(x_validation[['vintage']].values )\n",
    "\n",
    "\n",
    "# fillna\n",
    "x_validation = x_validation.fillna( 0 )\n",
    "\n"
   ]
  },
  {
   "cell_type": "markdown",
   "id": "3c65348e",
   "metadata": {},
   "source": [
    "# 6.0 Feature Selection\n"
   ]
  },
  {
   "cell_type": "markdown",
   "id": "ada7b5c9",
   "metadata": {},
   "source": [
    "## 6.1 Features importância"
   ]
  },
  {
   "cell_type": "code",
   "execution_count": 38,
   "id": "400f2e03",
   "metadata": {
    "ExecuteTime": {
     "end_time": "2022-08-03T13:02:45.961680Z",
     "start_time": "2022-08-03T13:02:00.247286Z"
    }
   },
   "outputs": [
    {
     "data": {
      "text/html": [
       "<style>#sk-container-id-1 {color: black;background-color: white;}#sk-container-id-1 pre{padding: 0;}#sk-container-id-1 div.sk-toggleable {background-color: white;}#sk-container-id-1 label.sk-toggleable__label {cursor: pointer;display: block;width: 100%;margin-bottom: 0;padding: 0.3em;box-sizing: border-box;text-align: center;}#sk-container-id-1 label.sk-toggleable__label-arrow:before {content: \"▸\";float: left;margin-right: 0.25em;color: #696969;}#sk-container-id-1 label.sk-toggleable__label-arrow:hover:before {color: black;}#sk-container-id-1 div.sk-estimator:hover label.sk-toggleable__label-arrow:before {color: black;}#sk-container-id-1 div.sk-toggleable__content {max-height: 0;max-width: 0;overflow: hidden;text-align: left;background-color: #f0f8ff;}#sk-container-id-1 div.sk-toggleable__content pre {margin: 0.2em;color: black;border-radius: 0.25em;background-color: #f0f8ff;}#sk-container-id-1 input.sk-toggleable__control:checked~div.sk-toggleable__content {max-height: 200px;max-width: 100%;overflow: auto;}#sk-container-id-1 input.sk-toggleable__control:checked~label.sk-toggleable__label-arrow:before {content: \"▾\";}#sk-container-id-1 div.sk-estimator input.sk-toggleable__control:checked~label.sk-toggleable__label {background-color: #d4ebff;}#sk-container-id-1 div.sk-label input.sk-toggleable__control:checked~label.sk-toggleable__label {background-color: #d4ebff;}#sk-container-id-1 input.sk-hidden--visually {border: 0;clip: rect(1px 1px 1px 1px);clip: rect(1px, 1px, 1px, 1px);height: 1px;margin: -1px;overflow: hidden;padding: 0;position: absolute;width: 1px;}#sk-container-id-1 div.sk-estimator {font-family: monospace;background-color: #f0f8ff;border: 1px dotted black;border-radius: 0.25em;box-sizing: border-box;margin-bottom: 0.5em;}#sk-container-id-1 div.sk-estimator:hover {background-color: #d4ebff;}#sk-container-id-1 div.sk-parallel-item::after {content: \"\";width: 100%;border-bottom: 1px solid gray;flex-grow: 1;}#sk-container-id-1 div.sk-label:hover label.sk-toggleable__label {background-color: #d4ebff;}#sk-container-id-1 div.sk-serial::before {content: \"\";position: absolute;border-left: 1px solid gray;box-sizing: border-box;top: 0;bottom: 0;left: 50%;z-index: 0;}#sk-container-id-1 div.sk-serial {display: flex;flex-direction: column;align-items: center;background-color: white;padding-right: 0.2em;padding-left: 0.2em;position: relative;}#sk-container-id-1 div.sk-item {position: relative;z-index: 1;}#sk-container-id-1 div.sk-parallel {display: flex;align-items: stretch;justify-content: center;background-color: white;position: relative;}#sk-container-id-1 div.sk-item::before, #sk-container-id-1 div.sk-parallel-item::before {content: \"\";position: absolute;border-left: 1px solid gray;box-sizing: border-box;top: 0;bottom: 0;left: 50%;z-index: -1;}#sk-container-id-1 div.sk-parallel-item {display: flex;flex-direction: column;z-index: 1;position: relative;background-color: white;}#sk-container-id-1 div.sk-parallel-item:first-child::after {align-self: flex-end;width: 50%;}#sk-container-id-1 div.sk-parallel-item:last-child::after {align-self: flex-start;width: 50%;}#sk-container-id-1 div.sk-parallel-item:only-child::after {width: 0;}#sk-container-id-1 div.sk-dashed-wrapped {border: 1px dashed gray;margin: 0 0.4em 0.5em 0.4em;box-sizing: border-box;padding-bottom: 0.4em;background-color: white;}#sk-container-id-1 div.sk-label label {font-family: monospace;font-weight: bold;display: inline-block;line-height: 1.2em;}#sk-container-id-1 div.sk-label-container {text-align: center;}#sk-container-id-1 div.sk-container {/* jupyter's `normalize.less` sets `[hidden] { display: none; }` but bootstrap.min.css set `[hidden] { display: none !important; }` so we also need the `!important` here to be able to override the default hidden behavior on the sphinx rendered scikit-learn.org. See: https://github.com/scikit-learn/scikit-learn/issues/21755 */display: inline-block !important;position: relative;}#sk-container-id-1 div.sk-text-repr-fallback {display: none;}</style><div id=\"sk-container-id-1\" class=\"sk-top-container\"><div class=\"sk-text-repr-fallback\"><pre>ExtraTreesClassifier(n_estimators=250, n_jobs=-1, random_state=0)</pre><b>In a Jupyter environment, please rerun this cell to show the HTML representation or trust the notebook. <br />On GitHub, the HTML representation is unable to render, please try loading this page with nbviewer.org.</b></div><div class=\"sk-container\" hidden><div class=\"sk-item\"><div class=\"sk-estimator sk-toggleable\"><input class=\"sk-toggleable__control sk-hidden--visually\" id=\"sk-estimator-id-1\" type=\"checkbox\" checked><label for=\"sk-estimator-id-1\" class=\"sk-toggleable__label sk-toggleable__label-arrow\">ExtraTreesClassifier</label><div class=\"sk-toggleable__content\"><pre>ExtraTreesClassifier(n_estimators=250, n_jobs=-1, random_state=0)</pre></div></div></div></div></div>"
      ],
      "text/plain": [
       "ExtraTreesClassifier(n_estimators=250, n_jobs=-1, random_state=0)"
      ]
     },
     "execution_count": 38,
     "metadata": {},
     "output_type": "execute_result"
    }
   ],
   "source": [
    "#model definition \n",
    "forest = en.ExtraTreesClassifier( n_estimators=250, random_state=0, n_jobs=-1 )\n",
    "\n",
    "# data preparation\n",
    "x_train_n = df5.drop(['id','response'], axis=1)\n",
    "y_train_n = y_train.values\n",
    "forest.fit( x_train_n,y_train_n )"
   ]
  },
  {
   "cell_type": "code",
   "execution_count": 39,
   "id": "e31e1c88",
   "metadata": {
    "ExecuteTime": {
     "end_time": "2022-08-03T13:02:57.094185Z",
     "start_time": "2022-08-03T13:02:45.969676Z"
    },
    "scrolled": false
   },
   "outputs": [
    {
     "name": "stdout",
     "output_type": "stream",
     "text": [
      "Feature Ranking: \n",
      "                        feature  importance\n",
      "0                       vintage    0.275078\n",
      "0                annual_premium    0.245656\n",
      "0                           age    0.162296\n",
      "0                   region_code    0.105908\n",
      "0                vehicle_damage    0.066677\n",
      "0          policy_sales_channel    0.059679\n",
      "0            previously_insured    0.057358\n",
      "0      vehicle_age_below_1_year    0.013032\n",
      "0  vehicle_age_between_1_2_year    0.006559\n",
      "0                        gender    0.004822\n",
      "0     vehicle_age_above_2_years    0.002475\n",
      "0               driving_license    0.000460\n"
     ]
    },
    {
     "data": {
      "image/png": "[encoded data removed]",
      "text/plain": [
       "<Figure size 1080x576 with 1 Axes>"
      ]
     },
     "metadata": {},
     "output_type": "display_data"
    }
   ],
   "source": [
    "importances = forest.feature_importances_\n",
    "std = np.std( [ tree.feature_importances_ for tree in forest.estimators_ ], axis=0 )\n",
    "indices = np.argsort(importances)[::-1]\n",
    "\n",
    "# print the feature ranking  \n",
    "print('Feature Ranking: ')\n",
    "df = pd.DataFrame()\n",
    "for i, j in zip(x_train_n,forest.feature_importances_):\n",
    "    aux = pd.DataFrame( {'feature': i, 'importance': j}, index=[0] )\n",
    "    df= pd.concat( [df, aux], axis=0 )\n",
    "print( df.sort_values( 'importance', ascending = False ) )\n",
    "\n",
    "# plot the impurity-based feature importances of the forest \n",
    "\n",
    "plt.title('Feature Importances')\n",
    "plt.bar(range(x_train_n.shape[1]),importances[indices], color ='r', yerr=std, align='center')\n",
    "plt.xticks(range(x_train_n.shape[1]),indices)\n",
    "plt.xlim([-1, x_train_n.shape[1]])\n",
    "plt.show()"
   ]
  },
  {
   "cell_type": "code",
   "execution_count": 41,
   "id": "487c2327",
   "metadata": {
    "ExecuteTime": {
     "end_time": "2022-08-03T13:03:23.975317Z",
     "start_time": "2022-08-03T13:03:23.919311Z"
    }
   },
   "outputs": [],
   "source": [
    "cols_selected = ['vintage', 'annual_premium', 'age', 'vehicle_damage', 'policy_sales_channel', 'previously_insured']\n",
    "\n",
    "x_train = df5[cols_selected]\n",
    "x_val = x_validation[cols_selected]\n",
    "y_val = y_validation.copy()"
   ]
  },
  {
   "cell_type": "markdown",
   "id": "b9f3125e",
   "metadata": {},
   "source": [
    "## 7.1 KNN MODEL"
   ]
  },
  {
   "cell_type": "code",
   "execution_count": 42,
   "id": "d666092b",
   "metadata": {
    "ExecuteTime": {
     "end_time": "2022-08-03T13:03:50.548994Z",
     "start_time": "2022-08-03T13:03:24.693814Z"
    }
   },
   "outputs": [],
   "source": [
    "# model definition\n",
    "knn_model = nh.KNeighborsClassifier(n_neighbors=7)\n",
    "\n",
    "# model training\n",
    "knn_model.fit(x_train, y_train)\n",
    "\n",
    "# model prediction - Poder de GENEREALIZAÇÃO\n",
    "yhat_knn = knn_model.predict_proba( x_val )"
   ]
  },
  {
   "cell_type": "code",
   "execution_count": 43,
   "id": "529547b2",
   "metadata": {
    "ExecuteTime": {
     "end_time": "2022-08-03T13:03:51.236395Z",
     "start_time": "2022-08-03T13:03:50.548994Z"
    }
   },
   "outputs": [
    {
     "data": {
      "image/png": "[encoded data removed]",
      "text/plain": [
       "<Figure size 1080x576 with 1 Axes>"
      ]
     },
     "metadata": {},
     "output_type": "display_data"
    }
   ],
   "source": [
    "skplt.metrics.plot_cumulative_gain( y_val, yhat_knn);"
   ]
  },
  {
   "cell_type": "code",
   "execution_count": 44,
   "id": "4efebd99",
   "metadata": {
    "ExecuteTime": {
     "end_time": "2022-08-03T13:03:52.503421Z",
     "start_time": "2022-08-03T13:03:51.236395Z"
    },
    "scrolled": false
   },
   "outputs": [
    {
     "data": {
      "text/plain": [
       "<AxesSubplot:title={'center':'Cumulative Gains Curve'}, xlabel='Percentage of sample', ylabel='Gain'>"
      ]
     },
     "execution_count": 44,
     "metadata": {},
     "output_type": "execute_result"
    },
    {
     "data": {
      "image/png": "[encoded data removed]",
      "text/plain": [
       "<Figure size 1080x576 with 1 Axes>"
      ]
     },
     "metadata": {},
     "output_type": "display_data"
    }
   ],
   "source": [
    "#model definition \n",
    "lr_model = lm.LogisticRegression( random_state=42 )\n",
    "\n",
    "#model training \n",
    "lr_model.fit( x_train, y_train )\n",
    "\n",
    "#model Prediction\n",
    "\n",
    "yhat_lr = lr_model.predict_proba(x_val)\n",
    "\n",
    "# Accumulative Gain\n",
    "skplt.metrics.plot_cumulative_gain(y_val, yhat_lr)\n"
   ]
  },
  {
   "cell_type": "markdown",
   "id": "fcbbc6f6",
   "metadata": {},
   "source": [
    "# Extra Trees "
   ]
  },
  {
   "cell_type": "code",
   "execution_count": 45,
   "id": "50cc6c2d",
   "metadata": {
    "ExecuteTime": {
     "end_time": "2022-08-03T13:03:52.534685Z",
     "start_time": "2022-08-03T13:03:52.503421Z"
    }
   },
   "outputs": [],
   "source": [
    "# # model definition\n",
    "# et = en.ExtraTreesClassifier(n_estimators=1000, n_jobs=-1, random_state=42)\n",
    "\n",
    "# # model fit\n",
    "\n",
    "# et.fit( x_train,y_train )\n",
    "\n",
    "# # model model predict\n",
    "# yhat_et = et.predict_proba( x_val )"
   ]
  },
  {
   "cell_type": "code",
   "execution_count": 46,
   "id": "b012d75a",
   "metadata": {
    "ExecuteTime": {
     "end_time": "2022-08-03T13:03:52.565941Z",
     "start_time": "2022-08-03T13:03:52.534685Z"
    }
   },
   "outputs": [],
   "source": [
    "# # model result plot\n",
    "# skplt.metrics.plot_cumulative_gain(y_val, yhat_et)"
   ]
  },
  {
   "cell_type": "markdown",
   "id": "55b17494",
   "metadata": {},
   "source": [
    "# 8.0 Model performance"
   ]
  },
  {
   "cell_type": "code",
   "execution_count": 47,
   "id": "e4d7a486",
   "metadata": {
    "ExecuteTime": {
     "end_time": "2022-08-03T13:03:52.597200Z",
     "start_time": "2022-08-03T13:03:52.565941Z"
    }
   },
   "outputs": [],
   "source": [
    "\n",
    "def precision_at_k(data, k=2000):\n",
    "    #reset_index\n",
    "    data = data.reset_index(drop=True)\n",
    "    \n",
    "    # create ranking\n",
    "    data['ranking']  = data.index + 1\n",
    "    \n",
    "    data['precision_at_k'] = data['response'].cumsum() / data['ranking']\n",
    "    \n",
    "    return data.loc[k , 'precision_at_k']\n",
    "\n",
    "def recall_at_k(data, k=2000):\n",
    "    #reset_index\n",
    "    data = data.reset_index(drop=True)\n",
    "    \n",
    "    # create ranking\n",
    "    data['ranking']  = data.index + 1\n",
    "    \n",
    "    data['recall_at_k'] = data['response'].cumsum() / data['response'].sum()\n",
    "    \n",
    "    return data.loc[k , 'recall_at_k']"
   ]
  },
  {
   "cell_type": "code",
   "execution_count": 48,
   "id": "8a2ea149",
   "metadata": {
    "ExecuteTime": {
     "end_time": "2022-08-03T13:03:52.800404Z",
     "start_time": "2022-08-03T13:03:52.597200Z"
    }
   },
   "outputs": [
    {
     "name": "stdout",
     "output_type": "stream",
     "text": [
      "Precision at k: 0.2095697607559811\n",
      "Recall at k: 0.8978258541287352\n"
     ]
    }
   ],
   "source": [
    "df8 = x_validation.copy()\n",
    "df8['response'] = y_val.copy()\n",
    "\n",
    "# propesity score\n",
    "df8['score'] = yhat_knn[: , 1].tolist()\n",
    "\n",
    "# sorting clients by propensity scoce\n",
    "df8 = df8.sort_values('score', ascending = False)\n",
    "\n",
    "# compute precision at k\n",
    "precision_at_50 = precision_at_k(df8 , k =40000)\n",
    "print(f'Precision at k: {precision_at_50}')\n",
    "\n",
    "# compute recall at k\n",
    "recall_at_50 = recall_at_k(df8 , k =40000)\n",
    "print(f'Recall at k: {recall_at_50}')\n"
   ]
  },
  {
   "cell_type": "code",
   "execution_count": 68,
   "id": "4328a4ea",
   "metadata": {
    "ExecuteTime": {
     "end_time": "2022-08-03T13:28:53.580108Z",
     "start_time": "2022-08-03T13:28:53.555906Z"
    }
   },
   "outputs": [],
   "source": [
    "pickle.dump(lr_model, open( 'C:/Users/vande/repos/cross_sell/src/models/model_linear_regression.pkl','wb' ) )"
   ]
  },
  {
   "cell_type": "code",
   "execution_count": 72,
   "id": "18471bd9",
   "metadata": {
    "ExecuteTime": {
     "end_time": "2022-08-03T14:19:43.031740Z",
     "start_time": "2022-08-03T14:19:43.000019Z"
    }
   },
   "outputs": [],
   "source": [
    "# Class Creation\n",
    "\n",
    "class HealthInsurance:\n",
    "    def __init__( self ):\n",
    "        self.home_path = 'C:/Users/vande/repos/cross_sell/'\n",
    "        self.annual_premium_scaler = pickle.load( open( self.home_path + 'src/features/annual_premium_scaler.pkl' ) )\n",
    "        self.age_scaler = pickle.load( open( self.home_path + 'src/features/age_scaler.pkl' ) )\n",
    "        self.vintage_scaler = pickle.load( open( self.home_path + 'src/features/vintage_scaler.pkl' ) )\n",
    "        self.target_encode_gender_scaler = pickle.load( open( self.home_path + 'src/features/target_encode_gender_scaler.pkl' ) )\n",
    "        self.target_encode_region_code_scaler = pickle.load( open( self.home_path + 'src/features/target_encode_region_code_scaler.pkl' ) )\n",
    "        self.fe_policy_sales_channel_scaler = pickle.load( open( self.home_path + 'src/features/fe_policy_sales_channel_scaler.pkl' ) ) \n",
    "        \n",
    "    def data_engineering (self, df2 ):\n",
    "        #vehicle age\n",
    "\n",
    "        df2['vehicle_age'] = df2['vehicle_age'].apply( lambda x: 'below_1_year' if x ==  '< 1 Year' else 'between_1_2_year' if x == '1-2 Year' else 'above_2_years' )\n",
    "\n",
    "        #vehicle damage\n",
    "        df2['vehicle_damage'] = df2['vehicle_damage'].apply( lambda x: 1 if x ==  'Yes' else 0 )\n",
    "            \n",
    "        return df2\n",
    "    \n",
    "    def data_preparation( self, df5 ):\n",
    "        # annual_premium - StandarScaler\n",
    "        df5['annual_premium'] = self.annual_premium_scaler.transform(df5[['annual_premium']].values)\n",
    "\n",
    "        # 'age'\n",
    "        df5['age'] = self.age_scaler.transform(df5[['age']].values)\n",
    "\n",
    "        # vintage\n",
    "        df5['vintage'] = self.vintage_scaler.transform(df5[['vintage']].values)\n",
    "\n",
    "        # gender - One Hot Encoding / Target Encoding\n",
    "        df5.loc[: , 'gender'] = df5['gender'].map( self.target_encode_gender_scaler )\n",
    "\n",
    "        # region_code  - Frequncy Encoding / Target Encoding / Weighted Target Encoding - #- Não aplica-se One Hot Encoding quando se tem mais de 6 nives (valores unicos)\n",
    "        df5.loc[: , 'region_code'] = df5['region_code'].map( self.target_encode_region_code.scaler )\n",
    "\n",
    "        # vehicle_age - One Hot Encoding / Order Encoding / Frequency Encoding\n",
    "        df5 = pd.get_dummies( df5, prefix = 'vehicle_age', columns=['vehicle_age'] ) \n",
    "\n",
    "        # policy_sales_channel Target Encoding / Frequency Encoding\n",
    "        df5.loc[: , 'policy_sales_channel'] = df5['policy_sales_channel'].map( self.fe_policy_sales_channel_scaler )\n",
    "        \n",
    "        #selected features\n",
    "        cols_selected = ['vintage', 'annual_premium', 'age', 'vehicle_damage', 'policy_sales_channel', 'previously_insured']\n",
    "\n",
    "        \n",
    "        return df5[cols_selected]\n",
    "        \n",
    "    def get_prediction( self, model, original_data, test_data ):\n",
    "        \n",
    "        # get prediction for requested data\n",
    "        pred = model.predict_proba( test_data )\n",
    "        \n",
    "        # adding into the original data\n",
    "        original_data['score'] = pred\n",
    "        \n",
    "        #converting to json before sending back to requestor\n",
    "        return original_data.to_json( orient= 'records', date_format='iso' )\n",
    "        \n",
    "        "
   ]
  },
  {
   "cell_type": "markdown",
   "id": "437f5977",
   "metadata": {},
   "source": [
    "# API Handler"
   ]
  },
  {
   "cell_type": "code",
   "execution_count": 90,
   "id": "19b70a87",
   "metadata": {
    "ExecuteTime": {
     "end_time": "2022-08-03T15:28:43.993333Z",
     "start_time": "2022-08-03T15:28:42.474013Z"
    }
   },
   "outputs": [
    {
     "name": "stdout",
     "output_type": "stream",
     "text": [
      "\u001b[31m\u001b[1mWARNING: This is a development server. Do not use it in a production deployment. Use a production WSGI server instead.\u001b[0m\n",
      " * Serving Flask app '__main__'\n",
      " * Debug mode: on\n"
     ]
    },
    {
     "name": "stderr",
     "output_type": "stream",
     "text": [
      " * Running on all addresses (0.0.0.0)\n",
      "   WARNING: This is a development server. Do not use it in a production deployment.\n",
      " * Running on http://127.0.0.1:5000\n",
      " * Running on http://192.168.100.78:5000 (Press CTRL+C to quit)\n",
      " * Restarting with stat\n"
     ]
    },
    {
     "ename": "SystemExit",
     "evalue": "1",
     "output_type": "error",
     "traceback": [
      "An exception has occurred, use %tb to see the full traceback.\n",
      "\u001b[1;31mSystemExit\u001b[0m\u001b[1;31m:\u001b[0m 1\n"
     ]
    }
   ],
   "source": [
    "import pickle \n",
    "import pandas as pd\n",
    "from health_insurance_app.HealthInsurance import HealthInsurance\n",
    "from flask import Flask, request, Response\n",
    "\n",
    "#loading model \n",
    "path = 'C:/Users/vande/repos/cross_sell/'\n",
    "model = pickle.load( open( path + 'src/models/model_linear_regression.pkl', 'rb' ) )\n",
    "\n",
    "app = Flask(__name__)\n",
    "\n",
    "@app.route( '/healthinsurance/predict', methods=['POST'] )\n",
    "def health_insurance_predict():\n",
    "    test_json = request.get_json()\n",
    "    \n",
    "    if test_json: #if there is data\n",
    "        if isinstance(test_json, dict):\n",
    "            test_raw = pd.DataFrame( test_json, index[0] )\n",
    "        else: # if there is more than 1 line use this way to convert \n",
    "            test_raw = pd.DataFrame( test_json, columns=test_json[0].keys() )\n",
    "        \n",
    "        # instantiate rossmann class \n",
    "        pipeline = HealthInsurance()\n",
    "\n",
    "        # feature engineering\n",
    "        df1 = pipeline.data_engineering( data_raw )\n",
    "\n",
    "        # data preparation\n",
    "        df2 = pipeline.data_preparation( df1 )\n",
    "\n",
    "        # prediction\n",
    "        response = pipeline.get_prediction( df2 )\n",
    "\n",
    "        return response\n",
    "\n",
    "    else:\n",
    "        return Response( '{}', status=200, mimetype='application/json' )\n",
    "\n",
    "if __name__ == '__main__':\n",
    "    app.run('0.0.0.0', debug=True)\n",
    "    \n",
    "        \n",
    "    \n",
    "    "
   ]
  },
  {
   "cell_type": "code",
   "execution_count": 80,
   "id": "ffae1d4e",
   "metadata": {
    "ExecuteTime": {
     "end_time": "2022-08-03T15:00:59.300597Z",
     "start_time": "2022-08-03T15:00:59.285149Z"
    }
   },
   "outputs": [
    {
     "data": {
      "text/plain": [
       "'C:\\\\Users\\\\vande\\\\repos\\\\cross_sell'"
      ]
     },
     "execution_count": 80,
     "metadata": {},
     "output_type": "execute_result"
    }
   ],
   "source": [
    "pwd"
   ]
  },
  {
   "cell_type": "code",
   "execution_count": 100,
   "id": "bcd29648",
   "metadata": {
    "ExecuteTime": {
     "end_time": "2022-08-03T15:36:54.127310Z",
     "start_time": "2022-08-03T15:36:53.672133Z"
    }
   },
   "outputs": [],
   "source": [
    "# loading test dataset\n",
    "import requests\n",
    "df_test = x_validation"
   ]
  },
  {
   "cell_type": "code",
   "execution_count": 101,
   "id": "3c0d08a8",
   "metadata": {
    "ExecuteTime": {
     "end_time": "2022-08-03T15:36:54.282288Z",
     "start_time": "2022-08-03T15:36:54.267287Z"
    }
   },
   "outputs": [],
   "source": [
    "# getting 10 item for testing\n",
    "df_test = df_test.sample(10)"
   ]
  },
  {
   "cell_type": "code",
   "execution_count": 102,
   "id": "efa36400",
   "metadata": {
    "ExecuteTime": {
     "end_time": "2022-08-03T15:36:54.847677Z",
     "start_time": "2022-08-03T15:36:54.827556Z"
    }
   },
   "outputs": [],
   "source": [
    "# convert test dataset to json\n",
    "data=json.dumps( df_test.to_dict( orient='records' ) )"
   ]
  },
  {
   "cell_type": "code",
   "execution_count": 103,
   "id": "4b8aa7ff",
   "metadata": {
    "ExecuteTime": {
     "end_time": "2022-08-03T15:36:55.551092Z",
     "start_time": "2022-08-03T15:36:55.539085Z"
    }
   },
   "outputs": [
    {
     "data": {
      "text/plain": [
       "'[{\"id\": 341275, \"gender\": \"Female\", \"age\": 23, \"region_code\": 50.0, \"policy_sales_channel\": 152.0, \"driving_license\": 1, \"vehicle_age\": \"below_1_year\", \"vehicle_damage\": 0, \"previously_insured\": 1, \"annual_premium\": 31895.0, \"vintage\": 290}, {\"id\": 118227, \"gender\": \"Female\", \"age\": 36, \"region_code\": 13.0, \"policy_sales_channel\": 26.0, \"driving_license\": 1, \"vehicle_age\": \"between_1_2_year\", \"vehicle_damage\": 1, \"previously_insured\": 0, \"annual_premium\": 26055.0, \"vintage\": 14}, {\"id\": 348137, \"gender\": \"Female\", \"age\": 77, \"region_code\": 6.0, \"policy_sales_channel\": 124.0, \"driving_license\": 1, \"vehicle_age\": \"between_1_2_year\", \"vehicle_damage\": 0, \"previously_insured\": 1, \"annual_premium\": 33546.0, \"vintage\": 74}, {\"id\": 251109, \"gender\": \"Female\", \"age\": 41, \"region_code\": 47.0, \"policy_sales_channel\": 124.0, \"driving_license\": 1, \"vehicle_age\": \"between_1_2_year\", \"vehicle_damage\": 1, \"previously_insured\": 0, \"annual_premium\": 26076.0, \"vintage\": 245}, {\"id\": 64725, \"gender\": \"Female\", \"age\": 21, \"region_code\": 23.0, \"policy_sales_channel\": 152.0, \"driving_license\": 1, \"vehicle_age\": \"below_1_year\", \"vehicle_damage\": 0, \"previously_insured\": 1, \"annual_premium\": 30081.0, \"vintage\": 253}, {\"id\": 131423, \"gender\": \"Female\", \"age\": 31, \"region_code\": 29.0, \"policy_sales_channel\": 152.0, \"driving_license\": 1, \"vehicle_age\": \"below_1_year\", \"vehicle_damage\": 0, \"previously_insured\": 1, \"annual_premium\": 35614.0, \"vintage\": 89}, {\"id\": 336527, \"gender\": \"Male\", \"age\": 44, \"region_code\": 28.0, \"policy_sales_channel\": 157.0, \"driving_license\": 1, \"vehicle_age\": \"between_1_2_year\", \"vehicle_damage\": 1, \"previously_insured\": 0, \"annual_premium\": 2630.0, \"vintage\": 72}, {\"id\": 31911, \"gender\": \"Female\", \"age\": 45, \"region_code\": 28.0, \"policy_sales_channel\": 26.0, \"driving_license\": 1, \"vehicle_age\": \"between_1_2_year\", \"vehicle_damage\": 1, \"previously_insured\": 0, \"annual_premium\": 42243.0, \"vintage\": 135}, {\"id\": 252484, \"gender\": \"Male\", \"age\": 47, \"region_code\": 37.0, \"policy_sales_channel\": 26.0, \"driving_license\": 1, \"vehicle_age\": \"between_1_2_year\", \"vehicle_damage\": 1, \"previously_insured\": 0, \"annual_premium\": 34861.0, \"vintage\": 19}, {\"id\": 364066, \"gender\": \"Male\", \"age\": 26, \"region_code\": 28.0, \"policy_sales_channel\": 152.0, \"driving_license\": 1, \"vehicle_age\": \"below_1_year\", \"vehicle_damage\": 1, \"previously_insured\": 0, \"annual_premium\": 31421.0, \"vintage\": 54}]'"
      ]
     },
     "execution_count": 103,
     "metadata": {},
     "output_type": "execute_result"
    }
   ],
   "source": [
    "data"
   ]
  },
  {
   "cell_type": "code",
   "execution_count": null,
   "id": "2c4f1e44",
   "metadata": {
    "ExecuteTime": {
     "start_time": "2022-08-03T15:43:11.736Z"
    }
   },
   "outputs": [],
   "source": [
    "# API CALL \n",
    "\n",
    "url = 'http://192.168.100.78:5000/predict'\n",
    "header = { 'Content-type':'application/json'}\n",
    "\n",
    "r = requests.post(url, data=data, headers=header)\n",
    "print(f'Status Code {r.status_code}')"
   ]
  },
  {
   "cell_type": "code",
   "execution_count": null,
   "id": "058c4310",
   "metadata": {
    "ExecuteTime": {
     "end_time": "2022-08-03T15:36:44.527415Z",
     "start_time": "2022-08-03T15:36:40.317041Z"
    }
   },
   "outputs": [],
   "source": []
  },
  {
   "cell_type": "code",
   "execution_count": null,
   "id": "f60ffaa6",
   "metadata": {
    "ExecuteTime": {
     "start_time": "2022-08-03T15:40:15.699Z"
    }
   },
   "outputs": [],
   "source": [
    "df1 = pd.Dataframe(r.json(), columns=r.json()[0].keys())\n",
    "df1.sort_values( 'score', ascending=False ).head()"
   ]
  },
  {
   "cell_type": "code",
   "execution_count": null,
   "id": "f8fdedf9",
   "metadata": {},
   "outputs": [],
   "source": []
  }
 ],
 "metadata": {
  "kernelspec": {
   "display_name": "Python 3 (ipykernel)",
   "language": "python",
   "name": "python3"
  },
  "language_info": {
   "codemirror_mode": {
    "name": "ipython",
    "version": 3
   },
   "file_extension": ".py",
   "mimetype": "text/x-python",
   "name": "python",
   "nbconvert_exporter": "python",
   "pygments_lexer": "ipython3",
   "version": "3.10.5"
  }
 },
 "nbformat": 4,
 "nbformat_minor": 5
}
